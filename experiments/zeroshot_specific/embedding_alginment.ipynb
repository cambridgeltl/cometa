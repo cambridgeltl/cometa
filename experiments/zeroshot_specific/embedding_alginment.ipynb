{
 "cells": [
  {
   "cell_type": "markdown",
   "metadata": {},
   "source": [
    "## Prelims"
   ]
  },
  {
   "cell_type": "markdown",
   "metadata": {},
   "source": [
    "### configs"
   ]
  },
  {
   "cell_type": "code",
   "execution_count": 1,
   "metadata": {},
   "outputs": [],
   "source": [
    "GPU_INDEX=0\n",
    "DATA_DIR=\"../../data/splits/zeroshot_specific/\"\n",
    "FULL_CHV_PATH=\"../../data/chv.csv\"\n",
    "#FEATURE_PATH=\"../../data/precomputed_features/\"\n",
    "FEATURE_PATH=\"/mnt/HDD_2T/data_Marco/\"\n",
    "SNOMED_PATH = \"../../data/SnomedCT_201907/\""
   ]
  },
  {
   "cell_type": "markdown",
   "metadata": {},
   "source": [
    "### imports"
   ]
  },
  {
   "cell_type": "code",
   "execution_count": 2,
   "metadata": {},
   "outputs": [],
   "source": [
    "%load_ext autoreload\n",
    "%autoreload 2\n",
    "\n",
    "import torch\n",
    "import sys\n",
    "import os\n",
    "sys.path.insert(1, os.path.join(sys.path[0], '../../'))\n",
    "from src.data import *\n",
    "from src.loss import *\n",
    "from src.models import *\n",
    "from src.evaluation import *\n",
    "from src.train import *"
   ]
  },
  {
   "cell_type": "code",
   "execution_count": 3,
   "metadata": {},
   "outputs": [
    {
     "data": {
      "text/plain": [
       "<torch._C.Generator at 0x7f30b4129f90>"
      ]
     },
     "execution_count": 3,
     "metadata": {},
     "output_type": "execute_result"
    }
   ],
   "source": [
    "torch.manual_seed(2020)"
   ]
  },
  {
   "cell_type": "markdown",
   "metadata": {},
   "source": [
    "### load some dicts (to be used later)"
   ]
  },
  {
   "cell_type": "code",
   "execution_count": 4,
   "metadata": {},
   "outputs": [],
   "source": [
    "# load SNOMED graph\n",
    "from data.Snomed import Snomed\n",
    "snomed = Snomed(SNOMED_PATH, taxonomy=False)\n",
    "snomed.load_snomed()"
   ]
  },
  {
   "cell_type": "code",
   "execution_count": 5,
   "metadata": {},
   "outputs": [],
   "source": [
    "# create surface_to_snomed_id dict\n",
    "SF2ID = build_surface_to_snomed_id(snomed)"
   ]
  },
  {
   "cell_type": "code",
   "execution_count": 6,
   "metadata": {},
   "outputs": [],
   "source": [
    "# create testset_row_index_to_ed_dict dict\n",
    "ED_DICT = pkl.load(open(os.path.join(FEATURE_PATH,\"term_ed_dic_zeroshot_specific.pkl\"),\"rb\"))"
   ]
  },
  {
   "cell_type": "markdown",
   "metadata": {},
   "source": [
    "## Experiments"
   ]
  },
  {
   "cell_type": "markdown",
   "metadata": {},
   "source": [
    "### BERT align"
   ]
  },
  {
   "cell_type": "markdown",
   "metadata": {},
   "source": [
    "#### static term -> surface"
   ]
  },
  {
   "cell_type": "code",
   "execution_count": 11,
   "metadata": {
    "scrolled": true
   },
   "outputs": [
    {
     "name": "stdout",
     "output_type": "stream",
     "text": [
      "[target embeddings loaded, search space size: 350830]\n"
     ]
    }
   ],
   "source": [
    "# input: static term\n",
    "chv_train_path = os.path.join(DATA_DIR, 'train.csv')\n",
    "chv_dev_path = os.path.join(DATA_DIR, 'dev.csv')\n",
    "chv_test_path = os.path.join(DATA_DIR, 'test.csv')\n",
    "snomed_vec_path = os.path.join(FEATURE_PATH, \"snomed_surface_bert_ts100k_embeddings_all_names_mean_full_new.pkl\")\n",
    "term_vec_path = os.path.join(FEATURE_PATH,\"chv_plain_term_embeddings_BERTbr_ts100k.pkl\")\n",
    "\n",
    "train_loader, _ = get_loader_single(FULL_CHV_PATH, chv_train_path, \n",
    "                                    term_vec_path, snomed_vec_path, \n",
    "                                    batch_size=64, shuffle=True, \n",
    "                                    num_workers=10, gran=\"specific\")\n",
    "val_loader, valset = get_loader_single(FULL_CHV_PATH, chv_dev_path,\n",
    "                                       term_vec_path, snomed_vec_path, \n",
    "                                       batch_size=64, shuffle=False, \n",
    "                                       num_workers=10, gran=\"specific\")\n",
    "test_loader, testset = get_loader_single(FULL_CHV_PATH, chv_test_path, \n",
    "                                         term_vec_path, snomed_vec_path, \n",
    "                                         batch_size=64, shuffle=False, \n",
    "                                         num_workers=10, gran=\"specific\", \n",
    "                                         load_target=True)"
   ]
  },
  {
   "cell_type": "code",
   "execution_count": 12,
   "metadata": {
    "scrolled": true
   },
   "outputs": [
    {
     "name": "stdout",
     "output_type": "stream",
     "text": [
      "[epoch 0][dev ] Acc@1: 0.000 Acc@10: 0.000 Acc@100: 0.000 AccSum: 0.000\n",
      "[epoch 1][dev ] Acc@1: 0.064 Acc@10: 0.185 Acc@100: 0.444 AccSum: 0.694\n",
      "[epoch 1][test] Acc@1: 0.062 Acc@10: 0.201 Acc@100: 0.431 AccSum: 0.694\n",
      "[best epoch: 1]\n",
      "[epoch 2][dev ] Acc@1: 0.121 Acc@10: 0.323 Acc@100: 0.537 AccSum: 0.981\n",
      "[epoch 2][test] Acc@1: 0.115 Acc@10: 0.333 Acc@100: 0.538 AccSum: 0.986\n",
      "[best epoch: 2]\n",
      "[epoch 3][dev ] Acc@1: 0.189 Acc@10: 0.408 Acc@100: 0.609 AccSum: 1.205\n",
      "[epoch 3][test] Acc@1: 0.186 Acc@10: 0.407 Acc@100: 0.596 AccSum: 1.189\n",
      "[best epoch: 3]\n",
      "[epoch 4][dev ] Acc@1: 0.171 Acc@10: 0.403 Acc@100: 0.612 AccSum: 1.186\n",
      "[epoch 5][dev ] Acc@1: 0.186 Acc@10: 0.420 Acc@100: 0.613 AccSum: 1.220\n",
      "[epoch 5][test] Acc@1: 0.196 Acc@10: 0.407 Acc@100: 0.604 AccSum: 1.207\n",
      "[best epoch: 5]\n",
      "[epoch 6][dev ] Acc@1: 0.205 Acc@10: 0.426 Acc@100: 0.624 AccSum: 1.255\n",
      "[epoch 6][test] Acc@1: 0.196 Acc@10: 0.409 Acc@100: 0.611 AccSum: 1.217\n",
      "[best epoch: 6]\n",
      "[epoch 7][dev ] Acc@1: 0.204 Acc@10: 0.440 Acc@100: 0.627 AccSum: 1.272\n",
      "[epoch 7][test] Acc@1: 0.213 Acc@10: 0.424 Acc@100: 0.619 AccSum: 1.255\n",
      "[best epoch: 7]\n",
      "[epoch 8][dev ] Acc@1: 0.207 Acc@10: 0.462 Acc@100: 0.640 AccSum: 1.309\n",
      "[epoch 8][test] Acc@1: 0.219 Acc@10: 0.436 Acc@100: 0.637 AccSum: 1.292\n",
      "[best epoch: 8]\n",
      "[epoch 9][dev ] Acc@1: 0.224 Acc@10: 0.451 Acc@100: 0.644 AccSum: 1.319\n",
      "[epoch 9][test] Acc@1: 0.217 Acc@10: 0.437 Acc@100: 0.633 AccSum: 1.287\n",
      "[best epoch: 9]\n",
      "[epoch 10][dev ] Acc@1: 0.231 Acc@10: 0.467 Acc@100: 0.651 AccSum: 1.349\n",
      "[epoch 10][test] Acc@1: 0.223 Acc@10: 0.444 Acc@100: 0.641 AccSum: 1.309\n",
      "[best epoch: 10]\n",
      "[epoch 11][dev ] Acc@1: 0.225 Acc@10: 0.470 Acc@100: 0.655 AccSum: 1.351\n",
      "[epoch 11][test] Acc@1: 0.228 Acc@10: 0.452 Acc@100: 0.639 AccSum: 1.319\n",
      "[best epoch: 11]\n",
      "[epoch 12][dev ] Acc@1: 0.236 Acc@10: 0.480 Acc@100: 0.654 AccSum: 1.369\n",
      "[epoch 12][test] Acc@1: 0.230 Acc@10: 0.453 Acc@100: 0.636 AccSum: 1.319\n",
      "[best epoch: 12]\n",
      "[epoch 13][dev ] Acc@1: 0.253 Acc@10: 0.482 Acc@100: 0.664 AccSum: 1.398\n",
      "[epoch 13][test] Acc@1: 0.231 Acc@10: 0.461 Acc@100: 0.642 AccSum: 1.334\n",
      "[best epoch: 13]\n",
      "[epoch 14][dev ] Acc@1: 0.256 Acc@10: 0.473 Acc@100: 0.664 AccSum: 1.393\n",
      "[epoch 15][dev ] Acc@1: 0.256 Acc@10: 0.477 Acc@100: 0.661 AccSum: 1.394\n",
      "[epoch 16][dev ] Acc@1: 0.251 Acc@10: 0.486 Acc@100: 0.661 AccSum: 1.398\n",
      "[epoch 17][dev ] Acc@1: 0.254 Acc@10: 0.486 Acc@100: 0.663 AccSum: 1.402\n",
      "[epoch 17][test] Acc@1: 0.236 Acc@10: 0.465 Acc@100: 0.645 AccSum: 1.346\n",
      "[best epoch: 17]\n",
      "[epoch 18][dev ] Acc@1: 0.250 Acc@10: 0.477 Acc@100: 0.658 AccSum: 1.386\n",
      "[epoch 19][dev ] Acc@1: 0.256 Acc@10: 0.480 Acc@100: 0.658 AccSum: 1.394\n",
      "[epoch 20][dev ] Acc@1: 0.258 Acc@10: 0.488 Acc@100: 0.659 AccSum: 1.405\n",
      "[epoch 20][test] Acc@1: 0.237 Acc@10: 0.469 Acc@100: 0.648 AccSum: 1.354\n",
      "[best epoch: 20]\n",
      "[epoch 21][dev ] Acc@1: 0.256 Acc@10: 0.491 Acc@100: 0.661 AccSum: 1.407\n",
      "[epoch 21][test] Acc@1: 0.242 Acc@10: 0.469 Acc@100: 0.652 AccSum: 1.363\n",
      "[best epoch: 21]\n",
      "[epoch 22][dev ] Acc@1: 0.256 Acc@10: 0.491 Acc@100: 0.662 AccSum: 1.408\n",
      "[epoch 22][test] Acc@1: 0.239 Acc@10: 0.468 Acc@100: 0.650 AccSum: 1.357\n",
      "[best epoch: 22]\n",
      "[epoch 23][dev ] Acc@1: 0.255 Acc@10: 0.489 Acc@100: 0.660 AccSum: 1.404\n",
      "[epoch 24][dev ] Acc@1: 0.259 Acc@10: 0.493 Acc@100: 0.661 AccSum: 1.413\n",
      "[epoch 24][test] Acc@1: 0.245 Acc@10: 0.471 Acc@100: 0.653 AccSum: 1.369\n",
      "[best epoch: 24]\n",
      "[epoch 25][dev ] Acc@1: 0.265 Acc@10: 0.499 Acc@100: 0.658 AccSum: 1.422\n",
      "[epoch 25][test] Acc@1: 0.242 Acc@10: 0.472 Acc@100: 0.652 AccSum: 1.366\n",
      "[best epoch: 25]\n",
      "[epoch 26][dev ] Acc@1: 0.267 Acc@10: 0.500 Acc@100: 0.663 AccSum: 1.429\n",
      "[epoch 26][test] Acc@1: 0.237 Acc@10: 0.471 Acc@100: 0.652 AccSum: 1.360\n",
      "[best epoch: 26]\n",
      "[epoch 27][dev ] Acc@1: 0.259 Acc@10: 0.492 Acc@100: 0.661 AccSum: 1.412\n",
      "[epoch 28][dev ] Acc@1: 0.259 Acc@10: 0.493 Acc@100: 0.661 AccSum: 1.413\n",
      "[epoch 29][dev ] Acc@1: 0.264 Acc@10: 0.496 Acc@100: 0.661 AccSum: 1.420\n",
      "[epoch 30][dev ] Acc@1: 0.259 Acc@10: 0.497 Acc@100: 0.661 AccSum: 1.417\n",
      "[epoch 31][dev ] Acc@1: 0.256 Acc@10: 0.496 Acc@100: 0.661 AccSum: 1.413\n",
      "[epoch 32][dev ] Acc@1: 0.256 Acc@10: 0.498 Acc@100: 0.661 AccSum: 1.415\n",
      "[epoch 33][dev ] Acc@1: 0.261 Acc@10: 0.500 Acc@100: 0.663 AccSum: 1.423\n",
      "[epoch 34][dev ] Acc@1: 0.261 Acc@10: 0.498 Acc@100: 0.660 AccSum: 1.418\n",
      "[epoch 35][dev ] Acc@1: 0.261 Acc@10: 0.498 Acc@100: 0.660 AccSum: 1.418\n",
      "[epoch 36][dev ] Acc@1: 0.258 Acc@10: 0.502 Acc@100: 0.663 AccSum: 1.422\n",
      "[epoch 37][dev ] Acc@1: 0.255 Acc@10: 0.500 Acc@100: 0.663 AccSum: 1.418\n",
      "[epoch 38][dev ] Acc@1: 0.256 Acc@10: 0.502 Acc@100: 0.664 AccSum: 1.422\n",
      "[epoch 39][dev ] Acc@1: 0.253 Acc@10: 0.502 Acc@100: 0.662 AccSum: 1.418\n",
      "[epoch 40][dev ] Acc@1: 0.252 Acc@10: 0.504 Acc@100: 0.665 AccSum: 1.421\n",
      "[epoch 41][dev ] Acc@1: 0.253 Acc@10: 0.505 Acc@100: 0.664 AccSum: 1.421\n",
      "[epoch 42][dev ] Acc@1: 0.251 Acc@10: 0.503 Acc@100: 0.662 AccSum: 1.417\n",
      "[epoch 43][dev ] Acc@1: 0.253 Acc@10: 0.500 Acc@100: 0.662 AccSum: 1.416\n",
      "[epoch 44][dev ] Acc@1: 0.255 Acc@10: 0.498 Acc@100: 0.664 AccSum: 1.416\n",
      "[epoch 45][dev ] Acc@1: 0.256 Acc@10: 0.500 Acc@100: 0.667 AccSum: 1.423\n",
      "[epoch 46][dev ] Acc@1: 0.255 Acc@10: 0.499 Acc@100: 0.668 AccSum: 1.422\n",
      "[epoch 47][dev ] Acc@1: 0.256 Acc@10: 0.498 Acc@100: 0.667 AccSum: 1.420\n",
      "[epoch 48][dev ] Acc@1: 0.256 Acc@10: 0.500 Acc@100: 0.665 AccSum: 1.420\n",
      "[epoch 49][dev ] Acc@1: 0.256 Acc@10: 0.500 Acc@100: 0.665 AccSum: 1.421\n",
      "[epoch 50][dev ] Acc@1: 0.254 Acc@10: 0.500 Acc@100: 0.665 AccSum: 1.420\n"
     ]
    }
   ],
   "source": [
    "model = fc_aligner(input_size=768, target_size=768).cuda(GPU_INDEX)\n",
    "train_params = model.parameters()\n",
    "optimizer = torch.optim.AdamW(train_params, lr=1e-4)\n",
    "criterion = TripletLoss(margin=0.2, max_violation=True)\n",
    "\n",
    "best_sd = train(model, train_params, optimizer, criterion, \\\n",
    "      train_loader, val_loader, valset, test_loader, \\\n",
    "      testset, num_epoch=50, dor=0.0)"
   ]
  },
  {
   "cell_type": "code",
   "execution_count": 13,
   "metadata": {},
   "outputs": [
    {
     "data": {
      "text/plain": [
       "fc_aligner(\n",
       "  (fc1): Linear(in_features=768, out_features=768, bias=True)\n",
       ")"
      ]
     },
     "execution_count": 13,
     "metadata": {},
     "output_type": "execute_result"
    }
   ],
   "source": [
    "save_path = \"bert_static_term_to_surface_state_dict.pkl\"\n",
    "torch.save(model.state_dict(), save_path)\n",
    "model = fc_aligner(input_size=768, target_size=768).cuda(GPU_INDEX)\n",
    "model.load_state_dict(torch.load(save_path))\n",
    "model.eval()"
   ]
  },
  {
   "cell_type": "code",
   "execution_count": 14,
   "metadata": {},
   "outputs": [
    {
     "data": {
      "application/vnd.jupyter.widget-view+json": {
       "model_id": "c4bcfcf8bd9041a0baf4017872a67932",
       "version_major": 2,
       "version_minor": 0
      },
      "text/plain": [
       "HBox(children=(HTML(value=''), FloatProgress(value=0.0, max=34.0), HTML(value='')))"
      ]
     },
     "metadata": {},
     "output_type": "display_data"
    },
    {
     "name": "stdout",
     "output_type": "stream",
     "text": [
      "\n",
      "MRR: 0.319\n"
     ]
    }
   ],
   "source": [
    "mrr = evalMRR(test_loader, model, testset.search_space_embeddings, bsz=128)\n",
    "print (\"MRR: %.3f\" % mrr)\n",
    "\n",
    "# gds = evalGD(test_loader, testset, model, topk=10, dor=0.0, bsz=128)\n",
    "# print (\"MGRD: %.3f MGRD@10: %.3f\" % gds)"
   ]
  },
  {
   "cell_type": "markdown",
   "metadata": {},
   "source": [
    "#### contextual_term -> surface"
   ]
  },
  {
   "cell_type": "markdown",
   "metadata": {},
   "source": [
    "##### mutlilevel attention"
   ]
  },
  {
   "cell_type": "code",
   "execution_count": 15,
   "metadata": {},
   "outputs": [
    {
     "name": "stdout",
     "output_type": "stream",
     "text": [
      "[target embeddings loaded, search space size: 350830]\n"
     ]
    }
   ],
   "source": [
    "# input: contextual_term\n",
    "chv_train_path = os.path.join(DATA_DIR, 'train.csv')\n",
    "chv_dev_path = os.path.join(DATA_DIR, 'dev.csv')\n",
    "chv_test_path = os.path.join(DATA_DIR, 'test.csv')\n",
    "snomed_vec_path = os.path.join(FEATURE_PATH, \"snomed_surface_bert_ts100k_embeddings_all_names_mean_full_last_layer_with_ST.pkl\")\n",
    "term_vec_path = os.path.join(FEATURE_PATH,\"chv_term_embeddings_BERTbr_ts100k_multilevel_all.pkl\")\n",
    "\n",
    "train_loader, _ = get_loader_single(FULL_CHV_PATH, chv_train_path,\n",
    "                                    term_vec_path, snomed_vec_path, \n",
    "                                    batch_size=64, shuffle=True, \n",
    "                                    num_workers=10, gran=\"specific\")\n",
    "val_loader, valset = get_loader_single(FULL_CHV_PATH, chv_dev_path, \n",
    "                                       term_vec_path, snomed_vec_path, \n",
    "                                       batch_size=64, shuffle=False, \n",
    "                                       num_workers=10, gran=\"specific\")\n",
    "test_loader, testset = get_loader_single(FULL_CHV_PATH, chv_test_path, \n",
    "                                         term_vec_path, snomed_vec_path, \n",
    "                                         batch_size=64, shuffle=False, \n",
    "                                         num_workers=10, gran=\"specific\", \n",
    "                                         load_target=True)"
   ]
  },
  {
   "cell_type": "code",
   "execution_count": 16,
   "metadata": {
    "scrolled": true
   },
   "outputs": [
    {
     "name": "stdout",
     "output_type": "stream",
     "text": [
      "[epoch 0][dev ] Acc@1: 0.000 Acc@10: 0.000 Acc@100: 0.000 AccSum: 0.000\n",
      "[epoch 1][dev ] Acc@1: 0.181 Acc@10: 0.411 Acc@100: 0.608 AccSum: 1.200\n",
      "[epoch 1][test] Acc@1: 0.173 Acc@10: 0.395 Acc@100: 0.622 AccSum: 1.190\n",
      "[best epoch: 1]\n",
      "[epoch 2][dev ] Acc@1: 0.182 Acc@10: 0.439 Acc@100: 0.641 AccSum: 1.262\n",
      "[epoch 2][test] Acc@1: 0.197 Acc@10: 0.414 Acc@100: 0.630 AccSum: 1.241\n",
      "[best epoch: 2]\n",
      "[epoch 3][dev ] Acc@1: 0.269 Acc@10: 0.511 Acc@100: 0.700 AccSum: 1.480\n",
      "[epoch 3][test] Acc@1: 0.246 Acc@10: 0.496 Acc@100: 0.703 AccSum: 1.445\n",
      "[best epoch: 3]\n",
      "[epoch 4][dev ] Acc@1: 0.212 Acc@10: 0.475 Acc@100: 0.651 AccSum: 1.337\n",
      "[epoch 5][dev ] Acc@1: 0.264 Acc@10: 0.539 Acc@100: 0.703 AccSum: 1.505\n",
      "[epoch 5][test] Acc@1: 0.251 Acc@10: 0.515 Acc@100: 0.710 AccSum: 1.476\n",
      "[best epoch: 5]\n",
      "[epoch 6][dev ] Acc@1: 0.269 Acc@10: 0.532 Acc@100: 0.706 AccSum: 1.507\n",
      "[epoch 6][test] Acc@1: 0.254 Acc@10: 0.508 Acc@100: 0.707 AccSum: 1.468\n",
      "[best epoch: 6]\n",
      "[epoch 7][dev ] Acc@1: 0.251 Acc@10: 0.516 Acc@100: 0.686 AccSum: 1.453\n",
      "[epoch 8][dev ] Acc@1: 0.275 Acc@10: 0.537 Acc@100: 0.705 AccSum: 1.516\n",
      "[epoch 8][test] Acc@1: 0.257 Acc@10: 0.509 Acc@100: 0.710 AccSum: 1.477\n",
      "[best epoch: 8]\n",
      "[epoch 9][dev ] Acc@1: 0.278 Acc@10: 0.545 Acc@100: 0.711 AccSum: 1.533\n",
      "[epoch 9][test] Acc@1: 0.256 Acc@10: 0.511 Acc@100: 0.714 AccSum: 1.481\n",
      "[best epoch: 9]\n",
      "[epoch 10][dev ] Acc@1: 0.265 Acc@10: 0.534 Acc@100: 0.699 AccSum: 1.499\n",
      "[epoch 11][dev ] Acc@1: 0.257 Acc@10: 0.530 Acc@100: 0.698 AccSum: 1.485\n",
      "[epoch 12][dev ] Acc@1: 0.278 Acc@10: 0.544 Acc@100: 0.712 AccSum: 1.534\n",
      "[epoch 12][test] Acc@1: 0.264 Acc@10: 0.514 Acc@100: 0.712 AccSum: 1.490\n",
      "[best epoch: 12]\n",
      "[epoch 13][dev ] Acc@1: 0.282 Acc@10: 0.551 Acc@100: 0.712 AccSum: 1.544\n",
      "[epoch 13][test] Acc@1: 0.268 Acc@10: 0.520 Acc@100: 0.717 AccSum: 1.505\n",
      "[best epoch: 13]\n",
      "[epoch 14][dev ] Acc@1: 0.278 Acc@10: 0.544 Acc@100: 0.709 AccSum: 1.531\n",
      "[epoch 15][dev ] Acc@1: 0.263 Acc@10: 0.530 Acc@100: 0.706 AccSum: 1.498\n",
      "[epoch 16][dev ] Acc@1: 0.262 Acc@10: 0.527 Acc@100: 0.705 AccSum: 1.494\n",
      "[epoch 17][dev ] Acc@1: 0.267 Acc@10: 0.539 Acc@100: 0.714 AccSum: 1.520\n",
      "[epoch 18][dev ] Acc@1: 0.278 Acc@10: 0.553 Acc@100: 0.718 AccSum: 1.548\n",
      "[epoch 18][test] Acc@1: 0.265 Acc@10: 0.514 Acc@100: 0.717 AccSum: 1.496\n",
      "[best epoch: 18]\n",
      "[epoch 19][dev ] Acc@1: 0.279 Acc@10: 0.549 Acc@100: 0.717 AccSum: 1.545\n",
      "[epoch 20][dev ] Acc@1: 0.275 Acc@10: 0.542 Acc@100: 0.716 AccSum: 1.533\n",
      "[epoch 21][dev ] Acc@1: 0.270 Acc@10: 0.534 Acc@100: 0.712 AccSum: 1.516\n",
      "[epoch 22][dev ] Acc@1: 0.264 Acc@10: 0.536 Acc@100: 0.712 AccSum: 1.511\n",
      "[epoch 23][dev ] Acc@1: 0.268 Acc@10: 0.544 Acc@100: 0.715 AccSum: 1.526\n",
      "[epoch 24][dev ] Acc@1: 0.273 Acc@10: 0.548 Acc@100: 0.720 AccSum: 1.540\n",
      "[epoch 25][dev ] Acc@1: 0.276 Acc@10: 0.548 Acc@100: 0.719 AccSum: 1.542\n",
      "[epoch 26][dev ] Acc@1: 0.274 Acc@10: 0.545 Acc@100: 0.716 AccSum: 1.535\n",
      "[epoch 27][dev ] Acc@1: 0.274 Acc@10: 0.542 Acc@100: 0.714 AccSum: 1.529\n",
      "[epoch 28][dev ] Acc@1: 0.272 Acc@10: 0.543 Acc@100: 0.708 AccSum: 1.522\n",
      "[epoch 29][dev ] Acc@1: 0.270 Acc@10: 0.544 Acc@100: 0.711 AccSum: 1.524\n",
      "[epoch 30][dev ] Acc@1: 0.270 Acc@10: 0.545 Acc@100: 0.715 AccSum: 1.530\n",
      "[epoch 31][dev ] Acc@1: 0.272 Acc@10: 0.549 Acc@100: 0.718 AccSum: 1.539\n",
      "[epoch 32][dev ] Acc@1: 0.277 Acc@10: 0.551 Acc@100: 0.719 AccSum: 1.547\n",
      "[epoch 33][dev ] Acc@1: 0.272 Acc@10: 0.549 Acc@100: 0.717 AccSum: 1.537\n",
      "[epoch 34][dev ] Acc@1: 0.269 Acc@10: 0.545 Acc@100: 0.714 AccSum: 1.528\n",
      "[epoch 35][dev ] Acc@1: 0.262 Acc@10: 0.545 Acc@100: 0.712 AccSum: 1.519\n",
      "[epoch 36][dev ] Acc@1: 0.265 Acc@10: 0.547 Acc@100: 0.711 AccSum: 1.523\n",
      "[epoch 37][dev ] Acc@1: 0.271 Acc@10: 0.549 Acc@100: 0.713 AccSum: 1.533\n",
      "[epoch 38][dev ] Acc@1: 0.273 Acc@10: 0.550 Acc@100: 0.715 AccSum: 1.537\n",
      "[epoch 39][dev ] Acc@1: 0.272 Acc@10: 0.549 Acc@100: 0.715 AccSum: 1.535\n",
      "[epoch 40][dev ] Acc@1: 0.272 Acc@10: 0.548 Acc@100: 0.713 AccSum: 1.533\n",
      "[epoch 41][dev ] Acc@1: 0.267 Acc@10: 0.545 Acc@100: 0.712 AccSum: 1.524\n",
      "[epoch 42][dev ] Acc@1: 0.262 Acc@10: 0.541 Acc@100: 0.711 AccSum: 1.514\n",
      "[epoch 43][dev ] Acc@1: 0.261 Acc@10: 0.540 Acc@100: 0.712 AccSum: 1.513\n",
      "[epoch 44][dev ] Acc@1: 0.262 Acc@10: 0.541 Acc@100: 0.713 AccSum: 1.516\n",
      "[epoch 45][dev ] Acc@1: 0.266 Acc@10: 0.548 Acc@100: 0.716 AccSum: 1.529\n",
      "[epoch 46][dev ] Acc@1: 0.266 Acc@10: 0.549 Acc@100: 0.716 AccSum: 1.530\n",
      "[epoch 47][dev ] Acc@1: 0.266 Acc@10: 0.549 Acc@100: 0.714 AccSum: 1.529\n",
      "[epoch 48][dev ] Acc@1: 0.265 Acc@10: 0.546 Acc@100: 0.711 AccSum: 1.522\n",
      "[epoch 49][dev ] Acc@1: 0.264 Acc@10: 0.547 Acc@100: 0.710 AccSum: 1.520\n",
      "[epoch 50][dev ] Acc@1: 0.265 Acc@10: 0.546 Acc@100: 0.710 AccSum: 1.521\n"
     ]
    }
   ],
   "source": [
    "model = multilevel_attention(input_size=768, target_size=768, lin=True).cuda(GPU_INDEX)\n",
    "optimizer = torch.optim.AdamW(model.parameters(), lr=1e-4)\n",
    "criterion = TripletLoss(margin=0.2, max_violation=True, device=GPU_INDEX)\n",
    "\n",
    "best_sd = train(model, model.parameters(), optimizer, criterion, \\\n",
    "      train_loader, val_loader, valset, test_loader, \\\n",
    "      testset, num_epoch=50, dor=0.0, GPU_INDEX=GPU_INDEX)"
   ]
  },
  {
   "cell_type": "code",
   "execution_count": 19,
   "metadata": {},
   "outputs": [
    {
     "data": {
      "text/plain": [
       "multilevel_attention(\n",
       "  (self_attn): SelfAttention()\n",
       "  (fc): Linear(in_features=768, out_features=768, bias=True)\n",
       ")"
      ]
     },
     "execution_count": 19,
     "metadata": {},
     "output_type": "execute_result"
    }
   ],
   "source": [
    "save_path = \"bert_context_term_to_surface_attn_state_dict.pkl\"\n",
    "torch.save(best_sd, save_path)\n",
    "model = multilevel_attention(input_size=768, target_size=768, lin=True).cuda(GPU_INDEX)\n",
    "model.load_state_dict(torch.load(save_path))\n",
    "model.eval()"
   ]
  },
  {
   "cell_type": "code",
   "execution_count": 20,
   "metadata": {},
   "outputs": [
    {
     "data": {
      "application/vnd.jupyter.widget-view+json": {
       "model_id": "a124ca4e5ea1475fb4131d83c7f79dc2",
       "version_major": 2,
       "version_minor": 0
      },
      "text/plain": [
       "HBox(children=(HTML(value=''), FloatProgress(value=0.0, max=34.0), HTML(value='')))"
      ]
     },
     "metadata": {},
     "output_type": "display_data"
    },
    {
     "name": "stdout",
     "output_type": "stream",
     "text": [
      "\n",
      "MRR: 0.349\n"
     ]
    }
   ],
   "source": [
    "mrr = evalMRR(test_loader, model, testset.search_space_embeddings, bsz=128, \\\n",
    "              dumb=True, GPU_INDEX=GPU_INDEX)\n",
    "print (\"MRR: %.3f\" % mrr)\n",
    "\n",
    "# gds = evalGD(test_loader, testset, model, topk=10, dor=0.0, bsz=128, \\\n",
    "#             GPU_INDEX=GPU_INDEX)\n",
    "# print (\"MGD: %.3f MGD@10: %.3f\" % gds)"
   ]
  },
  {
   "cell_type": "markdown",
   "metadata": {},
   "source": [
    "##### linear + relu"
   ]
  },
  {
   "cell_type": "code",
   "execution_count": 21,
   "metadata": {},
   "outputs": [
    {
     "name": "stdout",
     "output_type": "stream",
     "text": [
      "[target embeddings loaded, search space size: 350830]\n"
     ]
    }
   ],
   "source": [
    "# input: contextual_term\n",
    "chv_train_path = os.path.join(DATA_DIR, 'train.csv')\n",
    "chv_dev_path = os.path.join(DATA_DIR, 'dev.csv')\n",
    "chv_test_path = os.path.join(DATA_DIR, 'test.csv')\n",
    "snomed_vec_path = os.path.join(FEATURE_PATH, \"snomed_surface_bert_ts100k_embeddings_all_names_mean_full_new.pkl\")\n",
    "term_vec_path = os.path.join(FEATURE_PATH,\"chv_term_embeddings_BERTbr_ts100k.pkl\")\n",
    "\n",
    "train_loader, _ = get_loader_single(FULL_CHV_PATH, chv_train_path,\n",
    "                                    term_vec_path, snomed_vec_path, \n",
    "                                    batch_size=64, shuffle=True, \n",
    "                                    num_workers=10, gran=\"specific\")\n",
    "val_loader, valset = get_loader_single(FULL_CHV_PATH, chv_dev_path, \n",
    "                                       term_vec_path, snomed_vec_path, \n",
    "                                       batch_size=64, shuffle=False, \n",
    "                                       num_workers=10, gran=\"specific\")\n",
    "test_loader, testset = get_loader_single(FULL_CHV_PATH, chv_test_path, \n",
    "                                         term_vec_path, snomed_vec_path, \n",
    "                                         batch_size=64, shuffle=False, \n",
    "                                         num_workers=10, gran=\"specific\", \n",
    "                                         load_target=True)"
   ]
  },
  {
   "cell_type": "code",
   "execution_count": 22,
   "metadata": {
    "scrolled": true
   },
   "outputs": [
    {
     "name": "stdout",
     "output_type": "stream",
     "text": [
      "[epoch 0][dev ] Acc@1: 0.000 Acc@10: 0.000 Acc@100: 0.000 AccSum: 0.000\n",
      "[epoch 1][dev ] Acc@1: 0.113 Acc@10: 0.308 Acc@100: 0.539 AccSum: 0.960\n",
      "[epoch 1][test] Acc@1: 0.135 Acc@10: 0.324 Acc@100: 0.550 AccSum: 1.009\n",
      "[best epoch: 1]\n",
      "[epoch 2][dev ] Acc@1: 0.172 Acc@10: 0.401 Acc@100: 0.609 AccSum: 1.182\n",
      "[epoch 2][test] Acc@1: 0.168 Acc@10: 0.392 Acc@100: 0.616 AccSum: 1.176\n",
      "[best epoch: 2]\n",
      "[epoch 3][dev ] Acc@1: 0.202 Acc@10: 0.427 Acc@100: 0.632 AccSum: 1.261\n",
      "[epoch 3][test] Acc@1: 0.192 Acc@10: 0.407 Acc@100: 0.633 AccSum: 1.232\n",
      "[best epoch: 3]\n",
      "[epoch 4][dev ] Acc@1: 0.218 Acc@10: 0.444 Acc@100: 0.653 AccSum: 1.315\n",
      "[epoch 4][test] Acc@1: 0.204 Acc@10: 0.422 Acc@100: 0.652 AccSum: 1.279\n",
      "[best epoch: 4]\n",
      "[epoch 5][dev ] Acc@1: 0.226 Acc@10: 0.457 Acc@100: 0.661 AccSum: 1.344\n",
      "[epoch 5][test] Acc@1: 0.212 Acc@10: 0.437 Acc@100: 0.662 AccSum: 1.311\n",
      "[best epoch: 5]\n",
      "[epoch 6][dev ] Acc@1: 0.230 Acc@10: 0.464 Acc@100: 0.657 AccSum: 1.351\n",
      "[epoch 6][test] Acc@1: 0.216 Acc@10: 0.439 Acc@100: 0.657 AccSum: 1.312\n",
      "[best epoch: 6]\n",
      "[epoch 7][dev ] Acc@1: 0.238 Acc@10: 0.472 Acc@100: 0.665 AccSum: 1.375\n",
      "[epoch 7][test] Acc@1: 0.217 Acc@10: 0.441 Acc@100: 0.662 AccSum: 1.320\n",
      "[best epoch: 7]\n",
      "[epoch 8][dev ] Acc@1: 0.235 Acc@10: 0.474 Acc@100: 0.671 AccSum: 1.380\n",
      "[epoch 8][test] Acc@1: 0.217 Acc@10: 0.444 Acc@100: 0.673 AccSum: 1.334\n",
      "[best epoch: 8]\n",
      "[epoch 9][dev ] Acc@1: 0.240 Acc@10: 0.480 Acc@100: 0.673 AccSum: 1.393\n",
      "[epoch 9][test] Acc@1: 0.221 Acc@10: 0.447 Acc@100: 0.674 AccSum: 1.342\n",
      "[best epoch: 9]\n",
      "[epoch 10][dev ] Acc@1: 0.237 Acc@10: 0.481 Acc@100: 0.668 AccSum: 1.386\n",
      "[epoch 11][dev ] Acc@1: 0.237 Acc@10: 0.477 Acc@100: 0.672 AccSum: 1.387\n",
      "[epoch 12][dev ] Acc@1: 0.246 Acc@10: 0.487 Acc@100: 0.674 AccSum: 1.407\n",
      "[epoch 12][test] Acc@1: 0.220 Acc@10: 0.449 Acc@100: 0.672 AccSum: 1.341\n",
      "[best epoch: 12]\n",
      "[epoch 13][dev ] Acc@1: 0.248 Acc@10: 0.488 Acc@100: 0.677 AccSum: 1.412\n",
      "[epoch 13][test] Acc@1: 0.220 Acc@10: 0.454 Acc@100: 0.676 AccSum: 1.349\n",
      "[best epoch: 13]\n",
      "[epoch 14][dev ] Acc@1: 0.248 Acc@10: 0.491 Acc@100: 0.677 AccSum: 1.416\n",
      "[epoch 14][test] Acc@1: 0.223 Acc@10: 0.454 Acc@100: 0.675 AccSum: 1.351\n",
      "[best epoch: 14]\n",
      "[epoch 15][dev ] Acc@1: 0.248 Acc@10: 0.488 Acc@100: 0.676 AccSum: 1.412\n",
      "[epoch 16][dev ] Acc@1: 0.253 Acc@10: 0.488 Acc@100: 0.673 AccSum: 1.414\n",
      "[epoch 17][dev ] Acc@1: 0.250 Acc@10: 0.487 Acc@100: 0.674 AccSum: 1.411\n",
      "[epoch 18][dev ] Acc@1: 0.251 Acc@10: 0.491 Acc@100: 0.676 AccSum: 1.418\n",
      "[epoch 18][test] Acc@1: 0.222 Acc@10: 0.453 Acc@100: 0.675 AccSum: 1.350\n",
      "[best epoch: 18]\n",
      "[epoch 19][dev ] Acc@1: 0.252 Acc@10: 0.492 Acc@100: 0.678 AccSum: 1.423\n",
      "[epoch 19][test] Acc@1: 0.224 Acc@10: 0.455 Acc@100: 0.675 AccSum: 1.354\n",
      "[best epoch: 19]\n",
      "[epoch 20][dev ] Acc@1: 0.253 Acc@10: 0.494 Acc@100: 0.678 AccSum: 1.425\n",
      "[epoch 20][test] Acc@1: 0.226 Acc@10: 0.457 Acc@100: 0.678 AccSum: 1.362\n",
      "[best epoch: 20]\n",
      "[epoch 21][dev ] Acc@1: 0.251 Acc@10: 0.497 Acc@100: 0.678 AccSum: 1.426\n",
      "[epoch 21][test] Acc@1: 0.226 Acc@10: 0.457 Acc@100: 0.678 AccSum: 1.361\n",
      "[best epoch: 21]\n",
      "[epoch 22][dev ] Acc@1: 0.248 Acc@10: 0.495 Acc@100: 0.679 AccSum: 1.422\n",
      "[epoch 23][dev ] Acc@1: 0.249 Acc@10: 0.491 Acc@100: 0.678 AccSum: 1.417\n",
      "[epoch 24][dev ] Acc@1: 0.252 Acc@10: 0.491 Acc@100: 0.678 AccSum: 1.421\n",
      "[epoch 25][dev ] Acc@1: 0.252 Acc@10: 0.492 Acc@100: 0.677 AccSum: 1.421\n",
      "[epoch 26][dev ] Acc@1: 0.253 Acc@10: 0.491 Acc@100: 0.679 AccSum: 1.423\n",
      "[epoch 27][dev ] Acc@1: 0.256 Acc@10: 0.494 Acc@100: 0.678 AccSum: 1.428\n",
      "[epoch 27][test] Acc@1: 0.226 Acc@10: 0.460 Acc@100: 0.678 AccSum: 1.363\n",
      "[best epoch: 27]\n",
      "[epoch 28][dev ] Acc@1: 0.254 Acc@10: 0.494 Acc@100: 0.679 AccSum: 1.428\n",
      "[epoch 29][dev ] Acc@1: 0.254 Acc@10: 0.495 Acc@100: 0.681 AccSum: 1.430\n",
      "[epoch 29][test] Acc@1: 0.226 Acc@10: 0.462 Acc@100: 0.677 AccSum: 1.365\n",
      "[best epoch: 29]\n",
      "[epoch 30][dev ] Acc@1: 0.255 Acc@10: 0.495 Acc@100: 0.681 AccSum: 1.430\n",
      "[epoch 31][dev ] Acc@1: 0.254 Acc@10: 0.494 Acc@100: 0.682 AccSum: 1.429\n",
      "[epoch 32][dev ] Acc@1: 0.252 Acc@10: 0.493 Acc@100: 0.683 AccSum: 1.428\n",
      "[epoch 33][dev ] Acc@1: 0.248 Acc@10: 0.490 Acc@100: 0.682 AccSum: 1.420\n",
      "[epoch 34][dev ] Acc@1: 0.248 Acc@10: 0.492 Acc@100: 0.680 AccSum: 1.420\n",
      "[epoch 35][dev ] Acc@1: 0.250 Acc@10: 0.495 Acc@100: 0.679 AccSum: 1.424\n",
      "[epoch 36][dev ] Acc@1: 0.254 Acc@10: 0.495 Acc@100: 0.680 AccSum: 1.428\n",
      "[epoch 37][dev ] Acc@1: 0.254 Acc@10: 0.496 Acc@100: 0.680 AccSum: 1.430\n",
      "[epoch 38][dev ] Acc@1: 0.258 Acc@10: 0.496 Acc@100: 0.682 AccSum: 1.436\n",
      "[epoch 38][test] Acc@1: 0.227 Acc@10: 0.463 Acc@100: 0.678 AccSum: 1.368\n",
      "[best epoch: 38]\n",
      "[epoch 39][dev ] Acc@1: 0.258 Acc@10: 0.496 Acc@100: 0.682 AccSum: 1.436\n",
      "[epoch 40][dev ] Acc@1: 0.256 Acc@10: 0.495 Acc@100: 0.682 AccSum: 1.433\n",
      "[epoch 41][dev ] Acc@1: 0.254 Acc@10: 0.494 Acc@100: 0.682 AccSum: 1.430\n",
      "[epoch 42][dev ] Acc@1: 0.254 Acc@10: 0.496 Acc@100: 0.682 AccSum: 1.432\n",
      "[epoch 43][dev ] Acc@1: 0.252 Acc@10: 0.496 Acc@100: 0.682 AccSum: 1.430\n",
      "[epoch 44][dev ] Acc@1: 0.250 Acc@10: 0.497 Acc@100: 0.680 AccSum: 1.427\n",
      "[epoch 45][dev ] Acc@1: 0.250 Acc@10: 0.499 Acc@100: 0.678 AccSum: 1.427\n",
      "[epoch 46][dev ] Acc@1: 0.251 Acc@10: 0.500 Acc@100: 0.680 AccSum: 1.432\n",
      "[epoch 47][dev ] Acc@1: 0.252 Acc@10: 0.501 Acc@100: 0.680 AccSum: 1.434\n",
      "[epoch 48][dev ] Acc@1: 0.253 Acc@10: 0.502 Acc@100: 0.681 AccSum: 1.436\n",
      "[epoch 48][test] Acc@1: 0.227 Acc@10: 0.464 Acc@100: 0.677 AccSum: 1.368\n",
      "[best epoch: 48]\n",
      "[epoch 49][dev ] Acc@1: 0.256 Acc@10: 0.500 Acc@100: 0.683 AccSum: 1.439\n",
      "[epoch 49][test] Acc@1: 0.227 Acc@10: 0.465 Acc@100: 0.677 AccSum: 1.368\n",
      "[best epoch: 49]\n",
      "[epoch 50][dev ] Acc@1: 0.257 Acc@10: 0.497 Acc@100: 0.683 AccSum: 1.437\n"
     ]
    }
   ],
   "source": [
    "model = fc_aligner(input_size=768, target_size=768).cuda(GPU_INDEX)\n",
    "optimizer = torch.optim.AdamW(model.parameters(), lr=1e-4)\n",
    "criterion = TripletLoss(margin=0.2, max_violation=True, device=GPU_INDEX)\n",
    "\n",
    "best_sd = train(model, model.parameters(), optimizer, criterion, \\\n",
    "      train_loader, val_loader, valset, test_loader, \\\n",
    "      testset, num_epoch=50, dor=0.0, GPU_INDEX=GPU_INDEX)"
   ]
  },
  {
   "cell_type": "code",
   "execution_count": 25,
   "metadata": {},
   "outputs": [
    {
     "data": {
      "text/plain": [
       "fc_aligner(\n",
       "  (fc1): Linear(in_features=768, out_features=768, bias=True)\n",
       ")"
      ]
     },
     "execution_count": 25,
     "metadata": {},
     "output_type": "execute_result"
    }
   ],
   "source": [
    "save_path = \"bert_context_term_to_surface_state_dict.pkl\"\n",
    "torch.save(best_sd, save_path)\n",
    "model = fc_aligner(input_size=768, target_size=768).cuda(GPU_INDEX)\n",
    "model.load_state_dict(torch.load(save_path))\n",
    "model.eval()\n",
    "\n",
    "# val_or_test(model, test_loader, testset.search_space_embeddings, \\\n",
    "#                 epoch=-1, typ=\"test\", bsz=128, GPU_INDEX=GPU_INDEX)"
   ]
  },
  {
   "cell_type": "code",
   "execution_count": 26,
   "metadata": {},
   "outputs": [
    {
     "data": {
      "application/vnd.jupyter.widget-view+json": {
       "model_id": "e73f2a663ead4d3d97cefb798551db54",
       "version_major": 2,
       "version_minor": 0
      },
      "text/plain": [
       "HBox(children=(HTML(value=''), FloatProgress(value=0.0, max=34.0), HTML(value='')))"
      ]
     },
     "metadata": {},
     "output_type": "display_data"
    },
    {
     "name": "stdout",
     "output_type": "stream",
     "text": [
      "\n",
      "MRR: 0.308\n"
     ]
    }
   ],
   "source": [
    "mrr = evalMRR(test_loader, model, testset.search_space_embeddings, bsz=128, \\\n",
    "              dumb=True, GPU_INDEX=GPU_INDEX)\n",
    "print (\"MRR: %.3f\" % mrr)\n",
    "\n",
    "# gds = evalGD(test_loader, testset, model, topk=10, dor=0.0, bsz=128, \\\n",
    "#             GPU_INDEX=GPU_INDEX)\n",
    "# print (\"MGD: %.3f MGD@10: %.3f\" % gds)"
   ]
  },
  {
   "cell_type": "markdown",
   "metadata": {},
   "source": [
    "### fasttext align"
   ]
  },
  {
   "cell_type": "markdown",
   "metadata": {},
   "source": [
    "#### term -> surface"
   ]
  },
  {
   "cell_type": "code",
   "execution_count": 27,
   "metadata": {},
   "outputs": [
    {
     "name": "stdout",
     "output_type": "stream",
     "text": [
      "[target embeddings loaded, search space size: 350830]\n"
     ]
    }
   ],
   "source": [
    "chv_train_path = os.path.join(DATA_DIR, 'train.csv')\n",
    "chv_dev_path = os.path.join(DATA_DIR, 'dev.csv')\n",
    "chv_test_path = os.path.join(DATA_DIR, 'test.csv')\n",
    "snomed_vec_path = os.path.join(FEATURE_PATH, \"snomed_surface_fasttext_embeddings_full.pkl\")\n",
    "term_vec_path = os.path.join(FEATURE_PATH,\"fasttext_term_embeddings.pkl\")\n",
    "\n",
    "train_loader, _ = get_loader_single(FULL_CHV_PATH, chv_train_path,\n",
    "                                    term_vec_path, snomed_vec_path, \n",
    "                                    batch_size=64, shuffle=True, \n",
    "                                    num_workers=10, gran=\"specific\")\n",
    "val_loader, valset = get_loader_single(FULL_CHV_PATH, chv_dev_path, \n",
    "                                       term_vec_path, snomed_vec_path, \n",
    "                                       batch_size=64, shuffle=False, \n",
    "                                       num_workers=10, gran=\"specific\")\n",
    "test_loader, testset = get_loader_single(FULL_CHV_PATH, chv_test_path, \n",
    "                                         term_vec_path, snomed_vec_path, \n",
    "                                         batch_size=64, shuffle=False, \n",
    "                                         num_workers=10, gran=\"specific\", \n",
    "                                         load_target=True)"
   ]
  },
  {
   "cell_type": "code",
   "execution_count": 28,
   "metadata": {
    "scrolled": true
   },
   "outputs": [
    {
     "name": "stdout",
     "output_type": "stream",
     "text": [
      "[epoch 0][dev ] Acc@1: 0.000 Acc@10: 0.000 Acc@100: 0.000 AccSum: 0.000\n",
      "[epoch 1][dev ] Acc@1: 0.051 Acc@10: 0.206 Acc@100: 0.465 AccSum: 0.721\n",
      "[epoch 1][test] Acc@1: 0.030 Acc@10: 0.180 Acc@100: 0.443 AccSum: 0.654\n",
      "[best epoch: 1]\n",
      "[epoch 2][dev ] Acc@1: 0.113 Acc@10: 0.345 Acc@100: 0.616 AccSum: 1.074\n",
      "[epoch 2][test] Acc@1: 0.099 Acc@10: 0.329 Acc@100: 0.645 AccSum: 1.074\n",
      "[best epoch: 2]\n",
      "[epoch 3][dev ] Acc@1: 0.130 Acc@10: 0.389 Acc@100: 0.682 AccSum: 1.202\n",
      "[epoch 3][test] Acc@1: 0.121 Acc@10: 0.379 Acc@100: 0.691 AccSum: 1.191\n",
      "[best epoch: 3]\n",
      "[epoch 4][dev ] Acc@1: 0.144 Acc@10: 0.429 Acc@100: 0.706 AccSum: 1.278\n",
      "[epoch 4][test] Acc@1: 0.138 Acc@10: 0.420 Acc@100: 0.731 AccSum: 1.289\n",
      "[best epoch: 4]\n",
      "[epoch 5][dev ] Acc@1: 0.156 Acc@10: 0.466 Acc@100: 0.723 AccSum: 1.345\n",
      "[epoch 5][test] Acc@1: 0.159 Acc@10: 0.449 Acc@100: 0.756 AccSum: 1.364\n",
      "[best epoch: 5]\n",
      "[epoch 6][dev ] Acc@1: 0.162 Acc@10: 0.480 Acc@100: 0.736 AccSum: 1.378\n",
      "[epoch 6][test] Acc@1: 0.160 Acc@10: 0.456 Acc@100: 0.755 AccSum: 1.371\n",
      "[best epoch: 6]\n",
      "[epoch 7][dev ] Acc@1: 0.167 Acc@10: 0.492 Acc@100: 0.740 AccSum: 1.399\n",
      "[epoch 7][test] Acc@1: 0.170 Acc@10: 0.480 Acc@100: 0.763 AccSum: 1.413\n",
      "[best epoch: 7]\n",
      "[epoch 8][dev ] Acc@1: 0.174 Acc@10: 0.493 Acc@100: 0.744 AccSum: 1.412\n",
      "[epoch 8][test] Acc@1: 0.171 Acc@10: 0.491 Acc@100: 0.771 AccSum: 1.433\n",
      "[best epoch: 8]\n",
      "[epoch 9][dev ] Acc@1: 0.174 Acc@10: 0.495 Acc@100: 0.753 AccSum: 1.421\n",
      "[epoch 9][test] Acc@1: 0.182 Acc@10: 0.494 Acc@100: 0.778 AccSum: 1.454\n",
      "[best epoch: 9]\n",
      "[epoch 10][dev ] Acc@1: 0.175 Acc@10: 0.499 Acc@100: 0.756 AccSum: 1.430\n",
      "[epoch 10][test] Acc@1: 0.175 Acc@10: 0.496 Acc@100: 0.774 AccSum: 1.445\n",
      "[best epoch: 10]\n",
      "[epoch 11][dev ] Acc@1: 0.179 Acc@10: 0.502 Acc@100: 0.755 AccSum: 1.436\n",
      "[epoch 11][test] Acc@1: 0.176 Acc@10: 0.504 Acc@100: 0.772 AccSum: 1.452\n",
      "[best epoch: 11]\n",
      "[epoch 12][dev ] Acc@1: 0.179 Acc@10: 0.509 Acc@100: 0.757 AccSum: 1.444\n",
      "[epoch 12][test] Acc@1: 0.183 Acc@10: 0.508 Acc@100: 0.774 AccSum: 1.465\n",
      "[best epoch: 12]\n",
      "[epoch 13][dev ] Acc@1: 0.186 Acc@10: 0.508 Acc@100: 0.760 AccSum: 1.454\n",
      "[epoch 13][test] Acc@1: 0.182 Acc@10: 0.514 Acc@100: 0.778 AccSum: 1.474\n",
      "[best epoch: 13]\n",
      "[epoch 14][dev ] Acc@1: 0.193 Acc@10: 0.509 Acc@100: 0.756 AccSum: 1.458\n",
      "[epoch 14][test] Acc@1: 0.186 Acc@10: 0.509 Acc@100: 0.780 AccSum: 1.475\n",
      "[best epoch: 14]\n",
      "[epoch 15][dev ] Acc@1: 0.184 Acc@10: 0.512 Acc@100: 0.754 AccSum: 1.449\n",
      "[epoch 16][dev ] Acc@1: 0.186 Acc@10: 0.507 Acc@100: 0.758 AccSum: 1.452\n",
      "[epoch 17][dev ] Acc@1: 0.185 Acc@10: 0.514 Acc@100: 0.759 AccSum: 1.458\n",
      "[epoch 18][dev ] Acc@1: 0.188 Acc@10: 0.505 Acc@100: 0.757 AccSum: 1.449\n",
      "[epoch 19][dev ] Acc@1: 0.186 Acc@10: 0.507 Acc@100: 0.754 AccSum: 1.447\n",
      "[epoch 20][dev ] Acc@1: 0.182 Acc@10: 0.510 Acc@100: 0.754 AccSum: 1.445\n",
      "[epoch 21][dev ] Acc@1: 0.180 Acc@10: 0.517 Acc@100: 0.754 AccSum: 1.450\n",
      "[epoch 22][dev ] Acc@1: 0.185 Acc@10: 0.516 Acc@100: 0.751 AccSum: 1.452\n",
      "[epoch 23][dev ] Acc@1: 0.185 Acc@10: 0.520 Acc@100: 0.754 AccSum: 1.459\n",
      "[epoch 23][test] Acc@1: 0.207 Acc@10: 0.520 Acc@100: 0.780 AccSum: 1.507\n",
      "[best epoch: 23]\n",
      "[epoch 24][dev ] Acc@1: 0.199 Acc@10: 0.517 Acc@100: 0.757 AccSum: 1.472\n",
      "[epoch 24][test] Acc@1: 0.208 Acc@10: 0.521 Acc@100: 0.777 AccSum: 1.506\n",
      "[best epoch: 24]\n",
      "[epoch 25][dev ] Acc@1: 0.198 Acc@10: 0.516 Acc@100: 0.754 AccSum: 1.468\n",
      "[epoch 26][dev ] Acc@1: 0.195 Acc@10: 0.514 Acc@100: 0.759 AccSum: 1.468\n",
      "[epoch 27][dev ] Acc@1: 0.194 Acc@10: 0.513 Acc@100: 0.761 AccSum: 1.468\n",
      "[epoch 28][dev ] Acc@1: 0.185 Acc@10: 0.516 Acc@100: 0.755 AccSum: 1.457\n",
      "[epoch 29][dev ] Acc@1: 0.184 Acc@10: 0.510 Acc@100: 0.757 AccSum: 1.451\n",
      "[epoch 30][dev ] Acc@1: 0.183 Acc@10: 0.513 Acc@100: 0.760 AccSum: 1.455\n",
      "[epoch 31][dev ] Acc@1: 0.185 Acc@10: 0.517 Acc@100: 0.760 AccSum: 1.462\n",
      "[epoch 32][dev ] Acc@1: 0.184 Acc@10: 0.514 Acc@100: 0.760 AccSum: 1.458\n",
      "[epoch 33][dev ] Acc@1: 0.182 Acc@10: 0.515 Acc@100: 0.758 AccSum: 1.455\n",
      "[epoch 34][dev ] Acc@1: 0.184 Acc@10: 0.512 Acc@100: 0.757 AccSum: 1.453\n",
      "[epoch 35][dev ] Acc@1: 0.184 Acc@10: 0.513 Acc@100: 0.758 AccSum: 1.455\n",
      "[epoch 36][dev ] Acc@1: 0.190 Acc@10: 0.512 Acc@100: 0.758 AccSum: 1.460\n",
      "[epoch 37][dev ] Acc@1: 0.182 Acc@10: 0.519 Acc@100: 0.760 AccSum: 1.461\n",
      "[epoch 38][dev ] Acc@1: 0.180 Acc@10: 0.522 Acc@100: 0.760 AccSum: 1.461\n",
      "[epoch 39][dev ] Acc@1: 0.177 Acc@10: 0.517 Acc@100: 0.760 AccSum: 1.454\n",
      "[epoch 40][dev ] Acc@1: 0.178 Acc@10: 0.513 Acc@100: 0.757 AccSum: 1.448\n",
      "[epoch 41][dev ] Acc@1: 0.177 Acc@10: 0.510 Acc@100: 0.754 AccSum: 1.441\n",
      "[epoch 42][dev ] Acc@1: 0.180 Acc@10: 0.508 Acc@100: 0.754 AccSum: 1.442\n",
      "[epoch 43][dev ] Acc@1: 0.181 Acc@10: 0.510 Acc@100: 0.746 AccSum: 1.438\n",
      "[epoch 44][dev ] Acc@1: 0.181 Acc@10: 0.513 Acc@100: 0.749 AccSum: 1.444\n",
      "[epoch 45][dev ] Acc@1: 0.182 Acc@10: 0.516 Acc@100: 0.750 AccSum: 1.448\n",
      "[epoch 46][dev ] Acc@1: 0.186 Acc@10: 0.511 Acc@100: 0.756 AccSum: 1.453\n",
      "[epoch 47][dev ] Acc@1: 0.184 Acc@10: 0.511 Acc@100: 0.754 AccSum: 1.450\n",
      "[epoch 48][dev ] Acc@1: 0.182 Acc@10: 0.511 Acc@100: 0.753 AccSum: 1.446\n",
      "[epoch 49][dev ] Acc@1: 0.180 Acc@10: 0.505 Acc@100: 0.751 AccSum: 1.437\n",
      "[epoch 50][dev ] Acc@1: 0.185 Acc@10: 0.508 Acc@100: 0.748 AccSum: 1.442\n"
     ]
    }
   ],
   "source": [
    "model = fc_aligner(input_size=300, target_size=300).cuda(GPU_INDEX)\n",
    "optimizer = torch.optim.AdamW(model.parameters(), lr=1e-4)\n",
    "criterion = TripletLoss(margin=0.2,max_violation=True,device=GPU_INDEX)\n",
    "\n",
    "best_sd = train(model, model.parameters(), optimizer, criterion, \\\n",
    "      train_loader, val_loader, valset, test_loader, \\\n",
    "      testset, num_epoch=50, dor=0.0, GPU_INDEX=GPU_INDEX)"
   ]
  },
  {
   "cell_type": "code",
   "execution_count": 31,
   "metadata": {},
   "outputs": [
    {
     "data": {
      "text/plain": [
       "fc_aligner(\n",
       "  (fc1): Linear(in_features=300, out_features=300, bias=True)\n",
       ")"
      ]
     },
     "execution_count": 31,
     "metadata": {},
     "output_type": "execute_result"
    }
   ],
   "source": [
    "save_path = \"ft_term_to_surface_state_dict.pkl\"\n",
    "torch.save(best_sd, save_path)\n",
    "model = fc_aligner(input_size=300, target_size=300).cuda(GPU_INDEX)\n",
    "model.load_state_dict(torch.load(save_path))\n",
    "model.eval()"
   ]
  },
  {
   "cell_type": "code",
   "execution_count": 32,
   "metadata": {
    "scrolled": true
   },
   "outputs": [
    {
     "data": {
      "application/vnd.jupyter.widget-view+json": {
       "model_id": "34ca5d10316c459cb9b69d1a5b43fbc0",
       "version_major": 2,
       "version_minor": 0
      },
      "text/plain": [
       "HBox(children=(HTML(value=''), FloatProgress(value=0.0, max=34.0), HTML(value='')))"
      ]
     },
     "metadata": {},
     "output_type": "display_data"
    },
    {
     "name": "stdout",
     "output_type": "stream",
     "text": [
      "\n",
      "MRR: 0.311\n"
     ]
    }
   ],
   "source": [
    "mrr = evalMRR(test_loader, model, testset.search_space_embeddings, bsz=128, GPU_INDEX=GPU_INDEX)\n",
    "print (\"MRR: %.3f\" % mrr)\n",
    "\n",
    "# gds = evalGD(test_loader, testset, model, topk=10, dor=0.0, bsz=128, GPU_INDEX=GPU_INDEX)\n",
    "# print (\"MGRD: %.3f MGRD@10: %.3f\" % gds)"
   ]
  },
  {
   "cell_type": "markdown",
   "metadata": {},
   "source": [
    "#### term -> graph"
   ]
  },
  {
   "cell_type": "code",
   "execution_count": 33,
   "metadata": {},
   "outputs": [
    {
     "name": "stdout",
     "output_type": "stream",
     "text": [
      "[target embeddings loaded, search space size: 350830]\n"
     ]
    }
   ],
   "source": [
    "chv_train_path = os.path.join(DATA_DIR, 'train.csv')\n",
    "chv_dev_path = os.path.join(DATA_DIR, 'dev.csv')\n",
    "chv_test_path = os.path.join(DATA_DIR, 'test.csv')\n",
    "snomed_vec_path = os.path.join(FEATURE_PATH, \"snomed_node2vec_300d_20wl_embeddings.pkl\")\n",
    "term_vec_path = os.path.join(FEATURE_PATH,\"fasttext_term_embeddings.pkl\")\n",
    "\n",
    "train_loader, _ = get_loader_single(FULL_CHV_PATH, chv_train_path,\n",
    "                                    term_vec_path, snomed_vec_path, \n",
    "                                    batch_size=64, shuffle=True, \n",
    "                                    num_workers=10, gran=\"specific\")\n",
    "val_loader, valset = get_loader_single(FULL_CHV_PATH, chv_dev_path, \n",
    "                                       term_vec_path, snomed_vec_path, \n",
    "                                       batch_size=64, shuffle=False, \n",
    "                                       num_workers=10, gran=\"specific\")\n",
    "test_loader, testset = get_loader_single(FULL_CHV_PATH, chv_test_path, \n",
    "                                         term_vec_path, snomed_vec_path, \n",
    "                                         batch_size=64, shuffle=False, \n",
    "                                         num_workers=10, gran=\"specific\", \n",
    "                                         load_target=True)"
   ]
  },
  {
   "cell_type": "code",
   "execution_count": 34,
   "metadata": {
    "scrolled": true
   },
   "outputs": [
    {
     "name": "stdout",
     "output_type": "stream",
     "text": [
      "[epoch 0][dev ] Acc@1: 0.000 Acc@10: 0.000 Acc@100: 0.000 AccSum: 0.000\n",
      "[epoch 1][dev ] Acc@1: 0.006 Acc@10: 0.033 Acc@100: 0.127 AccSum: 0.167\n",
      "[epoch 1][test] Acc@1: 0.014 Acc@10: 0.032 Acc@100: 0.104 AccSum: 0.149\n",
      "[best epoch: 1]\n",
      "[epoch 2][dev ] Acc@1: 0.006 Acc@10: 0.025 Acc@100: 0.144 AccSum: 0.176\n",
      "[epoch 2][test] Acc@1: 0.011 Acc@10: 0.053 Acc@100: 0.145 AccSum: 0.210\n",
      "[best epoch: 2]\n",
      "[epoch 3][dev ] Acc@1: 0.009 Acc@10: 0.040 Acc@100: 0.178 AccSum: 0.227\n",
      "[epoch 3][test] Acc@1: 0.012 Acc@10: 0.080 Acc@100: 0.223 AccSum: 0.315\n",
      "[best epoch: 3]\n",
      "[epoch 4][dev ] Acc@1: 0.011 Acc@10: 0.033 Acc@100: 0.160 AccSum: 0.204\n",
      "[epoch 5][dev ] Acc@1: 0.015 Acc@10: 0.048 Acc@100: 0.214 AccSum: 0.277\n",
      "[epoch 5][test] Acc@1: 0.021 Acc@10: 0.093 Acc@100: 0.259 AccSum: 0.372\n",
      "[best epoch: 5]\n",
      "[epoch 6][dev ] Acc@1: 0.015 Acc@10: 0.050 Acc@100: 0.202 AccSum: 0.267\n",
      "[epoch 7][dev ] Acc@1: 0.018 Acc@10: 0.067 Acc@100: 0.213 AccSum: 0.299\n",
      "[epoch 7][test] Acc@1: 0.022 Acc@10: 0.106 Acc@100: 0.274 AccSum: 0.402\n",
      "[best epoch: 7]\n",
      "[epoch 8][dev ] Acc@1: 0.019 Acc@10: 0.072 Acc@100: 0.213 AccSum: 0.304\n",
      "[epoch 8][test] Acc@1: 0.021 Acc@10: 0.108 Acc@100: 0.268 AccSum: 0.396\n",
      "[best epoch: 8]\n",
      "[epoch 9][dev ] Acc@1: 0.012 Acc@10: 0.066 Acc@100: 0.229 AccSum: 0.308\n",
      "[epoch 9][test] Acc@1: 0.023 Acc@10: 0.112 Acc@100: 0.265 AccSum: 0.401\n",
      "[best epoch: 9]\n",
      "[epoch 10][dev ] Acc@1: 0.013 Acc@10: 0.073 Acc@100: 0.243 AccSum: 0.330\n",
      "[epoch 10][test] Acc@1: 0.023 Acc@10: 0.117 Acc@100: 0.275 AccSum: 0.416\n",
      "[best epoch: 10]\n",
      "[epoch 11][dev ] Acc@1: 0.019 Acc@10: 0.071 Acc@100: 0.244 AccSum: 0.335\n",
      "[epoch 11][test] Acc@1: 0.026 Acc@10: 0.121 Acc@100: 0.273 AccSum: 0.420\n",
      "[best epoch: 11]\n",
      "[epoch 12][dev ] Acc@1: 0.022 Acc@10: 0.074 Acc@100: 0.249 AccSum: 0.345\n",
      "[epoch 12][test] Acc@1: 0.029 Acc@10: 0.121 Acc@100: 0.281 AccSum: 0.431\n",
      "[best epoch: 12]\n",
      "[epoch 13][dev ] Acc@1: 0.021 Acc@10: 0.077 Acc@100: 0.265 AccSum: 0.363\n",
      "[epoch 13][test] Acc@1: 0.032 Acc@10: 0.121 Acc@100: 0.289 AccSum: 0.441\n",
      "[best epoch: 13]\n",
      "[epoch 14][dev ] Acc@1: 0.019 Acc@10: 0.081 Acc@100: 0.268 AccSum: 0.368\n",
      "[epoch 14][test] Acc@1: 0.029 Acc@10: 0.124 Acc@100: 0.292 AccSum: 0.445\n",
      "[best epoch: 14]\n",
      "[epoch 15][dev ] Acc@1: 0.021 Acc@10: 0.082 Acc@100: 0.272 AccSum: 0.374\n",
      "[epoch 15][test] Acc@1: 0.027 Acc@10: 0.123 Acc@100: 0.283 AccSum: 0.432\n",
      "[best epoch: 15]\n",
      "[epoch 16][dev ] Acc@1: 0.022 Acc@10: 0.087 Acc@100: 0.267 AccSum: 0.377\n",
      "[epoch 16][test] Acc@1: 0.028 Acc@10: 0.126 Acc@100: 0.286 AccSum: 0.441\n",
      "[best epoch: 16]\n",
      "[epoch 17][dev ] Acc@1: 0.021 Acc@10: 0.088 Acc@100: 0.280 AccSum: 0.389\n",
      "[epoch 17][test] Acc@1: 0.029 Acc@10: 0.131 Acc@100: 0.294 AccSum: 0.453\n",
      "[best epoch: 17]\n",
      "[epoch 18][dev ] Acc@1: 0.016 Acc@10: 0.091 Acc@100: 0.276 AccSum: 0.384\n",
      "[epoch 19][dev ] Acc@1: 0.013 Acc@10: 0.097 Acc@100: 0.273 AccSum: 0.384\n",
      "[epoch 20][dev ] Acc@1: 0.018 Acc@10: 0.094 Acc@100: 0.265 AccSum: 0.377\n",
      "[epoch 21][dev ] Acc@1: 0.019 Acc@10: 0.090 Acc@100: 0.262 AccSum: 0.371\n",
      "[epoch 22][dev ] Acc@1: 0.019 Acc@10: 0.096 Acc@100: 0.255 AccSum: 0.370\n",
      "[epoch 23][dev ] Acc@1: 0.021 Acc@10: 0.096 Acc@100: 0.258 AccSum: 0.375\n",
      "[epoch 24][dev ] Acc@1: 0.019 Acc@10: 0.100 Acc@100: 0.256 AccSum: 0.375\n",
      "[epoch 25][dev ] Acc@1: 0.021 Acc@10: 0.105 Acc@100: 0.263 AccSum: 0.389\n",
      "[epoch 26][dev ] Acc@1: 0.018 Acc@10: 0.107 Acc@100: 0.259 AccSum: 0.383\n",
      "[epoch 27][dev ] Acc@1: 0.018 Acc@10: 0.105 Acc@100: 0.257 AccSum: 0.380\n",
      "[epoch 28][dev ] Acc@1: 0.016 Acc@10: 0.102 Acc@100: 0.257 AccSum: 0.375\n",
      "[epoch 29][dev ] Acc@1: 0.019 Acc@10: 0.102 Acc@100: 0.257 AccSum: 0.378\n",
      "[epoch 30][dev ] Acc@1: 0.018 Acc@10: 0.103 Acc@100: 0.256 AccSum: 0.377\n",
      "[epoch 31][dev ] Acc@1: 0.022 Acc@10: 0.105 Acc@100: 0.260 AccSum: 0.387\n",
      "[epoch 32][dev ] Acc@1: 0.021 Acc@10: 0.106 Acc@100: 0.260 AccSum: 0.387\n",
      "[epoch 33][dev ] Acc@1: 0.019 Acc@10: 0.106 Acc@100: 0.259 AccSum: 0.384\n",
      "[epoch 34][dev ] Acc@1: 0.021 Acc@10: 0.098 Acc@100: 0.260 AccSum: 0.379\n",
      "[epoch 35][dev ] Acc@1: 0.022 Acc@10: 0.098 Acc@100: 0.259 AccSum: 0.379\n",
      "[epoch 36][dev ] Acc@1: 0.022 Acc@10: 0.098 Acc@100: 0.265 AccSum: 0.385\n",
      "[epoch 37][dev ] Acc@1: 0.024 Acc@10: 0.098 Acc@100: 0.263 AccSum: 0.385\n",
      "[epoch 38][dev ] Acc@1: 0.025 Acc@10: 0.098 Acc@100: 0.257 AccSum: 0.381\n",
      "[epoch 39][dev ] Acc@1: 0.025 Acc@10: 0.100 Acc@100: 0.252 AccSum: 0.377\n",
      "[epoch 40][dev ] Acc@1: 0.024 Acc@10: 0.100 Acc@100: 0.256 AccSum: 0.380\n",
      "[epoch 41][dev ] Acc@1: 0.025 Acc@10: 0.098 Acc@100: 0.253 AccSum: 0.377\n",
      "[epoch 42][dev ] Acc@1: 0.025 Acc@10: 0.101 Acc@100: 0.252 AccSum: 0.379\n",
      "[epoch 43][dev ] Acc@1: 0.025 Acc@10: 0.098 Acc@100: 0.249 AccSum: 0.373\n",
      "[epoch 44][dev ] Acc@1: 0.027 Acc@10: 0.098 Acc@100: 0.247 AccSum: 0.372\n",
      "[epoch 45][dev ] Acc@1: 0.024 Acc@10: 0.097 Acc@100: 0.247 AccSum: 0.368\n",
      "[epoch 46][dev ] Acc@1: 0.025 Acc@10: 0.101 Acc@100: 0.246 AccSum: 0.373\n",
      "[epoch 47][dev ] Acc@1: 0.025 Acc@10: 0.101 Acc@100: 0.249 AccSum: 0.376\n",
      "[epoch 48][dev ] Acc@1: 0.025 Acc@10: 0.098 Acc@100: 0.254 AccSum: 0.377\n",
      "[epoch 49][dev ] Acc@1: 0.024 Acc@10: 0.100 Acc@100: 0.257 AccSum: 0.380\n",
      "[epoch 50][dev ] Acc@1: 0.027 Acc@10: 0.101 Acc@100: 0.258 AccSum: 0.386\n"
     ]
    }
   ],
   "source": [
    "model = fc_aligner(input_size=300, target_size=300).cuda(GPU_INDEX)\n",
    "optimizer = torch.optim.AdamW(model.parameters(), lr=1e-4)\n",
    "criterion = TripletLoss(margin=0.2, max_violation=True, device=GPU_INDEX)\n",
    "\n",
    "best_sd = train(model, model.parameters(), optimizer, criterion, \\\n",
    "      train_loader, val_loader, valset, test_loader, \\\n",
    "      testset, num_epoch=50, dor=0.0, GPU_INDEX=GPU_INDEX)"
   ]
  },
  {
   "cell_type": "code",
   "execution_count": 35,
   "metadata": {},
   "outputs": [
    {
     "data": {
      "text/plain": [
       "fc_aligner(\n",
       "  (fc1): Linear(in_features=300, out_features=300, bias=True)\n",
       ")"
      ]
     },
     "execution_count": 35,
     "metadata": {},
     "output_type": "execute_result"
    }
   ],
   "source": [
    "save_path = \"term_to_graph_state_dict.pkl\"\n",
    "torch.save(best_sd, save_path)\n",
    "model = fc_aligner(input_size=300, target_size=300).cuda(GPU_INDEX)\n",
    "model.load_state_dict(torch.load(save_path))\n",
    "model.eval()"
   ]
  },
  {
   "cell_type": "code",
   "execution_count": 36,
   "metadata": {},
   "outputs": [
    {
     "data": {
      "application/vnd.jupyter.widget-view+json": {
       "model_id": "ee3da10f3eeb4218b2647e27335c3ae8",
       "version_major": 2,
       "version_minor": 0
      },
      "text/plain": [
       "HBox(children=(HTML(value=''), FloatProgress(value=0.0, max=17.0), HTML(value='')))"
      ]
     },
     "metadata": {},
     "output_type": "display_data"
    },
    {
     "name": "stdout",
     "output_type": "stream",
     "text": [
      "\n",
      "MRR: 0.064\n"
     ]
    }
   ],
   "source": [
    "mrr = evalMRR(test_loader, model, testset.search_space_embeddings, bsz=256, dumb=True, GPU_INDEX=GPU_INDEX)\n",
    "print (\"MRR: %.3f\" % mrr)\n",
    "\n",
    "# gds = evalGD(test_loader, testset, model, topk=10, dor=0.0, bsz=256, sample=False,\\\n",
    "#             GPU_INDEX=GPU_INDEX)\n",
    "# print (\"MGD: %.3f MGD@10: %.3f\" % gds)"
   ]
  },
  {
   "cell_type": "markdown",
   "metadata": {},
   "source": [
    "#### term -> surface+graph"
   ]
  },
  {
   "cell_type": "code",
   "execution_count": 7,
   "metadata": {
    "scrolled": true
   },
   "outputs": [
    {
     "name": "stdout",
     "output_type": "stream",
     "text": [
      "[target embeddings loaded, search space size: 350830]\n"
     ]
    }
   ],
   "source": [
    "chv_train_path = os.path.join(DATA_DIR, 'train.csv')\n",
    "chv_dev_path = os.path.join(DATA_DIR, 'dev.csv')\n",
    "chv_test_path = os.path.join(DATA_DIR, 'test.csv')\n",
    "snomed_vec_path = os.path.join(FEATURE_PATH, \"snomed_surface_fasttext_embeddings_full+snomed_node2vec_300d_20wl_embeddings.pkl\")\n",
    "term_vec_path = os.path.join(FEATURE_PATH,\"fasttext_term_embeddings.pkl\")\n",
    "\n",
    "train_loader, _ = get_loader_single(FULL_CHV_PATH, chv_train_path,\n",
    "                                    term_vec_path, snomed_vec_path, \n",
    "                                    batch_size=64, shuffle=True, \n",
    "                                    num_workers=10, gran=\"specific\")\n",
    "val_loader, valset = get_loader_single(FULL_CHV_PATH, chv_dev_path, \n",
    "                                       term_vec_path, snomed_vec_path, \n",
    "                                       batch_size=64, shuffle=False, \n",
    "                                       num_workers=10, gran=\"specific\")\n",
    "test_loader, testset = get_loader_single(FULL_CHV_PATH, chv_test_path, \n",
    "                                         term_vec_path, snomed_vec_path, \n",
    "                                         batch_size=64, shuffle=False, \n",
    "                                         num_workers=10, gran=\"specific\", \n",
    "                                         load_target=True)"
   ]
  },
  {
   "cell_type": "code",
   "execution_count": 8,
   "metadata": {
    "scrolled": true
   },
   "outputs": [
    {
     "name": "stdout",
     "output_type": "stream",
     "text": [
      "[epoch 0][dev ] Acc@1: 0.000 Acc@10: 0.000 Acc@100: 0.000 AccSum: 0.000\n",
      "[epoch 1][dev ] Acc@1: 0.044 Acc@10: 0.169 Acc@100: 0.412 AccSum: 0.624\n",
      "[epoch 1][test] Acc@1: 0.032 Acc@10: 0.171 Acc@100: 0.442 AccSum: 0.645\n",
      "[best epoch: 1]\n",
      "[epoch 2][dev ] Acc@1: 0.081 Acc@10: 0.281 Acc@100: 0.532 AccSum: 0.894\n",
      "[epoch 2][test] Acc@1: 0.065 Acc@10: 0.281 Acc@100: 0.572 AccSum: 0.919\n",
      "[best epoch: 2]\n",
      "[epoch 3][dev ] Acc@1: 0.090 Acc@10: 0.304 Acc@100: 0.564 AccSum: 0.958\n",
      "[epoch 3][test] Acc@1: 0.089 Acc@10: 0.307 Acc@100: 0.595 AccSum: 0.991\n",
      "[best epoch: 3]\n",
      "[epoch 4][dev ] Acc@1: 0.095 Acc@10: 0.346 Acc@100: 0.586 AccSum: 1.027\n",
      "[epoch 4][test] Acc@1: 0.105 Acc@10: 0.346 Acc@100: 0.633 AccSum: 1.084\n",
      "[best epoch: 4]\n",
      "[epoch 5][dev ] Acc@1: 0.107 Acc@10: 0.327 Acc@100: 0.602 AccSum: 1.035\n",
      "[epoch 5][test] Acc@1: 0.107 Acc@10: 0.359 Acc@100: 0.647 AccSum: 1.113\n",
      "[best epoch: 5]\n",
      "[epoch 6][dev ] Acc@1: 0.110 Acc@10: 0.349 Acc@100: 0.605 AccSum: 1.063\n",
      "[epoch 6][test] Acc@1: 0.116 Acc@10: 0.373 Acc@100: 0.650 AccSum: 1.138\n",
      "[best epoch: 6]\n",
      "[epoch 7][dev ] Acc@1: 0.124 Acc@10: 0.366 Acc@100: 0.620 AccSum: 1.111\n",
      "[epoch 7][test] Acc@1: 0.130 Acc@10: 0.386 Acc@100: 0.657 AccSum: 1.173\n",
      "[best epoch: 7]\n",
      "[epoch 8][dev ] Acc@1: 0.121 Acc@10: 0.380 Acc@100: 0.619 AccSum: 1.120\n",
      "[epoch 8][test] Acc@1: 0.130 Acc@10: 0.399 Acc@100: 0.664 AccSum: 1.193\n",
      "[best epoch: 8]\n",
      "[epoch 9][dev ] Acc@1: 0.128 Acc@10: 0.372 Acc@100: 0.631 AccSum: 1.131\n",
      "[epoch 9][test] Acc@1: 0.138 Acc@10: 0.404 Acc@100: 0.666 AccSum: 1.208\n",
      "[best epoch: 9]\n",
      "[epoch 10][dev ] Acc@1: 0.130 Acc@10: 0.384 Acc@100: 0.641 AccSum: 1.155\n",
      "[epoch 10][test] Acc@1: 0.141 Acc@10: 0.399 Acc@100: 0.669 AccSum: 1.208\n",
      "[best epoch: 10]\n",
      "[epoch 11][dev ] Acc@1: 0.131 Acc@10: 0.374 Acc@100: 0.645 AccSum: 1.150\n",
      "[epoch 12][dev ] Acc@1: 0.129 Acc@10: 0.383 Acc@100: 0.650 AccSum: 1.162\n",
      "[epoch 12][test] Acc@1: 0.146 Acc@10: 0.406 Acc@100: 0.670 AccSum: 1.222\n",
      "[best epoch: 12]\n",
      "[epoch 13][dev ] Acc@1: 0.122 Acc@10: 0.386 Acc@100: 0.650 AccSum: 1.158\n",
      "[epoch 14][dev ] Acc@1: 0.123 Acc@10: 0.381 Acc@100: 0.640 AccSum: 1.143\n",
      "[epoch 15][dev ] Acc@1: 0.122 Acc@10: 0.389 Acc@100: 0.640 AccSum: 1.150\n",
      "[epoch 16][dev ] Acc@1: 0.129 Acc@10: 0.389 Acc@100: 0.646 AccSum: 1.164\n",
      "[epoch 16][test] Acc@1: 0.140 Acc@10: 0.409 Acc@100: 0.672 AccSum: 1.222\n",
      "[best epoch: 16]\n",
      "[epoch 17][dev ] Acc@1: 0.131 Acc@10: 0.394 Acc@100: 0.643 AccSum: 1.168\n",
      "[epoch 17][test] Acc@1: 0.141 Acc@10: 0.410 Acc@100: 0.672 AccSum: 1.223\n",
      "[best epoch: 17]\n",
      "[epoch 18][dev ] Acc@1: 0.128 Acc@10: 0.392 Acc@100: 0.641 AccSum: 1.162\n",
      "[epoch 19][dev ] Acc@1: 0.128 Acc@10: 0.393 Acc@100: 0.645 AccSum: 1.167\n",
      "[epoch 20][dev ] Acc@1: 0.129 Acc@10: 0.390 Acc@100: 0.645 AccSum: 1.164\n",
      "[epoch 21][dev ] Acc@1: 0.126 Acc@10: 0.392 Acc@100: 0.648 AccSum: 1.166\n",
      "[epoch 22][dev ] Acc@1: 0.130 Acc@10: 0.393 Acc@100: 0.644 AccSum: 1.167\n",
      "[epoch 23][dev ] Acc@1: 0.123 Acc@10: 0.398 Acc@100: 0.647 AccSum: 1.168\n",
      "[epoch 24][dev ] Acc@1: 0.122 Acc@10: 0.400 Acc@100: 0.653 AccSum: 1.175\n",
      "[epoch 24][test] Acc@1: 0.134 Acc@10: 0.413 Acc@100: 0.666 AccSum: 1.213\n",
      "[best epoch: 24]\n",
      "[epoch 25][dev ] Acc@1: 0.123 Acc@10: 0.401 Acc@100: 0.653 AccSum: 1.177\n",
      "[epoch 25][test] Acc@1: 0.135 Acc@10: 0.415 Acc@100: 0.666 AccSum: 1.217\n",
      "[best epoch: 25]\n",
      "[epoch 26][dev ] Acc@1: 0.117 Acc@10: 0.395 Acc@100: 0.648 AccSum: 1.161\n",
      "[epoch 27][dev ] Acc@1: 0.119 Acc@10: 0.393 Acc@100: 0.649 AccSum: 1.162\n",
      "[epoch 28][dev ] Acc@1: 0.120 Acc@10: 0.395 Acc@100: 0.649 AccSum: 1.165\n",
      "[epoch 29][dev ] Acc@1: 0.120 Acc@10: 0.396 Acc@100: 0.658 AccSum: 1.174\n",
      "[epoch 30][dev ] Acc@1: 0.119 Acc@10: 0.396 Acc@100: 0.660 AccSum: 1.175\n",
      "[epoch 31][dev ] Acc@1: 0.117 Acc@10: 0.393 Acc@100: 0.658 AccSum: 1.168\n",
      "[epoch 32][dev ] Acc@1: 0.117 Acc@10: 0.389 Acc@100: 0.657 AccSum: 1.162\n",
      "[epoch 33][dev ] Acc@1: 0.119 Acc@10: 0.392 Acc@100: 0.655 AccSum: 1.166\n",
      "[epoch 34][dev ] Acc@1: 0.123 Acc@10: 0.399 Acc@100: 0.658 AccSum: 1.179\n",
      "[epoch 34][test] Acc@1: 0.134 Acc@10: 0.414 Acc@100: 0.666 AccSum: 1.214\n",
      "[best epoch: 34]\n",
      "[epoch 35][dev ] Acc@1: 0.127 Acc@10: 0.398 Acc@100: 0.652 AccSum: 1.177\n",
      "[epoch 36][dev ] Acc@1: 0.129 Acc@10: 0.395 Acc@100: 0.653 AccSum: 1.177\n",
      "[epoch 37][dev ] Acc@1: 0.131 Acc@10: 0.399 Acc@100: 0.658 AccSum: 1.188\n",
      "[epoch 37][test] Acc@1: 0.134 Acc@10: 0.412 Acc@100: 0.665 AccSum: 1.211\n",
      "[best epoch: 37]\n",
      "[epoch 38][dev ] Acc@1: 0.128 Acc@10: 0.398 Acc@100: 0.657 AccSum: 1.182\n",
      "[epoch 39][dev ] Acc@1: 0.124 Acc@10: 0.399 Acc@100: 0.653 AccSum: 1.176\n",
      "[epoch 40][dev ] Acc@1: 0.121 Acc@10: 0.400 Acc@100: 0.653 AccSum: 1.175\n",
      "[epoch 41][dev ] Acc@1: 0.124 Acc@10: 0.398 Acc@100: 0.652 AccSum: 1.174\n",
      "[epoch 42][dev ] Acc@1: 0.123 Acc@10: 0.399 Acc@100: 0.653 AccSum: 1.175\n",
      "[epoch 43][dev ] Acc@1: 0.126 Acc@10: 0.401 Acc@100: 0.655 AccSum: 1.182\n",
      "[epoch 44][dev ] Acc@1: 0.125 Acc@10: 0.401 Acc@100: 0.656 AccSum: 1.182\n",
      "[epoch 45][dev ] Acc@1: 0.122 Acc@10: 0.400 Acc@100: 0.656 AccSum: 1.177\n",
      "[epoch 46][dev ] Acc@1: 0.124 Acc@10: 0.394 Acc@100: 0.656 AccSum: 1.174\n",
      "[epoch 47][dev ] Acc@1: 0.123 Acc@10: 0.397 Acc@100: 0.656 AccSum: 1.175\n",
      "[epoch 48][dev ] Acc@1: 0.123 Acc@10: 0.402 Acc@100: 0.656 AccSum: 1.180\n",
      "[epoch 49][dev ] Acc@1: 0.120 Acc@10: 0.405 Acc@100: 0.648 AccSum: 1.173\n",
      "[epoch 50][dev ] Acc@1: 0.120 Acc@10: 0.406 Acc@100: 0.645 AccSum: 1.171\n"
     ]
    }
   ],
   "source": [
    "model = fc_aligner(input_size=300, target_size=600).cuda(GPU_INDEX)\n",
    "train_params = model.parameters()\n",
    "optimizer = torch.optim.AdamW(train_params, lr=1e-4)\n",
    "criterion = TripletLoss(margin=0.2, max_violation=True, device=GPU_INDEX)\n",
    "\n",
    "best_sd = train(model, train_params, optimizer, criterion, \\\n",
    "      train_loader, val_loader, valset, test_loader, \\\n",
    "      testset, num_epoch=50, dor=0.0, GPU_INDEX=GPU_INDEX)"
   ]
  },
  {
   "cell_type": "code",
   "execution_count": 9,
   "metadata": {},
   "outputs": [
    {
     "data": {
      "text/plain": [
       "fc_aligner(\n",
       "  (fc1): Linear(in_features=300, out_features=600, bias=True)\n",
       ")"
      ]
     },
     "execution_count": 9,
     "metadata": {},
     "output_type": "execute_result"
    }
   ],
   "source": [
    "save_path = \"ft_term_to_surface+graph_state_dict.pkl\"\n",
    "torch.save(best_sd, save_path)\n",
    "model = fc_aligner(input_size=300, target_size=600).cuda(GPU_INDEX)\n",
    "model.load_state_dict(torch.load(save_path))\n",
    "model.eval()"
   ]
  },
  {
   "cell_type": "code",
   "execution_count": 10,
   "metadata": {},
   "outputs": [
    {
     "data": {
      "application/vnd.jupyter.widget-view+json": {
       "model_id": "5ea00083bee8467281e67010668da3f9",
       "version_major": 2,
       "version_minor": 0
      },
      "text/plain": [
       "HBox(children=(HTML(value=''), FloatProgress(value=0.0, max=34.0), HTML(value='')))"
      ]
     },
     "metadata": {},
     "output_type": "display_data"
    },
    {
     "name": "stdout",
     "output_type": "stream",
     "text": [
      "\n",
      "MRR: 0.227\n"
     ]
    }
   ],
   "source": [
    "mrr = evalMRR(test_loader, model, testset.search_space_embeddings, bsz=128, dumb=True, GPU_INDEX=GPU_INDEX)\n",
    "print (\"MRR: %.3f\" % mrr)\n",
    "\n",
    "# gds = evalGD(test_loader, testset, model, topk=10, dor=0.0, bsz=128, GPU_INDEX=GPU_INDEX)\n",
    "# print (\"MGD: %.3f MGD@10: %.3f\" % gds)"
   ]
  },
  {
   "cell_type": "markdown",
   "metadata": {},
   "source": [
    "### combine BERT with fasttext"
   ]
  },
  {
   "cell_type": "markdown",
   "metadata": {},
   "source": [
    "#### ft_term+bert_term -> ft_surface+bert_surface+graph"
   ]
  },
  {
   "cell_type": "code",
   "execution_count": 11,
   "metadata": {},
   "outputs": [
    {
     "name": "stdout",
     "output_type": "stream",
     "text": [
      "[target embeddings loaded, search space size: 350830]\n"
     ]
    }
   ],
   "source": [
    "chv_train_path = os.path.join(DATA_DIR, 'train.csv')\n",
    "chv_dev_path = os.path.join(DATA_DIR, 'dev.csv')\n",
    "chv_test_path = os.path.join(DATA_DIR, 'test.csv')\n",
    "snomed_vec_path = os.path.join(FEATURE_PATH, \"snomed_surface_fasttext_embeddings_full+snomed_surface_bert_ts100k_embeddings_all_names_mean_full_new+snomed_node2vec_300d_20wl_embeddings.pkl\")\n",
    "term_vec_path = os.path.join(FEATURE_PATH,\"fasttext_term_embeddings+chv_term_embeddings_BERTbr_ts100k.pkl\")\n",
    "\n",
    "train_loader, _ = get_loader_single(FULL_CHV_PATH, chv_train_path,\n",
    "                                    term_vec_path, snomed_vec_path, \n",
    "                                    batch_size=64, shuffle=True, \n",
    "                                    num_workers=10, gran=\"specific\")\n",
    "val_loader, valset = get_loader_single(FULL_CHV_PATH, chv_dev_path, \n",
    "                                       term_vec_path, snomed_vec_path, \n",
    "                                       batch_size=64, shuffle=False, \n",
    "                                       num_workers=10, gran=\"specific\")\n",
    "test_loader, testset = get_loader_single(FULL_CHV_PATH, chv_test_path, \n",
    "                                         term_vec_path, snomed_vec_path, \n",
    "                                         batch_size=64, shuffle=False, \n",
    "                                         num_workers=10, gran=\"specific\", \n",
    "                                         load_target=True)"
   ]
  },
  {
   "cell_type": "code",
   "execution_count": 12,
   "metadata": {
    "scrolled": true
   },
   "outputs": [
    {
     "name": "stdout",
     "output_type": "stream",
     "text": [
      "[epoch 0][dev ] Acc@1: 0.000 Acc@10: 0.000 Acc@100: 0.000 AccSum: 0.000\n",
      "[epoch 1][dev ] Acc@1: 0.182 Acc@10: 0.431 Acc@100: 0.670 AccSum: 1.283\n",
      "[epoch 1][test] Acc@1: 0.173 Acc@10: 0.425 Acc@100: 0.682 AccSum: 1.279\n",
      "[best epoch: 1]\n",
      "[epoch 2][dev ] Acc@1: 0.196 Acc@10: 0.480 Acc@100: 0.709 AccSum: 1.385\n",
      "[epoch 2][test] Acc@1: 0.211 Acc@10: 0.488 Acc@100: 0.735 AccSum: 1.433\n",
      "[best epoch: 2]\n",
      "[epoch 3][dev ] Acc@1: 0.201 Acc@10: 0.496 Acc@100: 0.718 AccSum: 1.415\n",
      "[epoch 3][test] Acc@1: 0.224 Acc@10: 0.497 Acc@100: 0.728 AccSum: 1.449\n",
      "[best epoch: 3]\n",
      "[epoch 4][dev ] Acc@1: 0.215 Acc@10: 0.507 Acc@100: 0.722 AccSum: 1.444\n",
      "[epoch 4][test] Acc@1: 0.234 Acc@10: 0.518 Acc@100: 0.746 AccSum: 1.498\n",
      "[best epoch: 4]\n",
      "[epoch 5][dev ] Acc@1: 0.248 Acc@10: 0.532 Acc@100: 0.747 AccSum: 1.527\n",
      "[epoch 5][test] Acc@1: 0.246 Acc@10: 0.527 Acc@100: 0.759 AccSum: 1.532\n",
      "[best epoch: 5]\n",
      "[epoch 6][dev ] Acc@1: 0.256 Acc@10: 0.538 Acc@100: 0.753 AccSum: 1.547\n",
      "[epoch 6][test] Acc@1: 0.242 Acc@10: 0.529 Acc@100: 0.758 AccSum: 1.530\n",
      "[best epoch: 6]\n",
      "[epoch 7][dev ] Acc@1: 0.246 Acc@10: 0.545 Acc@100: 0.755 AccSum: 1.546\n",
      "[epoch 8][dev ] Acc@1: 0.251 Acc@10: 0.549 Acc@100: 0.758 AccSum: 1.558\n",
      "[epoch 8][test] Acc@1: 0.256 Acc@10: 0.544 Acc@100: 0.768 AccSum: 1.568\n",
      "[best epoch: 8]\n",
      "[epoch 9][dev ] Acc@1: 0.251 Acc@10: 0.551 Acc@100: 0.760 AccSum: 1.561\n",
      "[epoch 9][test] Acc@1: 0.251 Acc@10: 0.540 Acc@100: 0.766 AccSum: 1.558\n",
      "[best epoch: 9]\n",
      "[epoch 10][dev ] Acc@1: 0.256 Acc@10: 0.556 Acc@100: 0.764 AccSum: 1.576\n",
      "[epoch 10][test] Acc@1: 0.252 Acc@10: 0.540 Acc@100: 0.767 AccSum: 1.559\n",
      "[best epoch: 10]\n",
      "[epoch 11][dev ] Acc@1: 0.258 Acc@10: 0.567 Acc@100: 0.764 AccSum: 1.590\n",
      "[epoch 11][test] Acc@1: 0.257 Acc@10: 0.544 Acc@100: 0.772 AccSum: 1.573\n",
      "[best epoch: 11]\n",
      "[epoch 12][dev ] Acc@1: 0.256 Acc@10: 0.564 Acc@100: 0.766 AccSum: 1.587\n",
      "[epoch 13][dev ] Acc@1: 0.259 Acc@10: 0.567 Acc@100: 0.768 AccSum: 1.595\n",
      "[epoch 13][test] Acc@1: 0.259 Acc@10: 0.554 Acc@100: 0.774 AccSum: 1.586\n",
      "[best epoch: 13]\n",
      "[epoch 14][dev ] Acc@1: 0.262 Acc@10: 0.567 Acc@100: 0.772 AccSum: 1.602\n",
      "[epoch 14][test] Acc@1: 0.267 Acc@10: 0.555 Acc@100: 0.779 AccSum: 1.601\n",
      "[best epoch: 14]\n",
      "[epoch 15][dev ] Acc@1: 0.268 Acc@10: 0.568 Acc@100: 0.773 AccSum: 1.609\n",
      "[epoch 15][test] Acc@1: 0.270 Acc@10: 0.555 Acc@100: 0.781 AccSum: 1.605\n",
      "[best epoch: 15]\n",
      "[epoch 16][dev ] Acc@1: 0.269 Acc@10: 0.569 Acc@100: 0.770 AccSum: 1.608\n",
      "[epoch 17][dev ] Acc@1: 0.272 Acc@10: 0.573 Acc@100: 0.767 AccSum: 1.611\n",
      "[epoch 17][test] Acc@1: 0.269 Acc@10: 0.557 Acc@100: 0.783 AccSum: 1.609\n",
      "[best epoch: 17]\n",
      "[epoch 18][dev ] Acc@1: 0.269 Acc@10: 0.574 Acc@100: 0.770 AccSum: 1.612\n",
      "[epoch 18][test] Acc@1: 0.268 Acc@10: 0.555 Acc@100: 0.781 AccSum: 1.604\n",
      "[best epoch: 18]\n",
      "[epoch 19][dev ] Acc@1: 0.269 Acc@10: 0.567 Acc@100: 0.772 AccSum: 1.608\n",
      "[epoch 20][dev ] Acc@1: 0.273 Acc@10: 0.569 Acc@100: 0.776 AccSum: 1.617\n",
      "[epoch 20][test] Acc@1: 0.269 Acc@10: 0.560 Acc@100: 0.782 AccSum: 1.612\n",
      "[best epoch: 20]\n",
      "[epoch 21][dev ] Acc@1: 0.276 Acc@10: 0.571 Acc@100: 0.779 AccSum: 1.626\n",
      "[epoch 21][test] Acc@1: 0.269 Acc@10: 0.562 Acc@100: 0.785 AccSum: 1.615\n",
      "[best epoch: 21]\n",
      "[epoch 22][dev ] Acc@1: 0.276 Acc@10: 0.572 Acc@100: 0.777 AccSum: 1.624\n",
      "[epoch 23][dev ] Acc@1: 0.273 Acc@10: 0.572 Acc@100: 0.777 AccSum: 1.621\n",
      "[epoch 24][dev ] Acc@1: 0.276 Acc@10: 0.574 Acc@100: 0.777 AccSum: 1.626\n",
      "[epoch 24][test] Acc@1: 0.271 Acc@10: 0.562 Acc@100: 0.782 AccSum: 1.614\n",
      "[best epoch: 24]\n",
      "[epoch 25][dev ] Acc@1: 0.274 Acc@10: 0.573 Acc@100: 0.777 AccSum: 1.623\n",
      "[epoch 26][dev ] Acc@1: 0.276 Acc@10: 0.573 Acc@100: 0.778 AccSum: 1.626\n",
      "[epoch 27][dev ] Acc@1: 0.277 Acc@10: 0.574 Acc@100: 0.778 AccSum: 1.629\n",
      "[epoch 27][test] Acc@1: 0.271 Acc@10: 0.563 Acc@100: 0.785 AccSum: 1.619\n",
      "[best epoch: 27]\n",
      "[epoch 28][dev ] Acc@1: 0.276 Acc@10: 0.576 Acc@100: 0.778 AccSum: 1.629\n",
      "[epoch 28][test] Acc@1: 0.273 Acc@10: 0.562 Acc@100: 0.784 AccSum: 1.619\n",
      "[best epoch: 28]\n",
      "[epoch 29][dev ] Acc@1: 0.277 Acc@10: 0.578 Acc@100: 0.780 AccSum: 1.635\n",
      "[epoch 29][test] Acc@1: 0.274 Acc@10: 0.565 Acc@100: 0.785 AccSum: 1.625\n",
      "[best epoch: 29]\n",
      "[epoch 30][dev ] Acc@1: 0.279 Acc@10: 0.577 Acc@100: 0.780 AccSum: 1.637\n",
      "[epoch 30][test] Acc@1: 0.274 Acc@10: 0.567 Acc@100: 0.784 AccSum: 1.625\n",
      "[best epoch: 30]\n",
      "[epoch 31][dev ] Acc@1: 0.281 Acc@10: 0.580 Acc@100: 0.780 AccSum: 1.642\n",
      "[epoch 31][test] Acc@1: 0.273 Acc@10: 0.565 Acc@100: 0.785 AccSum: 1.624\n",
      "[best epoch: 31]\n",
      "[epoch 32][dev ] Acc@1: 0.277 Acc@10: 0.579 Acc@100: 0.780 AccSum: 1.636\n",
      "[epoch 33][dev ] Acc@1: 0.274 Acc@10: 0.578 Acc@100: 0.779 AccSum: 1.631\n",
      "[epoch 34][dev ] Acc@1: 0.274 Acc@10: 0.578 Acc@100: 0.781 AccSum: 1.632\n",
      "[epoch 35][dev ] Acc@1: 0.276 Acc@10: 0.582 Acc@100: 0.779 AccSum: 1.637\n",
      "[epoch 36][dev ] Acc@1: 0.277 Acc@10: 0.583 Acc@100: 0.781 AccSum: 1.642\n",
      "[epoch 37][dev ] Acc@1: 0.278 Acc@10: 0.582 Acc@100: 0.784 AccSum: 1.644\n",
      "[epoch 37][test] Acc@1: 0.273 Acc@10: 0.569 Acc@100: 0.785 AccSum: 1.627\n",
      "[best epoch: 37]\n",
      "[epoch 38][dev ] Acc@1: 0.278 Acc@10: 0.582 Acc@100: 0.784 AccSum: 1.644\n",
      "[epoch 38][test] Acc@1: 0.272 Acc@10: 0.568 Acc@100: 0.786 AccSum: 1.626\n",
      "[best epoch: 38]\n",
      "[epoch 39][dev ] Acc@1: 0.279 Acc@10: 0.584 Acc@100: 0.783 AccSum: 1.646\n",
      "[epoch 39][test] Acc@1: 0.272 Acc@10: 0.568 Acc@100: 0.786 AccSum: 1.627\n",
      "[best epoch: 39]\n",
      "[epoch 40][dev ] Acc@1: 0.281 Acc@10: 0.583 Acc@100: 0.786 AccSum: 1.650\n",
      "[epoch 40][test] Acc@1: 0.273 Acc@10: 0.569 Acc@100: 0.786 AccSum: 1.628\n",
      "[best epoch: 40]\n",
      "[epoch 41][dev ] Acc@1: 0.280 Acc@10: 0.584 Acc@100: 0.786 AccSum: 1.651\n",
      "[epoch 41][test] Acc@1: 0.273 Acc@10: 0.570 Acc@100: 0.787 AccSum: 1.630\n",
      "[best epoch: 41]\n",
      "[epoch 42][dev ] Acc@1: 0.280 Acc@10: 0.585 Acc@100: 0.785 AccSum: 1.651\n",
      "[epoch 43][dev ] Acc@1: 0.279 Acc@10: 0.588 Acc@100: 0.785 AccSum: 1.652\n",
      "[epoch 43][test] Acc@1: 0.274 Acc@10: 0.571 Acc@100: 0.790 AccSum: 1.635\n",
      "[best epoch: 43]\n",
      "[epoch 44][dev ] Acc@1: 0.281 Acc@10: 0.588 Acc@100: 0.785 AccSum: 1.654\n",
      "[epoch 44][test] Acc@1: 0.272 Acc@10: 0.570 Acc@100: 0.789 AccSum: 1.631\n",
      "[best epoch: 44]\n",
      "[epoch 45][dev ] Acc@1: 0.283 Acc@10: 0.586 Acc@100: 0.784 AccSum: 1.653\n",
      "[epoch 46][dev ] Acc@1: 0.285 Acc@10: 0.583 Acc@100: 0.785 AccSum: 1.654\n",
      "[epoch 47][dev ] Acc@1: 0.285 Acc@10: 0.586 Acc@100: 0.784 AccSum: 1.655\n",
      "[epoch 47][test] Acc@1: 0.271 Acc@10: 0.569 Acc@100: 0.788 AccSum: 1.628\n",
      "[best epoch: 47]\n",
      "[epoch 48][dev ] Acc@1: 0.286 Acc@10: 0.585 Acc@100: 0.787 AccSum: 1.658\n",
      "[epoch 48][test] Acc@1: 0.272 Acc@10: 0.570 Acc@100: 0.788 AccSum: 1.630\n",
      "[best epoch: 48]\n",
      "[epoch 49][dev ] Acc@1: 0.285 Acc@10: 0.585 Acc@100: 0.786 AccSum: 1.656\n",
      "[epoch 50][dev ] Acc@1: 0.285 Acc@10: 0.585 Acc@100: 0.787 AccSum: 1.657\n"
     ]
    }
   ],
   "source": [
    "model = fc_aligner(input_size=1068, target_size=1368).cuda(GPU_INDEX)\n",
    "optimizer = torch.optim.AdamW(model.parameters(), lr=1e-4)\n",
    "criterion = TripletLoss(margin=0.2, max_violation=True, device=GPU_INDEX)\n",
    "\n",
    "best_sd = train(model, model.parameters(), optimizer, criterion, \\\n",
    "      train_loader, val_loader, valset, test_loader, \\\n",
    "      testset, num_epoch=50, dor=0.0, GPU_INDEX=GPU_INDEX)"
   ]
  },
  {
   "cell_type": "code",
   "execution_count": 13,
   "metadata": {},
   "outputs": [
    {
     "data": {
      "text/plain": [
       "fc_aligner(\n",
       "  (fc1): Linear(in_features=1068, out_features=1368, bias=True)\n",
       ")"
      ]
     },
     "execution_count": 13,
     "metadata": {},
     "output_type": "execute_result"
    }
   ],
   "source": [
    "save_path = \"ft_bert_context_term_to_ft_bert_surface+graph_state_dict.pkl\"\n",
    "torch.save(best_sd, save_path)\n",
    "model = fc_aligner(input_size=1068, target_size=1368).cuda(GPU_INDEX)\n",
    "model.load_state_dict(torch.load(save_path))\n",
    "model.eval()"
   ]
  },
  {
   "cell_type": "code",
   "execution_count": 14,
   "metadata": {},
   "outputs": [
    {
     "data": {
      "application/vnd.jupyter.widget-view+json": {
       "model_id": "18c7b979ad614893a526081533e6bf55",
       "version_major": 2,
       "version_minor": 0
      },
      "text/plain": [
       "HBox(children=(HTML(value=''), FloatProgress(value=0.0, max=67.0), HTML(value='')))"
      ]
     },
     "metadata": {},
     "output_type": "display_data"
    },
    {
     "name": "stdout",
     "output_type": "stream",
     "text": [
      "\n",
      "MRR: 0.373\n"
     ]
    }
   ],
   "source": [
    "mrr = evalMRR(test_loader, model, testset.search_space_embeddings, bsz=64, GPU_INDEX=GPU_INDEX)\n",
    "print (\"MRR: %.3f\" % mrr)\n",
    "\n",
    "# gds = evalGD(test_loader, testset, model, topk=10, dor=0.0, bsz=128, GPU_INDEX=GPU_INDEX)\n",
    "# print (\"MGRD: %.3f MGRD@10: %.3f\" % gds)"
   ]
  },
  {
   "cell_type": "markdown",
   "metadata": {},
   "source": [
    "#### ft_term+bert_term -> ft_surface+bert_surface"
   ]
  },
  {
   "cell_type": "code",
   "execution_count": 7,
   "metadata": {},
   "outputs": [
    {
     "name": "stdout",
     "output_type": "stream",
     "text": [
      "[target embeddings loaded, search space size: 350830]\n"
     ]
    }
   ],
   "source": [
    "chv_train_path = os.path.join(DATA_DIR, 'train.csv')\n",
    "chv_dev_path = os.path.join(DATA_DIR, 'dev.csv')\n",
    "chv_test_path = os.path.join(DATA_DIR, 'test.csv')\n",
    "snomed_vec_path = os.path.join(FEATURE_PATH, \"snomed_surface_fasttext_embeddings_full+snomed_surface_bert_ts100k_embeddings_all_names_mean_full_new.pkl\")\n",
    "term_vec_path = os.path.join(FEATURE_PATH,\"fasttext_term_embeddings+chv_term_embeddings_BERTbr_ts100k.pkl\")\n",
    "\n",
    "train_loader, _ = get_loader_single(FULL_CHV_PATH, chv_train_path,\n",
    "                                    term_vec_path, snomed_vec_path, \n",
    "                                    batch_size=64, shuffle=True, \n",
    "                                    num_workers=10, gran=\"specific\")\n",
    "val_loader, valset = get_loader_single(FULL_CHV_PATH, chv_dev_path, \n",
    "                                       term_vec_path, snomed_vec_path, \n",
    "                                       batch_size=64, shuffle=False, \n",
    "                                       num_workers=10, gran=\"specific\")\n",
    "test_loader, testset = get_loader_single(FULL_CHV_PATH, chv_test_path, \n",
    "                                         term_vec_path, snomed_vec_path, \n",
    "                                         batch_size=64, shuffle=False, \n",
    "                                         num_workers=10, gran=\"specific\", \n",
    "                                         load_target=True)"
   ]
  },
  {
   "cell_type": "code",
   "execution_count": 8,
   "metadata": {
    "scrolled": true
   },
   "outputs": [
    {
     "name": "stdout",
     "output_type": "stream",
     "text": [
      "[epoch 0][dev ] Acc@1: 0.000 Acc@10: 0.003 Acc@100: 0.006 AccSum: 0.009\n",
      "[epoch 1][dev ] Acc@1: 0.146 Acc@10: 0.373 Acc@100: 0.615 AccSum: 1.134\n",
      "[epoch 1][test] Acc@1: 0.157 Acc@10: 0.385 Acc@100: 0.608 AccSum: 1.150\n",
      "[best epoch: 1]\n",
      "[epoch 2][dev ] Acc@1: 0.221 Acc@10: 0.466 Acc@100: 0.668 AccSum: 1.355\n",
      "[epoch 2][test] Acc@1: 0.210 Acc@10: 0.465 Acc@100: 0.694 AccSum: 1.368\n",
      "[best epoch: 2]\n",
      "[epoch 3][dev ] Acc@1: 0.248 Acc@10: 0.505 Acc@100: 0.695 AccSum: 1.448\n",
      "[epoch 3][test] Acc@1: 0.232 Acc@10: 0.492 Acc@100: 0.715 AccSum: 1.440\n",
      "[best epoch: 3]\n",
      "[epoch 4][dev ] Acc@1: 0.270 Acc@10: 0.518 Acc@100: 0.715 AccSum: 1.503\n",
      "[epoch 4][test] Acc@1: 0.246 Acc@10: 0.511 Acc@100: 0.738 AccSum: 1.495\n",
      "[best epoch: 4]\n",
      "[epoch 5][dev ] Acc@1: 0.282 Acc@10: 0.530 Acc@100: 0.725 AccSum: 1.537\n",
      "[epoch 5][test] Acc@1: 0.250 Acc@10: 0.518 Acc@100: 0.746 AccSum: 1.514\n",
      "[best epoch: 5]\n",
      "[epoch 6][dev ] Acc@1: 0.287 Acc@10: 0.542 Acc@100: 0.740 AccSum: 1.569\n",
      "[epoch 6][test] Acc@1: 0.264 Acc@10: 0.529 Acc@100: 0.756 AccSum: 1.549\n",
      "[best epoch: 6]\n",
      "[epoch 7][dev ] Acc@1: 0.285 Acc@10: 0.537 Acc@100: 0.734 AccSum: 1.556\n",
      "[epoch 8][dev ] Acc@1: 0.291 Acc@10: 0.543 Acc@100: 0.742 AccSum: 1.576\n",
      "[epoch 8][test] Acc@1: 0.261 Acc@10: 0.540 Acc@100: 0.758 AccSum: 1.559\n",
      "[best epoch: 8]\n",
      "[epoch 9][dev ] Acc@1: 0.289 Acc@10: 0.544 Acc@100: 0.745 AccSum: 1.578\n",
      "[epoch 9][test] Acc@1: 0.263 Acc@10: 0.537 Acc@100: 0.760 AccSum: 1.560\n",
      "[best epoch: 9]\n",
      "[epoch 10][dev ] Acc@1: 0.291 Acc@10: 0.551 Acc@100: 0.744 AccSum: 1.585\n",
      "[epoch 10][test] Acc@1: 0.261 Acc@10: 0.535 Acc@100: 0.763 AccSum: 1.558\n",
      "[best epoch: 10]\n",
      "[epoch 11][dev ] Acc@1: 0.293 Acc@10: 0.549 Acc@100: 0.745 AccSum: 1.588\n",
      "[epoch 11][test] Acc@1: 0.264 Acc@10: 0.536 Acc@100: 0.761 AccSum: 1.561\n",
      "[best epoch: 11]\n",
      "[epoch 12][dev ] Acc@1: 0.293 Acc@10: 0.551 Acc@100: 0.747 AccSum: 1.592\n",
      "[epoch 12][test] Acc@1: 0.269 Acc@10: 0.541 Acc@100: 0.763 AccSum: 1.573\n",
      "[best epoch: 12]\n",
      "[epoch 13][dev ] Acc@1: 0.292 Acc@10: 0.554 Acc@100: 0.750 AccSum: 1.596\n",
      "[epoch 13][test] Acc@1: 0.264 Acc@10: 0.544 Acc@100: 0.767 AccSum: 1.576\n",
      "[best epoch: 13]\n",
      "[epoch 14][dev ] Acc@1: 0.296 Acc@10: 0.553 Acc@100: 0.752 AccSum: 1.602\n",
      "[epoch 14][test] Acc@1: 0.267 Acc@10: 0.547 Acc@100: 0.770 AccSum: 1.584\n",
      "[best epoch: 14]\n",
      "[epoch 15][dev ] Acc@1: 0.300 Acc@10: 0.554 Acc@100: 0.752 AccSum: 1.606\n",
      "[epoch 15][test] Acc@1: 0.272 Acc@10: 0.546 Acc@100: 0.771 AccSum: 1.588\n",
      "[best epoch: 15]\n",
      "[epoch 16][dev ] Acc@1: 0.293 Acc@10: 0.554 Acc@100: 0.751 AccSum: 1.599\n",
      "[epoch 17][dev ] Acc@1: 0.294 Acc@10: 0.558 Acc@100: 0.756 AccSum: 1.608\n",
      "[epoch 17][test] Acc@1: 0.275 Acc@10: 0.545 Acc@100: 0.770 AccSum: 1.590\n",
      "[best epoch: 17]\n",
      "[epoch 18][dev ] Acc@1: 0.295 Acc@10: 0.558 Acc@100: 0.754 AccSum: 1.608\n",
      "[epoch 19][dev ] Acc@1: 0.300 Acc@10: 0.558 Acc@100: 0.755 AccSum: 1.613\n",
      "[epoch 19][test] Acc@1: 0.270 Acc@10: 0.548 Acc@100: 0.767 AccSum: 1.585\n",
      "[best epoch: 19]\n",
      "[epoch 20][dev ] Acc@1: 0.299 Acc@10: 0.558 Acc@100: 0.757 AccSum: 1.613\n",
      "[epoch 20][test] Acc@1: 0.271 Acc@10: 0.550 Acc@100: 0.771 AccSum: 1.592\n",
      "[best epoch: 20]\n",
      "[epoch 21][dev ] Acc@1: 0.297 Acc@10: 0.559 Acc@100: 0.757 AccSum: 1.613\n",
      "[epoch 22][dev ] Acc@1: 0.297 Acc@10: 0.559 Acc@100: 0.758 AccSum: 1.614\n",
      "[epoch 22][test] Acc@1: 0.273 Acc@10: 0.549 Acc@100: 0.776 AccSum: 1.598\n",
      "[best epoch: 22]\n",
      "[epoch 23][dev ] Acc@1: 0.297 Acc@10: 0.557 Acc@100: 0.759 AccSum: 1.612\n",
      "[epoch 24][dev ] Acc@1: 0.299 Acc@10: 0.560 Acc@100: 0.757 AccSum: 1.616\n",
      "[epoch 24][test] Acc@1: 0.273 Acc@10: 0.548 Acc@100: 0.773 AccSum: 1.594\n",
      "[best epoch: 24]\n",
      "[epoch 25][dev ] Acc@1: 0.304 Acc@10: 0.560 Acc@100: 0.758 AccSum: 1.622\n",
      "[epoch 25][test] Acc@1: 0.272 Acc@10: 0.549 Acc@100: 0.772 AccSum: 1.594\n",
      "[best epoch: 25]\n",
      "[epoch 26][dev ] Acc@1: 0.304 Acc@10: 0.561 Acc@100: 0.758 AccSum: 1.623\n",
      "[epoch 26][test] Acc@1: 0.273 Acc@10: 0.551 Acc@100: 0.770 AccSum: 1.595\n",
      "[best epoch: 26]\n",
      "[epoch 27][dev ] Acc@1: 0.304 Acc@10: 0.562 Acc@100: 0.759 AccSum: 1.625\n",
      "[epoch 27][test] Acc@1: 0.276 Acc@10: 0.554 Acc@100: 0.771 AccSum: 1.601\n",
      "[best epoch: 27]\n",
      "[epoch 28][dev ] Acc@1: 0.304 Acc@10: 0.560 Acc@100: 0.758 AccSum: 1.622\n",
      "[epoch 29][dev ] Acc@1: 0.302 Acc@10: 0.560 Acc@100: 0.759 AccSum: 1.620\n",
      "[epoch 30][dev ] Acc@1: 0.303 Acc@10: 0.563 Acc@100: 0.760 AccSum: 1.626\n",
      "[epoch 30][test] Acc@1: 0.276 Acc@10: 0.552 Acc@100: 0.770 AccSum: 1.599\n",
      "[best epoch: 30]\n",
      "[epoch 31][dev ] Acc@1: 0.301 Acc@10: 0.563 Acc@100: 0.762 AccSum: 1.626\n",
      "[epoch 31][test] Acc@1: 0.278 Acc@10: 0.552 Acc@100: 0.771 AccSum: 1.601\n",
      "[best epoch: 31]\n",
      "[epoch 32][dev ] Acc@1: 0.304 Acc@10: 0.564 Acc@100: 0.760 AccSum: 1.627\n",
      "[epoch 32][test] Acc@1: 0.277 Acc@10: 0.554 Acc@100: 0.771 AccSum: 1.601\n",
      "[best epoch: 32]\n",
      "[epoch 33][dev ] Acc@1: 0.304 Acc@10: 0.564 Acc@100: 0.761 AccSum: 1.629\n",
      "[epoch 33][test] Acc@1: 0.275 Acc@10: 0.554 Acc@100: 0.771 AccSum: 1.600\n",
      "[best epoch: 33]\n",
      "[epoch 34][dev ] Acc@1: 0.304 Acc@10: 0.562 Acc@100: 0.763 AccSum: 1.629\n",
      "[epoch 35][dev ] Acc@1: 0.305 Acc@10: 0.559 Acc@100: 0.764 AccSum: 1.628\n",
      "[epoch 36][dev ] Acc@1: 0.305 Acc@10: 0.559 Acc@100: 0.764 AccSum: 1.628\n",
      "[epoch 37][dev ] Acc@1: 0.301 Acc@10: 0.561 Acc@100: 0.763 AccSum: 1.625\n",
      "[epoch 38][dev ] Acc@1: 0.299 Acc@10: 0.564 Acc@100: 0.761 AccSum: 1.624\n",
      "[epoch 39][dev ] Acc@1: 0.297 Acc@10: 0.564 Acc@100: 0.759 AccSum: 1.621\n",
      "[epoch 40][dev ] Acc@1: 0.301 Acc@10: 0.565 Acc@100: 0.762 AccSum: 1.628\n",
      "[epoch 41][dev ] Acc@1: 0.305 Acc@10: 0.566 Acc@100: 0.764 AccSum: 1.636\n",
      "[epoch 41][test] Acc@1: 0.278 Acc@10: 0.555 Acc@100: 0.773 AccSum: 1.607\n",
      "[best epoch: 41]\n",
      "[epoch 42][dev ] Acc@1: 0.305 Acc@10: 0.566 Acc@100: 0.762 AccSum: 1.633\n",
      "[epoch 43][dev ] Acc@1: 0.306 Acc@10: 0.564 Acc@100: 0.762 AccSum: 1.632\n",
      "[epoch 44][dev ] Acc@1: 0.303 Acc@10: 0.564 Acc@100: 0.761 AccSum: 1.628\n",
      "[epoch 45][dev ] Acc@1: 0.299 Acc@10: 0.565 Acc@100: 0.761 AccSum: 1.625\n",
      "[epoch 46][dev ] Acc@1: 0.300 Acc@10: 0.567 Acc@100: 0.762 AccSum: 1.628\n",
      "[epoch 47][dev ] Acc@1: 0.301 Acc@10: 0.567 Acc@100: 0.763 AccSum: 1.631\n",
      "[epoch 48][dev ] Acc@1: 0.300 Acc@10: 0.567 Acc@100: 0.765 AccSum: 1.632\n",
      "[epoch 49][dev ] Acc@1: 0.301 Acc@10: 0.567 Acc@100: 0.767 AccSum: 1.634\n",
      "[epoch 50][dev ] Acc@1: 0.300 Acc@10: 0.567 Acc@100: 0.764 AccSum: 1.631\n"
     ]
    }
   ],
   "source": [
    "model = fc_aligner(input_size=1068, target_size=1068).cuda(GPU_INDEX)\n",
    "train_params = model.parameters()\n",
    "optimizer = torch.optim.AdamW(train_params, lr=1e-4)\n",
    "criterion = TripletLoss(margin=0.2, max_violation=True, device=GPU_INDEX)\n",
    "\n",
    "best_sd = train(model, train_params, optimizer, criterion, \\\n",
    "      train_loader, val_loader, valset, test_loader, \\\n",
    "      testset, num_epoch=50, dor=0.0, GPU_INDEX=GPU_INDEX)"
   ]
  },
  {
   "cell_type": "code",
   "execution_count": 9,
   "metadata": {},
   "outputs": [
    {
     "data": {
      "text/plain": [
       "fc_aligner(\n",
       "  (fc1): Linear(in_features=1068, out_features=1068, bias=True)\n",
       ")"
      ]
     },
     "execution_count": 9,
     "metadata": {},
     "output_type": "execute_result"
    }
   ],
   "source": [
    "save_path = \"ft_bert_context_term_to_ft_bert_surface_state_dict.pkl\"\n",
    "torch.save(best_sd, save_path)\n",
    "model = fc_aligner(input_size=1068, target_size=1068).cuda(GPU_INDEX)\n",
    "model.load_state_dict(torch.load(save_path))\n",
    "model.eval()"
   ]
  },
  {
   "cell_type": "code",
   "execution_count": 10,
   "metadata": {
    "scrolled": true
   },
   "outputs": [
    {
     "data": {
      "application/vnd.jupyter.widget-view+json": {
       "model_id": "088fda3002b44605b78cf5d74e1ea52f",
       "version_major": 2,
       "version_minor": 0
      },
      "text/plain": [
       "HBox(children=(HTML(value=''), FloatProgress(value=0.0, max=34.0), HTML(value='')))"
      ]
     },
     "metadata": {},
     "output_type": "display_data"
    },
    {
     "name": "stdout",
     "output_type": "stream",
     "text": [
      "\n",
      "MRR: 0.373\n"
     ]
    }
   ],
   "source": [
    "mrr = evalMRR(test_loader, model, testset.search_space_embeddings, bsz=128, dumb=True, GPU_INDEX=GPU_INDEX)\n",
    "print (\"MRR: %.3f\" % mrr)\n",
    "\n",
    "# gds = evalGD(test_loader, testset, model, topk=10, dor=0.0, bsz=256, GPU_INDEX=GPU_INDEX)\n",
    "# print (\"MGRD: %.3f MGRD@10: %.3f\" % gds)"
   ]
  },
  {
   "cell_type": "markdown",
   "metadata": {},
   "source": [
    "####  ft_term+bert_term (multilevel attention) -> ft_surface+bert_surface(+graph)"
   ]
  },
  {
   "cell_type": "code",
   "execution_count": 7,
   "metadata": {},
   "outputs": [
    {
     "name": "stdout",
     "output_type": "stream",
     "text": [
      "[target embeddings loaded, search space size: 350830]\n"
     ]
    }
   ],
   "source": [
    "chv_train_path = os.path.join(DATA_DIR, 'train.csv')\n",
    "chv_dev_path = os.path.join(DATA_DIR, 'dev.csv')\n",
    "chv_test_path = os.path.join(DATA_DIR, 'test.csv')\n",
    "#snomed_vec_path = os.path.join(FEATURE_PATH,\"snomed_surface_fasttext_embeddings_full+snomed_surface_bert_ts100k_embeddings_all_names_mean_full_last_layer_with_ST.pkl\")\n",
    "snomed_vec_path = os.path.join(FEATURE_PATH,\"snomed_surface_fasttext_embeddings_full+snomed_surface_bert_ts100k_embeddings_all_names_mean_full_last_layer_with_ST+snomed_node2vec_300d_20wl_embeddings.pkl\")\n",
    "term_vec_path1 = os.path.join(FEATURE_PATH,\"fasttext_term_embeddings.pkl\")\n",
    "term_vec_path2 = os.path.join(FEATURE_PATH,\"chv_term_embeddings_BERTbr_ts100k_multilevel_all.pkl\")\n",
    "\n",
    "gran=\"specific\"\n",
    "\n",
    "train_dict = build_train_dict(chv_train_path, gran=gran)\n",
    "\n",
    "train_loader, _ = get_loader_mla(FULL_CHV_PATH, chv_train_path, \n",
    "                                 term_vec_path1, term_vec_path2, \n",
    "                                 snomed_vec_path, batch_size=64, \n",
    "                                 shuffle=True, num_workers=10, gran=gran)\n",
    "val_loader, valset = get_loader_mla(FULL_CHV_PATH, chv_dev_path, \n",
    "                                    term_vec_path1, term_vec_path2, \n",
    "                                    snomed_vec_path, batch_size=64, \n",
    "                                    shuffle=False, num_workers=10, gran=gran)\n",
    "test_loader, testset = get_loader_mla(FULL_CHV_PATH, chv_test_path, \n",
    "                                      term_vec_path1, term_vec_path2, \n",
    "                                      snomed_vec_path, batch_size=64,\n",
    "                                      shuffle=False,  num_workers=10, \n",
    "                                      gran=gran, load_target=True)"
   ]
  },
  {
   "cell_type": "code",
   "execution_count": 14,
   "metadata": {
    "scrolled": true
   },
   "outputs": [
    {
     "name": "stdout",
     "output_type": "stream",
     "text": [
      "[epoch 0][dev ] Acc@1: 0.000 Acc@10: 0.000 Acc@100: 0.000 AccSum: 0.000\n",
      "[epoch 1][test] Acc@1: 0.056 Acc@10: 0.154 Acc@100: 0.344 AccSum: 0.554\n",
      "[best epoch: 1]\n",
      "[epoch 2][test] Acc@1: 0.157 Acc@10: 0.396 Acc@100: 0.615 AccSum: 1.168\n",
      "[best epoch: 2]\n",
      "[epoch 3][test] Acc@1: 0.206 Acc@10: 0.480 Acc@100: 0.688 AccSum: 1.374\n",
      "[best epoch: 3]\n",
      "[epoch 4][test] Acc@1: 0.241 Acc@10: 0.515 Acc@100: 0.725 AccSum: 1.481\n",
      "[best epoch: 4]\n",
      "[epoch 5][test] Acc@1: 0.253 Acc@10: 0.524 Acc@100: 0.737 AccSum: 1.513\n",
      "[best epoch: 5]\n",
      "[epoch 6][test] Acc@1: 0.277 Acc@10: 0.550 Acc@100: 0.763 AccSum: 1.590\n",
      "[best epoch: 6]\n",
      "[epoch 7][test] Acc@1: 0.278 Acc@10: 0.558 Acc@100: 0.764 AccSum: 1.600\n",
      "[best epoch: 7]\n",
      "[epoch 8][test] Acc@1: 0.284 Acc@10: 0.575 Acc@100: 0.777 AccSum: 1.635\n",
      "[best epoch: 8]\n",
      "[epoch 9][test] Acc@1: 0.285 Acc@10: 0.583 Acc@100: 0.781 AccSum: 1.648\n",
      "[best epoch: 9]\n",
      "[epoch 10][test] Acc@1: 0.282 Acc@10: 0.586 Acc@100: 0.782 AccSum: 1.650\n",
      "[epoch 11][test] Acc@1: 0.295 Acc@10: 0.599 Acc@100: 0.796 AccSum: 1.690\n",
      "[best epoch: 11]\n",
      "[epoch 12][test] Acc@1: 0.292 Acc@10: 0.602 Acc@100: 0.795 AccSum: 1.689\n",
      "[epoch 13][test] Acc@1: 0.297 Acc@10: 0.605 Acc@100: 0.798 AccSum: 1.700\n",
      "[best epoch: 13]\n",
      "[epoch 14][test] Acc@1: 0.307 Acc@10: 0.613 Acc@100: 0.808 AccSum: 1.728\n",
      "[best epoch: 14]\n",
      "[epoch 15][test] Acc@1: 0.301 Acc@10: 0.612 Acc@100: 0.807 AccSum: 1.720\n",
      "[epoch 16][test] Acc@1: 0.299 Acc@10: 0.608 Acc@100: 0.809 AccSum: 1.716\n",
      "[epoch 17][test] Acc@1: 0.307 Acc@10: 0.608 Acc@100: 0.810 AccSum: 1.725\n",
      "[epoch 18][test] Acc@1: 0.311 Acc@10: 0.612 Acc@100: 0.813 AccSum: 1.736\n",
      "[best epoch: 18]\n",
      "[epoch 19][test] Acc@1: 0.315 Acc@10: 0.612 Acc@100: 0.815 AccSum: 1.742\n",
      "[best epoch: 19]\n",
      "[epoch 20][test] Acc@1: 0.312 Acc@10: 0.612 Acc@100: 0.816 AccSum: 1.741\n",
      "[epoch 21][test] Acc@1: 0.307 Acc@10: 0.613 Acc@100: 0.814 AccSum: 1.735\n",
      "[epoch 22][test] Acc@1: 0.305 Acc@10: 0.611 Acc@100: 0.815 AccSum: 1.732\n",
      "[epoch 23][test] Acc@1: 0.308 Acc@10: 0.615 Acc@100: 0.816 AccSum: 1.740\n",
      "[epoch 24][test] Acc@1: 0.316 Acc@10: 0.620 Acc@100: 0.818 AccSum: 1.754\n",
      "[best epoch: 24]\n",
      "[epoch 25][test] Acc@1: 0.316 Acc@10: 0.620 Acc@100: 0.819 AccSum: 1.755\n",
      "[epoch 26][test] Acc@1: 0.313 Acc@10: 0.619 Acc@100: 0.818 AccSum: 1.750\n",
      "[epoch 27][test] Acc@1: 0.313 Acc@10: 0.619 Acc@100: 0.815 AccSum: 1.748\n",
      "[epoch 28][test] Acc@1: 0.314 Acc@10: 0.620 Acc@100: 0.814 AccSum: 1.749\n",
      "[epoch 29][test] Acc@1: 0.315 Acc@10: 0.621 Acc@100: 0.814 AccSum: 1.750\n",
      "[epoch 30][test] Acc@1: 0.318 Acc@10: 0.620 Acc@100: 0.816 AccSum: 1.755\n",
      "[best epoch: 30]\n",
      "[epoch 31][test] Acc@1: 0.316 Acc@10: 0.620 Acc@100: 0.814 AccSum: 1.750\n",
      "[epoch 32][test] Acc@1: 0.316 Acc@10: 0.623 Acc@100: 0.815 AccSum: 1.755\n",
      "[epoch 33][test] Acc@1: 0.314 Acc@10: 0.622 Acc@100: 0.817 AccSum: 1.753\n",
      "[epoch 34][test] Acc@1: 0.310 Acc@10: 0.621 Acc@100: 0.818 AccSum: 1.749\n",
      "[epoch 35][test] Acc@1: 0.310 Acc@10: 0.619 Acc@100: 0.816 AccSum: 1.746\n",
      "[epoch 36][test] Acc@1: 0.313 Acc@10: 0.619 Acc@100: 0.815 AccSum: 1.748\n",
      "[epoch 37][test] Acc@1: 0.313 Acc@10: 0.620 Acc@100: 0.817 AccSum: 1.749\n",
      "[epoch 38][test] Acc@1: 0.312 Acc@10: 0.621 Acc@100: 0.817 AccSum: 1.749\n",
      "[epoch 39][test] Acc@1: 0.306 Acc@10: 0.620 Acc@100: 0.817 AccSum: 1.743\n",
      "[epoch 40][test] Acc@1: 0.307 Acc@10: 0.621 Acc@100: 0.817 AccSum: 1.744\n",
      "[epoch 41][test] Acc@1: 0.309 Acc@10: 0.622 Acc@100: 0.817 AccSum: 1.747\n",
      "[epoch 42][test] Acc@1: 0.309 Acc@10: 0.622 Acc@100: 0.817 AccSum: 1.748\n",
      "[epoch 43][test] Acc@1: 0.307 Acc@10: 0.620 Acc@100: 0.817 AccSum: 1.745\n",
      "[epoch 44][test] Acc@1: 0.305 Acc@10: 0.621 Acc@100: 0.819 AccSum: 1.745\n",
      "[epoch 45][test] Acc@1: 0.308 Acc@10: 0.625 Acc@100: 0.821 AccSum: 1.753\n",
      "[epoch 46][test] Acc@1: 0.308 Acc@10: 0.626 Acc@100: 0.819 AccSum: 1.753\n",
      "[epoch 47][test] Acc@1: 0.304 Acc@10: 0.621 Acc@100: 0.815 AccSum: 1.740\n",
      "[epoch 48][test] Acc@1: 0.301 Acc@10: 0.621 Acc@100: 0.814 AccSum: 1.736\n",
      "[epoch 49][test] Acc@1: 0.306 Acc@10: 0.623 Acc@100: 0.816 AccSum: 1.745\n",
      "[epoch 50][test] Acc@1: 0.307 Acc@10: 0.623 Acc@100: 0.818 AccSum: 1.748\n"
     ]
    }
   ],
   "source": [
    "model = mla_bert_ft_ensemble(target_len=1368).cuda(GPU_INDEX)\n",
    "\n",
    "# init mla_bert using previous weights\n",
    "#save_path = \"bert_context_term_to_surface_attn_state_dict.pkl\"\n",
    "#model.mla_bert.load_state_dict({\"self_attn.att_weights\":torch.load(save_path)[\"self_attn.att_weights\"]})\n",
    "#model.mla_bert.load_state_dict(torch.load(save_path))\n",
    "\n",
    "optimizer = torch.optim.AdamW(model.parameters(), lr=1e-5)\n",
    "criterion = TripletLoss(margin=0.2, max_violation=True, device=GPU_INDEX)\n",
    "\n",
    "best_sd = train_joint(model, model.parameters(), optimizer, criterion, \\\n",
    "      train_loader, val_loader, valset, test_loader, \\\n",
    "      testset, num_epoch=50, dor=0.0, GPU_INDEX=GPU_INDEX)"
   ]
  },
  {
   "cell_type": "code",
   "execution_count": 8,
   "metadata": {},
   "outputs": [
    {
     "data": {
      "text/plain": [
       "mla_bert_ft_ensemble(\n",
       "  (mla_bert): multilevel_attention(\n",
       "    (self_attn): SelfAttention()\n",
       "  )\n",
       "  (fc): Linear(in_features=1068, out_features=1368, bias=True)\n",
       "  (fc_aligner): fc_aligner(\n",
       "    (fc1): Linear(in_features=300, out_features=300, bias=True)\n",
       "  )\n",
       ")"
      ]
     },
     "execution_count": 8,
     "metadata": {},
     "output_type": "execute_result"
    }
   ],
   "source": [
    "save_path = \"ensemble_w_graph_state_dict.pkl\"\n",
    "#torch.save(best_sd, save_path)\n",
    "model = mla_bert_ft_ensemble(target_len=1368).cuda(GPU_INDEX)\n",
    "model.load_state_dict(torch.load(save_path))\n",
    "model.eval()"
   ]
  },
  {
   "cell_type": "code",
   "execution_count": 16,
   "metadata": {},
   "outputs": [
    {
     "data": {
      "application/vnd.jupyter.widget-view+json": {
       "model_id": "427450d916b04938aa7200a30152e019",
       "version_major": 2,
       "version_minor": 0
      },
      "text/plain": [
       "HBox(children=(HTML(value=''), FloatProgress(value=0.0, max=67.0), HTML(value='')))"
      ]
     },
     "metadata": {},
     "output_type": "display_data"
    },
    {
     "name": "stdout",
     "output_type": "stream",
     "text": [
      "\n",
      "MRR: 0.422\n"
     ]
    }
   ],
   "source": [
    "mrr = evalMRR(test_loader, model, testset.search_space_embeddings, bsz=64, \\\n",
    "              dumb=True, GPU_INDEX=GPU_INDEX, ensemble=True)\n",
    "print (\"MRR: %.3f\" % mrr)\n",
    "\n",
    "# gds = evalGD(test_loader, testset, model, topk=10, dor=0.0, bsz=128, \\\n",
    "#              dumb=False, GPU_INDEX=GPU_INDEX, ensemble=True)\n",
    "# print (\"MGRD: %.3f MGRD@10: %.3f\" % gds)"
   ]
  },
  {
   "cell_type": "code",
   "execution_count": 11,
   "metadata": {},
   "outputs": [
    {
     "name": "stdout",
     "output_type": "stream",
     "text": [
      "ratio attempted by heuristics: 59.0%\n",
      "0.45972449217837963\n",
      "[dict+smatch+model] Acc@1: 0.528 Acc@10: 0.645 Acc@100: 0.746 Acc sum: 1.919\n"
     ]
    }
   ],
   "source": [
    "# # Exact Match + Neural\n",
    "# accs, pred_dict= compute_metrics_backoff(test_loader, testset, model, sf2id=SF2ID, train_dict=None, \\\n",
    "#                            ed_dict=None, topks=(1,10,100), bsz=128, GPU_INDEX=GPU_INDEX, ensemble=True)\n",
    "# print (\"[smatch+model] Acc@1: %.3f Acc@10: %.3f Acc@100: %.3f Acc sum: %.3f\" % \\\n",
    "#        (accs[0], accs[1], accs[2], sum(accs)))\n",
    "\n",
    "# Dict + Stoilos + Neural\n",
    "accs, pred_dict= compute_metrics_backoff(test_loader, testset, model, sf2id=SF2ID, train_dict=None, \\\n",
    "                           ed_dict=ED_DICT, topks=(1,10,100), bsz=64, GPU_INDEX=GPU_INDEX, ensemble=True)\n",
    "print (\"[dict+smatch+model] Acc@1: %.3f Acc@10: %.3f Acc@100: %.3f Acc sum: %.3f\" % \\\n",
    "       (accs[0], accs[1], accs[2], sum(accs)))"
   ]
  },
  {
   "cell_type": "code",
   "execution_count": null,
   "metadata": {},
   "outputs": [],
   "source": []
  }
 ],
 "metadata": {
  "kernelspec": {
   "display_name": "Python 3",
   "language": "python",
   "name": "python3"
  },
  "language_info": {
   "codemirror_mode": {
    "name": "ipython",
    "version": 3
   },
   "file_extension": ".py",
   "mimetype": "text/x-python",
   "name": "python",
   "nbconvert_exporter": "python",
   "pygments_lexer": "ipython3",
   "version": "3.7.6"
  },
  "latex_envs": {
   "LaTeX_envs_menu_present": true,
   "autoclose": false,
   "autocomplete": true,
   "bibliofile": "biblio.bib",
   "cite_by": "apalike",
   "current_citInitial": 1,
   "eqLabelWithNumbers": true,
   "eqNumInitial": 1,
   "hotkeys": {
    "equation": "Ctrl-E",
    "itemize": "Ctrl-I"
   },
   "labels_anchors": false,
   "latex_user_defs": false,
   "report_style_numbering": false,
   "user_envs_cfg": false
  },
  "toc": {
   "base_numbering": 1,
   "nav_menu": {},
   "number_sections": true,
   "sideBar": true,
   "skip_h1_title": false,
   "title_cell": "Table of Contents",
   "title_sidebar": "Contents",
   "toc_cell": false,
   "toc_position": {
    "height": "calc(100% - 180px)",
    "left": "10px",
    "top": "150px",
    "width": "309.967px"
   },
   "toc_section_display": true,
   "toc_window_display": true
  }
 },
 "nbformat": 4,
 "nbformat_minor": 2
}
