{
 "cells": [
  {
   "cell_type": "markdown",
   "metadata": {},
   "source": [
    "## Prelims"
   ]
  },
  {
   "cell_type": "markdown",
   "metadata": {},
   "source": [
    "### configs"
   ]
  },
  {
   "cell_type": "code",
   "execution_count": 1,
   "metadata": {},
   "outputs": [],
   "source": [
    "GPU_INDEX=0\n",
    "DATA_DIR=\"../../data/splits/zeroshot_general/\"\n",
    "FULL_CHV_PATH=\"../../data/chv.csv\"\n",
    "FEATURE_PATH=\"../../data/precomputed_features/\"\n",
    "SNOMED_PATH = \"../../data/SnomedCT_201907/\""
   ]
  },
  {
   "cell_type": "markdown",
   "metadata": {},
   "source": [
    "### imports"
   ]
  },
  {
   "cell_type": "code",
   "execution_count": 2,
   "metadata": {},
   "outputs": [],
   "source": [
    "%load_ext autoreload\n",
    "%autoreload 2\n",
    "\n",
    "import torch\n",
    "import sys\n",
    "import os\n",
    "sys.path.insert(1, os.path.join(sys.path[0], '../../'))\n",
    "from src.data import *\n",
    "from src.loss import *\n",
    "from src.models import *\n",
    "from src.evaluation import *\n",
    "from src.train import *"
   ]
  },
  {
   "cell_type": "code",
   "execution_count": 3,
   "metadata": {},
   "outputs": [
    {
     "data": {
      "text/plain": [
       "<torch._C.Generator at 0x7f3cf40eff90>"
      ]
     },
     "execution_count": 3,
     "metadata": {},
     "output_type": "execute_result"
    }
   ],
   "source": [
    "torch.manual_seed(2020)"
   ]
  },
  {
   "cell_type": "markdown",
   "metadata": {},
   "source": [
    "### load some dicts (to be used later)"
   ]
  },
  {
   "cell_type": "code",
   "execution_count": 4,
   "metadata": {},
   "outputs": [],
   "source": [
    "# load SNOMED graph\n",
    "from data.Snomed import Snomed\n",
    "snomed = Snomed(SNOMED_PATH, taxonomy=False)\n",
    "snomed.load_snomed()"
   ]
  },
  {
   "cell_type": "code",
   "execution_count": 5,
   "metadata": {},
   "outputs": [],
   "source": [
    "# create surface_to_snomed_id dict\n",
    "SF2ID = build_surface_to_snomed_id(snomed)"
   ]
  },
  {
   "cell_type": "code",
   "execution_count": 6,
   "metadata": {},
   "outputs": [],
   "source": [
    "# create testset_row_index_to_ed_dict dict\n",
    "ED_DICT = pkl.load(open(os.path.join(FEATURE_PATH,\"term_ed_dic_zeroshot_general.pkl\"),\"rb\"))\n",
    "ONT_ED_DICT = pkl.load(open(os.path.join(FEATURE_PATH,\"term_onto_ed_dic_zeroshot_general.pkl\"),\"rb\"))"
   ]
  },
  {
   "cell_type": "markdown",
   "metadata": {},
   "source": [
    "## Experiments"
   ]
  },
  {
   "cell_type": "markdown",
   "metadata": {},
   "source": [
    "### BERT align"
   ]
  },
  {
   "cell_type": "markdown",
   "metadata": {},
   "source": [
    "#### static term -> surface"
   ]
  },
  {
   "cell_type": "code",
   "execution_count": 7,
   "metadata": {
    "scrolled": true
   },
   "outputs": [
    {
     "name": "stdout",
     "output_type": "stream",
     "text": [
      "[target embeddings loaded, search space size: 350830]\n"
     ]
    }
   ],
   "source": [
    "# input: static term\n",
    "chv_train_path = os.path.join(DATA_DIR, 'train.csv')\n",
    "chv_dev_path = os.path.join(DATA_DIR, 'dev.csv')\n",
    "chv_test_path = os.path.join(DATA_DIR, 'test.csv')\n",
    "snomed_vec_path = os.path.join(FEATURE_PATH, \"snomed_surface_bert_ts100k_embeddings_all_names_mean_full_new.pkl\")\n",
    "term_vec_path = os.path.join(FEATURE_PATH,\"chv_plain_term_embeddings_BERTbr_ts100k.pkl\")\n",
    "\n",
    "train_loader, _ = get_loader_single(FULL_CHV_PATH, chv_train_path, \n",
    "                                    term_vec_path, snomed_vec_path, \n",
    "                                    batch_size=64, shuffle=True, \n",
    "                                    num_workers=10, gran=\"general\")\n",
    "val_loader, valset = get_loader_single(FULL_CHV_PATH, chv_dev_path,\n",
    "                                       term_vec_path, snomed_vec_path, \n",
    "                                       batch_size=64, shuffle=False, \n",
    "                                       num_workers=10, gran=\"general\")\n",
    "test_loader, testset = get_loader_single(FULL_CHV_PATH, chv_test_path, \n",
    "                                         term_vec_path, snomed_vec_path, \n",
    "                                         batch_size=64, shuffle=False, \n",
    "                                         num_workers=10, gran=\"general\", \n",
    "                                         load_target=True)"
   ]
  },
  {
   "cell_type": "code",
   "execution_count": 9,
   "metadata": {
    "scrolled": true
   },
   "outputs": [
    {
     "name": "stdout",
     "output_type": "stream",
     "text": [
      "[epoch 0][dev ] Acc@1: 0.000 Acc@10: 0.000 Acc@100: 0.002 AccSum: 0.002\n",
      "[epoch 1][dev ] Acc@1: 0.020 Acc@10: 0.164 Acc@100: 0.341 AccSum: 0.525\n",
      "[epoch 1][test] Acc@1: 0.042 Acc@10: 0.143 Acc@100: 0.314 AccSum: 0.499\n",
      "[best epoch: 1]\n",
      "[epoch 2][dev ] Acc@1: 0.112 Acc@10: 0.297 Acc@100: 0.524 AccSum: 0.933\n",
      "[epoch 2][test] Acc@1: 0.102 Acc@10: 0.288 Acc@100: 0.526 AccSum: 0.916\n",
      "[best epoch: 2]\n",
      "[epoch 3][dev ] Acc@1: 0.175 Acc@10: 0.391 Acc@100: 0.608 AccSum: 1.174\n",
      "[epoch 3][test] Acc@1: 0.171 Acc@10: 0.385 Acc@100: 0.605 AccSum: 1.161\n",
      "[best epoch: 3]\n",
      "[epoch 4][dev ] Acc@1: 0.192 Acc@10: 0.433 Acc@100: 0.637 AccSum: 1.261\n",
      "[epoch 4][test] Acc@1: 0.198 Acc@10: 0.431 Acc@100: 0.635 AccSum: 1.264\n",
      "[best epoch: 4]\n",
      "[epoch 5][dev ] Acc@1: 0.219 Acc@10: 0.413 Acc@100: 0.631 AccSum: 1.263\n",
      "[epoch 5][test] Acc@1: 0.200 Acc@10: 0.435 Acc@100: 0.628 AccSum: 1.262\n",
      "[best epoch: 5]\n",
      "[epoch 6][dev ] Acc@1: 0.232 Acc@10: 0.426 Acc@100: 0.653 AccSum: 1.311\n",
      "[epoch 6][test] Acc@1: 0.210 Acc@10: 0.442 Acc@100: 0.642 AccSum: 1.293\n",
      "[best epoch: 6]\n",
      "[epoch 7][dev ] Acc@1: 0.224 Acc@10: 0.420 Acc@100: 0.657 AccSum: 1.301\n",
      "[epoch 8][dev ] Acc@1: 0.218 Acc@10: 0.422 Acc@100: 0.656 AccSum: 1.297\n",
      "[epoch 9][dev ] Acc@1: 0.214 Acc@10: 0.437 Acc@100: 0.681 AccSum: 1.332\n",
      "[epoch 9][test] Acc@1: 0.221 Acc@10: 0.461 Acc@100: 0.647 AccSum: 1.330\n",
      "[best epoch: 9]\n",
      "[epoch 10][dev ] Acc@1: 0.225 Acc@10: 0.441 Acc@100: 0.675 AccSum: 1.340\n",
      "[epoch 10][test] Acc@1: 0.231 Acc@10: 0.474 Acc@100: 0.657 AccSum: 1.361\n",
      "[best epoch: 10]\n",
      "[epoch 11][dev ] Acc@1: 0.233 Acc@10: 0.454 Acc@100: 0.679 AccSum: 1.366\n",
      "[epoch 11][test] Acc@1: 0.235 Acc@10: 0.481 Acc@100: 0.667 AccSum: 1.382\n",
      "[best epoch: 11]\n",
      "[epoch 12][dev ] Acc@1: 0.249 Acc@10: 0.458 Acc@100: 0.682 AccSum: 1.389\n",
      "[epoch 12][test] Acc@1: 0.237 Acc@10: 0.475 Acc@100: 0.668 AccSum: 1.381\n",
      "[best epoch: 12]\n",
      "[epoch 13][dev ] Acc@1: 0.249 Acc@10: 0.461 Acc@100: 0.678 AccSum: 1.388\n",
      "[epoch 14][dev ] Acc@1: 0.246 Acc@10: 0.467 Acc@100: 0.691 AccSum: 1.403\n",
      "[epoch 14][test] Acc@1: 0.247 Acc@10: 0.479 Acc@100: 0.674 AccSum: 1.400\n",
      "[best epoch: 14]\n",
      "[epoch 15][dev ] Acc@1: 0.248 Acc@10: 0.467 Acc@100: 0.700 AccSum: 1.414\n",
      "[epoch 15][test] Acc@1: 0.248 Acc@10: 0.481 Acc@100: 0.676 AccSum: 1.405\n",
      "[best epoch: 15]\n",
      "[epoch 16][dev ] Acc@1: 0.257 Acc@10: 0.473 Acc@100: 0.698 AccSum: 1.428\n",
      "[epoch 16][test] Acc@1: 0.248 Acc@10: 0.488 Acc@100: 0.677 AccSum: 1.413\n",
      "[best epoch: 16]\n",
      "[epoch 17][dev ] Acc@1: 0.257 Acc@10: 0.474 Acc@100: 0.692 AccSum: 1.423\n",
      "[epoch 18][dev ] Acc@1: 0.255 Acc@10: 0.470 Acc@100: 0.683 AccSum: 1.408\n",
      "[epoch 19][dev ] Acc@1: 0.251 Acc@10: 0.471 Acc@100: 0.684 AccSum: 1.407\n",
      "[epoch 20][dev ] Acc@1: 0.249 Acc@10: 0.478 Acc@100: 0.692 AccSum: 1.419\n",
      "[epoch 21][dev ] Acc@1: 0.255 Acc@10: 0.482 Acc@100: 0.698 AccSum: 1.436\n",
      "[epoch 21][test] Acc@1: 0.249 Acc@10: 0.491 Acc@100: 0.684 AccSum: 1.424\n",
      "[best epoch: 21]\n",
      "[epoch 22][dev ] Acc@1: 0.258 Acc@10: 0.475 Acc@100: 0.698 AccSum: 1.432\n",
      "[epoch 23][dev ] Acc@1: 0.258 Acc@10: 0.479 Acc@100: 0.697 AccSum: 1.434\n",
      "[epoch 24][dev ] Acc@1: 0.260 Acc@10: 0.485 Acc@100: 0.698 AccSum: 1.443\n",
      "[epoch 24][test] Acc@1: 0.253 Acc@10: 0.492 Acc@100: 0.682 AccSum: 1.426\n",
      "[best epoch: 24]\n",
      "[epoch 25][dev ] Acc@1: 0.261 Acc@10: 0.492 Acc@100: 0.698 AccSum: 1.452\n",
      "[epoch 25][test] Acc@1: 0.252 Acc@10: 0.494 Acc@100: 0.685 AccSum: 1.431\n",
      "[best epoch: 25]\n",
      "[epoch 26][dev ] Acc@1: 0.263 Acc@10: 0.494 Acc@100: 0.704 AccSum: 1.461\n",
      "[epoch 26][test] Acc@1: 0.252 Acc@10: 0.496 Acc@100: 0.687 AccSum: 1.435\n",
      "[best epoch: 26]\n",
      "[epoch 27][dev ] Acc@1: 0.260 Acc@10: 0.495 Acc@100: 0.701 AccSum: 1.457\n",
      "[epoch 28][dev ] Acc@1: 0.261 Acc@10: 0.489 Acc@100: 0.700 AccSum: 1.450\n",
      "[epoch 29][dev ] Acc@1: 0.261 Acc@10: 0.485 Acc@100: 0.698 AccSum: 1.444\n",
      "[epoch 30][dev ] Acc@1: 0.263 Acc@10: 0.488 Acc@100: 0.698 AccSum: 1.449\n",
      "[epoch 31][dev ] Acc@1: 0.260 Acc@10: 0.491 Acc@100: 0.700 AccSum: 1.450\n",
      "[epoch 32][dev ] Acc@1: 0.263 Acc@10: 0.488 Acc@100: 0.703 AccSum: 1.454\n",
      "[epoch 33][dev ] Acc@1: 0.265 Acc@10: 0.488 Acc@100: 0.703 AccSum: 1.455\n",
      "[epoch 34][dev ] Acc@1: 0.265 Acc@10: 0.490 Acc@100: 0.706 AccSum: 1.460\n",
      "[epoch 35][dev ] Acc@1: 0.266 Acc@10: 0.491 Acc@100: 0.704 AccSum: 1.462\n",
      "[epoch 35][test] Acc@1: 0.261 Acc@10: 0.503 Acc@100: 0.696 AccSum: 1.460\n",
      "[best epoch: 35]\n",
      "[epoch 36][dev ] Acc@1: 0.266 Acc@10: 0.490 Acc@100: 0.706 AccSum: 1.462\n",
      "[epoch 37][dev ] Acc@1: 0.265 Acc@10: 0.487 Acc@100: 0.704 AccSum: 1.456\n",
      "[epoch 38][dev ] Acc@1: 0.266 Acc@10: 0.490 Acc@100: 0.703 AccSum: 1.459\n",
      "[epoch 39][dev ] Acc@1: 0.266 Acc@10: 0.492 Acc@100: 0.703 AccSum: 1.461\n",
      "[epoch 40][dev ] Acc@1: 0.266 Acc@10: 0.492 Acc@100: 0.703 AccSum: 1.461\n",
      "[epoch 41][dev ] Acc@1: 0.268 Acc@10: 0.492 Acc@100: 0.703 AccSum: 1.462\n",
      "[epoch 41][test] Acc@1: 0.262 Acc@10: 0.506 Acc@100: 0.692 AccSum: 1.460\n",
      "[best epoch: 41]\n",
      "[epoch 42][dev ] Acc@1: 0.266 Acc@10: 0.488 Acc@100: 0.706 AccSum: 1.460\n",
      "[epoch 43][dev ] Acc@1: 0.269 Acc@10: 0.491 Acc@100: 0.707 AccSum: 1.467\n",
      "[epoch 43][test] Acc@1: 0.263 Acc@10: 0.506 Acc@100: 0.692 AccSum: 1.461\n",
      "[best epoch: 43]\n",
      "[epoch 44][dev ] Acc@1: 0.269 Acc@10: 0.493 Acc@100: 0.704 AccSum: 1.466\n",
      "[epoch 45][dev ] Acc@1: 0.268 Acc@10: 0.488 Acc@100: 0.704 AccSum: 1.460\n",
      "[epoch 46][dev ] Acc@1: 0.268 Acc@10: 0.488 Acc@100: 0.705 AccSum: 1.461\n",
      "[epoch 47][dev ] Acc@1: 0.268 Acc@10: 0.491 Acc@100: 0.705 AccSum: 1.464\n",
      "[epoch 48][dev ] Acc@1: 0.269 Acc@10: 0.491 Acc@100: 0.701 AccSum: 1.461\n",
      "[epoch 49][dev ] Acc@1: 0.272 Acc@10: 0.494 Acc@100: 0.703 AccSum: 1.469\n",
      "[epoch 49][test] Acc@1: 0.263 Acc@10: 0.510 Acc@100: 0.692 AccSum: 1.466\n",
      "[best epoch: 49]\n",
      "[epoch 50][dev ] Acc@1: 0.271 Acc@10: 0.500 Acc@100: 0.704 AccSum: 1.475\n",
      "[epoch 50][test] Acc@1: 0.266 Acc@10: 0.510 Acc@100: 0.694 AccSum: 1.470\n",
      "[best epoch: 50]\n"
     ]
    }
   ],
   "source": [
    "model = fc_aligner(input_size=768, target_size=768).cuda(GPU_INDEX)\n",
    "train_params = model.parameters()\n",
    "optimizer = torch.optim.AdamW(train_params, lr=1e-4)\n",
    "criterion = TripletLoss(margin=0.2, max_violation=True)\n",
    "\n",
    "best_sd = train(model, train_params, optimizer, criterion, \\\n",
    "      train_loader, val_loader, valset, test_loader, \\\n",
    "      testset, num_epoch=50, dor=0.0)"
   ]
  },
  {
   "cell_type": "code",
   "execution_count": 10,
   "metadata": {},
   "outputs": [
    {
     "data": {
      "text/plain": [
       "fc_aligner(\n",
       "  (fc1): Linear(in_features=768, out_features=768, bias=True)\n",
       ")"
      ]
     },
     "execution_count": 10,
     "metadata": {},
     "output_type": "execute_result"
    }
   ],
   "source": [
    "save_path = \"bert_static_term_to_surface_state_dict.pkl\"\n",
    "torch.save(model.state_dict(), save_path)\n",
    "model = fc_aligner(input_size=768, target_size=768).cuda(GPU_INDEX)\n",
    "model.load_state_dict(torch.load(save_path))\n",
    "model.eval()"
   ]
  },
  {
   "cell_type": "code",
   "execution_count": 11,
   "metadata": {},
   "outputs": [
    {
     "data": {
      "application/vnd.jupyter.widget-view+json": {
       "model_id": "5949793ae8a94e38996738ff1fda5c69",
       "version_major": 2,
       "version_minor": 0
      },
      "text/plain": [
       "HBox(children=(HTML(value=''), FloatProgress(value=0.0, max=32.0), HTML(value='')))"
      ]
     },
     "metadata": {},
     "output_type": "display_data"
    },
    {
     "name": "stdout",
     "output_type": "stream",
     "text": [
      "\n",
      "MRR: 0.344\n"
     ]
    }
   ],
   "source": [
    "mrr = evalMRR(test_loader, model, testset.search_space_embeddings, bsz=128)\n",
    "print (\"MRR: %.3f\" % mrr)\n",
    "\n",
    "# gds = evalGD(test_loader, testset, model, topk=10, dor=0.0, bsz=128)\n",
    "# print (\"MGRD: %.3f MGRD@10: %.3f\" % gds)"
   ]
  },
  {
   "cell_type": "markdown",
   "metadata": {},
   "source": [
    "#### contextual_term -> surface"
   ]
  },
  {
   "cell_type": "markdown",
   "metadata": {},
   "source": [
    "##### mutlilevel attention"
   ]
  },
  {
   "cell_type": "code",
   "execution_count": 11,
   "metadata": {},
   "outputs": [
    {
     "name": "stdout",
     "output_type": "stream",
     "text": [
      "[target embeddings loaded, search space size: 350830]\n"
     ]
    }
   ],
   "source": [
    "# input: contextual_term\n",
    "chv_train_path = os.path.join(DATA_DIR, 'train.csv')\n",
    "chv_dev_path = os.path.join(DATA_DIR, 'dev.csv')\n",
    "chv_test_path = os.path.join(DATA_DIR, 'test.csv')\n",
    "snomed_vec_path = os.path.join(FEATURE_PATH, \"snomed_surface_bert_ts100k_embeddings_all_names_mean_full_last_layer_with_ST.pkl\")\n",
    "term_vec_path = os.path.join(FEATURE_PATH,\"chv_term_embeddings_BERTbr_ts100k_multilevel_all.pkl\")\n",
    "\n",
    "train_loader, _ = get_loader_single(FULL_CHV_PATH, chv_train_path,\n",
    "                                    term_vec_path, snomed_vec_path, \n",
    "                                    batch_size=64, shuffle=True, \n",
    "                                    num_workers=10, gran=\"general\")\n",
    "val_loader, valset = get_loader_single(FULL_CHV_PATH, chv_dev_path, \n",
    "                                       term_vec_path, snomed_vec_path, \n",
    "                                       batch_size=64, shuffle=False, \n",
    "                                       num_workers=10, gran=\"general\")\n",
    "test_loader, testset = get_loader_single(FULL_CHV_PATH, chv_test_path, \n",
    "                                         term_vec_path, snomed_vec_path, \n",
    "                                         batch_size=64, shuffle=False, \n",
    "                                         num_workers=10, gran=\"general\", \n",
    "                                         load_target=True)"
   ]
  },
  {
   "cell_type": "code",
   "execution_count": 12,
   "metadata": {
    "scrolled": true
   },
   "outputs": [
    {
     "name": "stdout",
     "output_type": "stream",
     "text": [
      "[epoch 0][dev ] Acc@1: 0.000 Acc@10: 0.000 Acc@100: 0.002 AccSum: 0.002\n",
      "[epoch 1][dev ] Acc@1: 0.112 Acc@10: 0.331 Acc@100: 0.554 AccSum: 0.997\n",
      "[epoch 1][test] Acc@1: 0.115 Acc@10: 0.340 Acc@100: 0.559 AccSum: 1.014\n",
      "[best epoch: 1]\n",
      "[epoch 2][dev ] Acc@1: 0.181 Acc@10: 0.384 Acc@100: 0.630 AccSum: 1.195\n",
      "[epoch 2][test] Acc@1: 0.187 Acc@10: 0.415 Acc@100: 0.604 AccSum: 1.206\n",
      "[best epoch: 2]\n",
      "[epoch 3][dev ] Acc@1: 0.245 Acc@10: 0.499 Acc@100: 0.735 AccSum: 1.480\n",
      "[epoch 3][test] Acc@1: 0.259 Acc@10: 0.526 Acc@100: 0.711 AccSum: 1.496\n",
      "[best epoch: 3]\n",
      "[epoch 4][dev ] Acc@1: 0.221 Acc@10: 0.470 Acc@100: 0.697 AccSum: 1.388\n",
      "[epoch 5][dev ] Acc@1: 0.263 Acc@10: 0.531 Acc@100: 0.745 AccSum: 1.539\n",
      "[epoch 5][test] Acc@1: 0.279 Acc@10: 0.555 Acc@100: 0.732 AccSum: 1.566\n",
      "[best epoch: 5]\n",
      "[epoch 6][dev ] Acc@1: 0.269 Acc@10: 0.534 Acc@100: 0.744 AccSum: 1.547\n",
      "[epoch 6][test] Acc@1: 0.274 Acc@10: 0.541 Acc@100: 0.725 AccSum: 1.540\n",
      "[best epoch: 6]\n",
      "[epoch 7][dev ] Acc@1: 0.242 Acc@10: 0.501 Acc@100: 0.702 AccSum: 1.444\n",
      "[epoch 8][dev ] Acc@1: 0.278 Acc@10: 0.529 Acc@100: 0.739 AccSum: 1.546\n",
      "[epoch 9][dev ] Acc@1: 0.287 Acc@10: 0.531 Acc@100: 0.750 AccSum: 1.568\n",
      "[epoch 9][test] Acc@1: 0.291 Acc@10: 0.565 Acc@100: 0.744 AccSum: 1.600\n",
      "[best epoch: 9]\n",
      "[epoch 10][dev ] Acc@1: 0.278 Acc@10: 0.529 Acc@100: 0.739 AccSum: 1.545\n",
      "[epoch 11][dev ] Acc@1: 0.257 Acc@10: 0.521 Acc@100: 0.715 AccSum: 1.493\n",
      "[epoch 12][dev ] Acc@1: 0.271 Acc@10: 0.533 Acc@100: 0.733 AccSum: 1.537\n",
      "[epoch 13][dev ] Acc@1: 0.277 Acc@10: 0.541 Acc@100: 0.744 AccSum: 1.562\n",
      "[epoch 14][dev ] Acc@1: 0.275 Acc@10: 0.536 Acc@100: 0.741 AccSum: 1.551\n",
      "[epoch 15][dev ] Acc@1: 0.273 Acc@10: 0.533 Acc@100: 0.739 AccSum: 1.544\n",
      "[epoch 16][dev ] Acc@1: 0.274 Acc@10: 0.523 Acc@100: 0.725 AccSum: 1.521\n",
      "[epoch 17][dev ] Acc@1: 0.278 Acc@10: 0.527 Acc@100: 0.728 AccSum: 1.533\n",
      "[epoch 18][dev ] Acc@1: 0.277 Acc@10: 0.538 Acc@100: 0.742 AccSum: 1.557\n",
      "[epoch 19][dev ] Acc@1: 0.275 Acc@10: 0.541 Acc@100: 0.750 AccSum: 1.566\n",
      "[epoch 20][dev ] Acc@1: 0.272 Acc@10: 0.536 Acc@100: 0.745 AccSum: 1.553\n",
      "[epoch 21][dev ] Acc@1: 0.277 Acc@10: 0.532 Acc@100: 0.740 AccSum: 1.550\n",
      "[epoch 22][dev ] Acc@1: 0.268 Acc@10: 0.530 Acc@100: 0.729 AccSum: 1.527\n",
      "[epoch 23][dev ] Acc@1: 0.268 Acc@10: 0.527 Acc@100: 0.729 AccSum: 1.524\n",
      "[epoch 24][dev ] Acc@1: 0.273 Acc@10: 0.532 Acc@100: 0.739 AccSum: 1.543\n",
      "[epoch 25][dev ] Acc@1: 0.279 Acc@10: 0.535 Acc@100: 0.742 AccSum: 1.555\n",
      "[epoch 26][dev ] Acc@1: 0.282 Acc@10: 0.541 Acc@100: 0.744 AccSum: 1.567\n",
      "[epoch 27][dev ] Acc@1: 0.277 Acc@10: 0.540 Acc@100: 0.739 AccSum: 1.556\n",
      "[epoch 28][dev ] Acc@1: 0.276 Acc@10: 0.534 Acc@100: 0.738 AccSum: 1.548\n",
      "[epoch 29][dev ] Acc@1: 0.279 Acc@10: 0.536 Acc@100: 0.737 AccSum: 1.553\n",
      "[epoch 30][dev ] Acc@1: 0.273 Acc@10: 0.533 Acc@100: 0.735 AccSum: 1.541\n",
      "[epoch 31][dev ] Acc@1: 0.276 Acc@10: 0.534 Acc@100: 0.735 AccSum: 1.545\n",
      "[epoch 32][dev ] Acc@1: 0.280 Acc@10: 0.537 Acc@100: 0.743 AccSum: 1.560\n",
      "[epoch 33][dev ] Acc@1: 0.280 Acc@10: 0.539 Acc@100: 0.745 AccSum: 1.564\n",
      "[epoch 34][dev ] Acc@1: 0.282 Acc@10: 0.538 Acc@100: 0.738 AccSum: 1.558\n",
      "[epoch 35][dev ] Acc@1: 0.281 Acc@10: 0.536 Acc@100: 0.736 AccSum: 1.554\n",
      "[epoch 36][dev ] Acc@1: 0.278 Acc@10: 0.536 Acc@100: 0.735 AccSum: 1.550\n",
      "[epoch 37][dev ] Acc@1: 0.276 Acc@10: 0.536 Acc@100: 0.734 AccSum: 1.545\n",
      "[epoch 38][dev ] Acc@1: 0.278 Acc@10: 0.534 Acc@100: 0.734 AccSum: 1.546\n",
      "[epoch 39][dev ] Acc@1: 0.279 Acc@10: 0.535 Acc@100: 0.735 AccSum: 1.549\n",
      "[epoch 40][dev ] Acc@1: 0.280 Acc@10: 0.540 Acc@100: 0.739 AccSum: 1.559\n",
      "[epoch 41][dev ] Acc@1: 0.281 Acc@10: 0.541 Acc@100: 0.737 AccSum: 1.560\n",
      "[epoch 42][dev ] Acc@1: 0.277 Acc@10: 0.537 Acc@100: 0.736 AccSum: 1.551\n",
      "[epoch 43][dev ] Acc@1: 0.277 Acc@10: 0.539 Acc@100: 0.735 AccSum: 1.552\n",
      "[epoch 44][dev ] Acc@1: 0.280 Acc@10: 0.539 Acc@100: 0.736 AccSum: 1.555\n",
      "[epoch 45][dev ] Acc@1: 0.274 Acc@10: 0.529 Acc@100: 0.730 AccSum: 1.533\n",
      "[epoch 46][dev ] Acc@1: 0.273 Acc@10: 0.527 Acc@100: 0.733 AccSum: 1.533\n",
      "[epoch 47][dev ] Acc@1: 0.278 Acc@10: 0.532 Acc@100: 0.737 AccSum: 1.547\n",
      "[epoch 48][dev ] Acc@1: 0.277 Acc@10: 0.538 Acc@100: 0.737 AccSum: 1.553\n",
      "[epoch 49][dev ] Acc@1: 0.277 Acc@10: 0.529 Acc@100: 0.737 AccSum: 1.544\n",
      "[epoch 50][dev ] Acc@1: 0.273 Acc@10: 0.527 Acc@100: 0.729 AccSum: 1.530\n"
     ]
    }
   ],
   "source": [
    "model = multilevel_attention(input_size=768, target_size=768, lin=True).cuda(GPU_INDEX)\n",
    "optimizer = torch.optim.AdamW(model.parameters(), lr=1e-4)\n",
    "criterion = TripletLoss(margin=0.2, max_violation=True, device=GPU_INDEX)\n",
    "\n",
    "best_sd = train(model, model.parameters(), optimizer, criterion, \\\n",
    "      train_loader, val_loader, valset, test_loader, \\\n",
    "      testset, num_epoch=50, dor=0.0, GPU_INDEX=GPU_INDEX)"
   ]
  },
  {
   "cell_type": "code",
   "execution_count": 13,
   "metadata": {},
   "outputs": [
    {
     "data": {
      "text/plain": [
       "multilevel_attention(\n",
       "  (self_attn): SelfAttention()\n",
       "  (fc): Linear(in_features=768, out_features=768, bias=True)\n",
       ")"
      ]
     },
     "execution_count": 13,
     "metadata": {},
     "output_type": "execute_result"
    }
   ],
   "source": [
    "save_path = \"bert_context_term_to_surface_attn_state_dict.pkl\"\n",
    "torch.save(best_sd, save_path)\n",
    "model = multilevel_attention(input_size=768, target_size=768, lin=True).cuda(GPU_INDEX)\n",
    "model.load_state_dict(torch.load(save_path))\n",
    "model.eval()"
   ]
  },
  {
   "cell_type": "code",
   "execution_count": 14,
   "metadata": {},
   "outputs": [
    {
     "data": {
      "application/vnd.jupyter.widget-view+json": {
       "model_id": "499fbc23486440c285b9a2ea08099a78",
       "version_major": 2,
       "version_minor": 0
      },
      "text/plain": [
       "HBox(children=(HTML(value=''), FloatProgress(value=0.0, max=32.0), HTML(value='')))"
      ]
     },
     "metadata": {},
     "output_type": "display_data"
    },
    {
     "name": "stdout",
     "output_type": "stream",
     "text": [
      "\n",
      "MRR: 0.380\n"
     ]
    }
   ],
   "source": [
    "mrr = evalMRR(test_loader, model, testset.search_space_embeddings, bsz=128, \\\n",
    "              dumb=True, GPU_INDEX=GPU_INDEX)\n",
    "print (\"MRR: %.3f\" % mrr)\n",
    "\n",
    "# gds = evalGD(test_loader, testset, model, topk=10, dor=0.0, bsz=128, \\\n",
    "#             GPU_INDEX=GPU_INDEX)\n",
    "# print (\"MGD: %.3f MGD@10: %.3f\" % gds)"
   ]
  },
  {
   "cell_type": "markdown",
   "metadata": {},
   "source": [
    "##### linear + relu"
   ]
  },
  {
   "cell_type": "code",
   "execution_count": 16,
   "metadata": {},
   "outputs": [
    {
     "name": "stdout",
     "output_type": "stream",
     "text": [
      "[target embeddings loaded, search space size: 350830]\n"
     ]
    }
   ],
   "source": [
    "# input: contextual_term\n",
    "chv_train_path = os.path.join(DATA_DIR, 'train.csv')\n",
    "chv_dev_path = os.path.join(DATA_DIR, 'dev.csv')\n",
    "chv_test_path = os.path.join(DATA_DIR, 'test.csv')\n",
    "snomed_vec_path = os.path.join(FEATURE_PATH, \"snomed_surface_bert_ts100k_embeddings_all_names_mean_full_new.pkl\")\n",
    "term_vec_path = os.path.join(FEATURE_PATH,\"chv_term_embeddings_BERTbr_ts100k.pkl\")\n",
    "\n",
    "train_loader, _ = get_loader_single(FULL_CHV_PATH, chv_train_path,\n",
    "                                    term_vec_path, snomed_vec_path, \n",
    "                                    batch_size=64, shuffle=True, \n",
    "                                    num_workers=10, gran=\"general\")\n",
    "val_loader, valset = get_loader_single(FULL_CHV_PATH, chv_dev_path, \n",
    "                                       term_vec_path, snomed_vec_path, \n",
    "                                       batch_size=64, shuffle=False, \n",
    "                                       num_workers=10, gran=\"general\")\n",
    "test_loader, testset = get_loader_single(FULL_CHV_PATH, chv_test_path, \n",
    "                                         term_vec_path, snomed_vec_path, \n",
    "                                         batch_size=64, shuffle=False, \n",
    "                                         num_workers=10, gran=\"general\", \n",
    "                                         load_target=True)"
   ]
  },
  {
   "cell_type": "code",
   "execution_count": 17,
   "metadata": {
    "scrolled": true
   },
   "outputs": [
    {
     "name": "stdout",
     "output_type": "stream",
     "text": [
      "[epoch 0][dev ] Acc@1: 0.000 Acc@10: 0.000 Acc@100: 0.000 AccSum: 0.000\n",
      "[epoch 1][dev ] Acc@1: 0.132 Acc@10: 0.336 Acc@100: 0.586 AccSum: 1.054\n",
      "[epoch 1][test] Acc@1: 0.136 Acc@10: 0.347 Acc@100: 0.576 AccSum: 1.060\n",
      "[best epoch: 1]\n",
      "[epoch 2][dev ] Acc@1: 0.209 Acc@10: 0.426 Acc@100: 0.659 AccSum: 1.295\n",
      "[epoch 2][test] Acc@1: 0.193 Acc@10: 0.430 Acc@100: 0.648 AccSum: 1.272\n",
      "[best epoch: 2]\n",
      "[epoch 3][dev ] Acc@1: 0.217 Acc@10: 0.445 Acc@100: 0.683 AccSum: 1.344\n",
      "[epoch 3][test] Acc@1: 0.207 Acc@10: 0.468 Acc@100: 0.659 AccSum: 1.334\n",
      "[best epoch: 3]\n",
      "[epoch 4][dev ] Acc@1: 0.216 Acc@10: 0.460 Acc@100: 0.675 AccSum: 1.351\n",
      "[epoch 4][test] Acc@1: 0.211 Acc@10: 0.468 Acc@100: 0.672 AccSum: 1.351\n",
      "[best epoch: 4]\n",
      "[epoch 5][dev ] Acc@1: 0.238 Acc@10: 0.475 Acc@100: 0.691 AccSum: 1.404\n",
      "[epoch 5][test] Acc@1: 0.223 Acc@10: 0.486 Acc@100: 0.687 AccSum: 1.397\n",
      "[best epoch: 5]\n",
      "[epoch 6][dev ] Acc@1: 0.242 Acc@10: 0.462 Acc@100: 0.688 AccSum: 1.392\n",
      "[epoch 7][dev ] Acc@1: 0.241 Acc@10: 0.459 Acc@100: 0.691 AccSum: 1.391\n",
      "[epoch 8][dev ] Acc@1: 0.243 Acc@10: 0.477 Acc@100: 0.696 AccSum: 1.415\n",
      "[epoch 8][test] Acc@1: 0.230 Acc@10: 0.495 Acc@100: 0.693 AccSum: 1.418\n",
      "[best epoch: 8]\n",
      "[epoch 9][dev ] Acc@1: 0.241 Acc@10: 0.472 Acc@100: 0.694 AccSum: 1.407\n",
      "[epoch 10][dev ] Acc@1: 0.244 Acc@10: 0.473 Acc@100: 0.694 AccSum: 1.410\n",
      "[epoch 11][dev ] Acc@1: 0.246 Acc@10: 0.468 Acc@100: 0.698 AccSum: 1.412\n",
      "[epoch 12][dev ] Acc@1: 0.241 Acc@10: 0.470 Acc@100: 0.698 AccSum: 1.409\n",
      "[epoch 13][dev ] Acc@1: 0.240 Acc@10: 0.477 Acc@100: 0.703 AccSum: 1.420\n",
      "[epoch 13][test] Acc@1: 0.236 Acc@10: 0.502 Acc@100: 0.700 AccSum: 1.439\n",
      "[best epoch: 13]\n",
      "[epoch 14][dev ] Acc@1: 0.239 Acc@10: 0.475 Acc@100: 0.706 AccSum: 1.421\n",
      "[epoch 14][test] Acc@1: 0.239 Acc@10: 0.508 Acc@100: 0.702 AccSum: 1.450\n",
      "[best epoch: 14]\n",
      "[epoch 15][dev ] Acc@1: 0.244 Acc@10: 0.478 Acc@100: 0.699 AccSum: 1.420\n",
      "[epoch 16][dev ] Acc@1: 0.244 Acc@10: 0.475 Acc@100: 0.696 AccSum: 1.414\n",
      "[epoch 17][dev ] Acc@1: 0.248 Acc@10: 0.475 Acc@100: 0.700 AccSum: 1.423\n",
      "[epoch 17][test] Acc@1: 0.237 Acc@10: 0.501 Acc@100: 0.700 AccSum: 1.438\n",
      "[best epoch: 17]\n",
      "[epoch 18][dev ] Acc@1: 0.247 Acc@10: 0.474 Acc@100: 0.704 AccSum: 1.425\n",
      "[epoch 18][test] Acc@1: 0.236 Acc@10: 0.501 Acc@100: 0.701 AccSum: 1.438\n",
      "[best epoch: 18]\n",
      "[epoch 19][dev ] Acc@1: 0.249 Acc@10: 0.475 Acc@100: 0.704 AccSum: 1.428\n",
      "[epoch 19][test] Acc@1: 0.238 Acc@10: 0.501 Acc@100: 0.701 AccSum: 1.440\n",
      "[best epoch: 19]\n",
      "[epoch 20][dev ] Acc@1: 0.248 Acc@10: 0.478 Acc@100: 0.703 AccSum: 1.428\n",
      "[epoch 20][test] Acc@1: 0.240 Acc@10: 0.503 Acc@100: 0.701 AccSum: 1.444\n",
      "[best epoch: 20]\n",
      "[epoch 21][dev ] Acc@1: 0.247 Acc@10: 0.480 Acc@100: 0.703 AccSum: 1.430\n",
      "[epoch 21][test] Acc@1: 0.241 Acc@10: 0.505 Acc@100: 0.702 AccSum: 1.449\n",
      "[best epoch: 21]\n",
      "[epoch 22][dev ] Acc@1: 0.246 Acc@10: 0.480 Acc@100: 0.704 AccSum: 1.430\n",
      "[epoch 22][test] Acc@1: 0.242 Acc@10: 0.505 Acc@100: 0.703 AccSum: 1.451\n",
      "[best epoch: 22]\n",
      "[epoch 23][dev ] Acc@1: 0.246 Acc@10: 0.478 Acc@100: 0.706 AccSum: 1.430\n",
      "[epoch 24][dev ] Acc@1: 0.247 Acc@10: 0.477 Acc@100: 0.705 AccSum: 1.429\n",
      "[epoch 25][dev ] Acc@1: 0.248 Acc@10: 0.475 Acc@100: 0.700 AccSum: 1.424\n",
      "[epoch 26][dev ] Acc@1: 0.248 Acc@10: 0.475 Acc@100: 0.701 AccSum: 1.424\n",
      "[epoch 27][dev ] Acc@1: 0.246 Acc@10: 0.478 Acc@100: 0.703 AccSum: 1.426\n",
      "[epoch 28][dev ] Acc@1: 0.248 Acc@10: 0.482 Acc@100: 0.704 AccSum: 1.434\n",
      "[epoch 28][test] Acc@1: 0.239 Acc@10: 0.505 Acc@100: 0.703 AccSum: 1.447\n",
      "[best epoch: 28]\n",
      "[epoch 29][dev ] Acc@1: 0.249 Acc@10: 0.481 Acc@100: 0.706 AccSum: 1.436\n",
      "[epoch 29][test] Acc@1: 0.239 Acc@10: 0.505 Acc@100: 0.703 AccSum: 1.447\n",
      "[best epoch: 29]\n",
      "[epoch 30][dev ] Acc@1: 0.251 Acc@10: 0.483 Acc@100: 0.704 AccSum: 1.437\n",
      "[epoch 30][test] Acc@1: 0.238 Acc@10: 0.505 Acc@100: 0.703 AccSum: 1.446\n",
      "[best epoch: 30]\n",
      "[epoch 31][dev ] Acc@1: 0.253 Acc@10: 0.481 Acc@100: 0.704 AccSum: 1.439\n",
      "[epoch 31][test] Acc@1: 0.238 Acc@10: 0.506 Acc@100: 0.704 AccSum: 1.448\n",
      "[best epoch: 31]\n",
      "[epoch 32][dev ] Acc@1: 0.252 Acc@10: 0.482 Acc@100: 0.703 AccSum: 1.437\n",
      "[epoch 33][dev ] Acc@1: 0.251 Acc@10: 0.481 Acc@100: 0.703 AccSum: 1.434\n",
      "[epoch 34][dev ] Acc@1: 0.250 Acc@10: 0.482 Acc@100: 0.701 AccSum: 1.432\n",
      "[epoch 35][dev ] Acc@1: 0.248 Acc@10: 0.483 Acc@100: 0.704 AccSum: 1.435\n",
      "[epoch 36][dev ] Acc@1: 0.249 Acc@10: 0.482 Acc@100: 0.704 AccSum: 1.435\n",
      "[epoch 37][dev ] Acc@1: 0.250 Acc@10: 0.482 Acc@100: 0.705 AccSum: 1.437\n",
      "[epoch 38][dev ] Acc@1: 0.251 Acc@10: 0.482 Acc@100: 0.704 AccSum: 1.437\n",
      "[epoch 39][dev ] Acc@1: 0.252 Acc@10: 0.481 Acc@100: 0.706 AccSum: 1.439\n",
      "[epoch 39][test] Acc@1: 0.238 Acc@10: 0.502 Acc@100: 0.705 AccSum: 1.445\n",
      "[best epoch: 39]\n",
      "[epoch 40][dev ] Acc@1: 0.254 Acc@10: 0.482 Acc@100: 0.707 AccSum: 1.442\n",
      "[epoch 40][test] Acc@1: 0.238 Acc@10: 0.505 Acc@100: 0.707 AccSum: 1.450\n",
      "[best epoch: 40]\n",
      "[epoch 41][dev ] Acc@1: 0.254 Acc@10: 0.483 Acc@100: 0.707 AccSum: 1.444\n",
      "[epoch 41][test] Acc@1: 0.238 Acc@10: 0.506 Acc@100: 0.707 AccSum: 1.452\n",
      "[best epoch: 41]\n",
      "[epoch 42][dev ] Acc@1: 0.255 Acc@10: 0.485 Acc@100: 0.707 AccSum: 1.446\n",
      "[epoch 42][test] Acc@1: 0.240 Acc@10: 0.508 Acc@100: 0.707 AccSum: 1.455\n",
      "[best epoch: 42]\n",
      "[epoch 43][dev ] Acc@1: 0.255 Acc@10: 0.485 Acc@100: 0.705 AccSum: 1.445\n",
      "[epoch 44][dev ] Acc@1: 0.255 Acc@10: 0.482 Acc@100: 0.703 AccSum: 1.441\n",
      "[epoch 45][dev ] Acc@1: 0.253 Acc@10: 0.478 Acc@100: 0.703 AccSum: 1.434\n",
      "[epoch 46][dev ] Acc@1: 0.252 Acc@10: 0.482 Acc@100: 0.703 AccSum: 1.437\n",
      "[epoch 47][dev ] Acc@1: 0.252 Acc@10: 0.480 Acc@100: 0.704 AccSum: 1.436\n",
      "[epoch 48][dev ] Acc@1: 0.252 Acc@10: 0.480 Acc@100: 0.704 AccSum: 1.436\n",
      "[epoch 49][dev ] Acc@1: 0.253 Acc@10: 0.480 Acc@100: 0.704 AccSum: 1.437\n",
      "[epoch 50][dev ] Acc@1: 0.252 Acc@10: 0.482 Acc@100: 0.705 AccSum: 1.438\n"
     ]
    }
   ],
   "source": [
    "model = fc_aligner(input_size=768, target_size=768).cuda(GPU_INDEX)\n",
    "optimizer = torch.optim.AdamW(model.parameters(), lr=1e-4)\n",
    "criterion = TripletLoss(margin=0.2, max_violation=True, device=GPU_INDEX)\n",
    "\n",
    "best_sd = train(model, model.parameters(), optimizer, criterion, \\\n",
    "      train_loader, val_loader, valset, test_loader, \\\n",
    "      testset, num_epoch=50, dor=0.0, GPU_INDEX=GPU_INDEX)"
   ]
  },
  {
   "cell_type": "code",
   "execution_count": 18,
   "metadata": {},
   "outputs": [
    {
     "data": {
      "text/plain": [
       "fc_aligner(\n",
       "  (fc1): Linear(in_features=768, out_features=768, bias=True)\n",
       ")"
      ]
     },
     "execution_count": 18,
     "metadata": {},
     "output_type": "execute_result"
    }
   ],
   "source": [
    "save_path = \"bert_context_term_to_surface_state_dict.pkl\"\n",
    "torch.save(best_sd, save_path)\n",
    "model = fc_aligner(input_size=768, target_size=768).cuda(GPU_INDEX)\n",
    "model.load_state_dict(torch.load(save_path))\n",
    "model.eval()\n",
    "\n",
    "# val_or_test(model, test_loader, testset.search_space_embeddings, \\\n",
    "#                 epoch=-1, typ=\"test\", bsz=128, GPU_INDEX=GPU_INDEX)"
   ]
  },
  {
   "cell_type": "code",
   "execution_count": 19,
   "metadata": {},
   "outputs": [
    {
     "data": {
      "application/vnd.jupyter.widget-view+json": {
       "model_id": "3c96d02c71d44a47a61c3187face05d7",
       "version_major": 2,
       "version_minor": 0
      },
      "text/plain": [
       "HBox(children=(HTML(value=''), FloatProgress(value=0.0, max=32.0), HTML(value='')))"
      ]
     },
     "metadata": {},
     "output_type": "display_data"
    },
    {
     "name": "stdout",
     "output_type": "stream",
     "text": [
      "\n",
      "MRR: 0.330\n"
     ]
    }
   ],
   "source": [
    "mrr = evalMRR(test_loader, model, testset.search_space_embeddings, bsz=128, \\\n",
    "              dumb=True, GPU_INDEX=GPU_INDEX)\n",
    "print (\"MRR: %.3f\" % mrr)\n",
    "\n",
    "# gds = evalGD(test_loader, testset, model, topk=10, dor=0.0, bsz=128, \\\n",
    "#             GPU_INDEX=GPU_INDEX)\n",
    "# print (\"MGD: %.3f MGD@10: %.3f\" % gds)"
   ]
  },
  {
   "cell_type": "markdown",
   "metadata": {},
   "source": [
    "### fasttext align"
   ]
  },
  {
   "cell_type": "markdown",
   "metadata": {},
   "source": [
    "#### term -> surface"
   ]
  },
  {
   "cell_type": "code",
   "execution_count": 20,
   "metadata": {},
   "outputs": [
    {
     "name": "stdout",
     "output_type": "stream",
     "text": [
      "[target embeddings loaded, search space size: 350830]\n"
     ]
    }
   ],
   "source": [
    "chv_train_path = os.path.join(DATA_DIR, 'train.csv')\n",
    "chv_dev_path = os.path.join(DATA_DIR, 'dev.csv')\n",
    "chv_test_path = os.path.join(DATA_DIR, 'test.csv')\n",
    "snomed_vec_path = os.path.join(FEATURE_PATH, \"snomed_surface_fasttext_embeddings_full.pkl\")\n",
    "term_vec_path = os.path.join(FEATURE_PATH,\"fasttext_term_embeddings.pkl\")\n",
    "\n",
    "train_loader, _ = get_loader_single(FULL_CHV_PATH, chv_train_path,\n",
    "                                    term_vec_path, snomed_vec_path, \n",
    "                                    batch_size=64, shuffle=True, \n",
    "                                    num_workers=10, gran=\"general\")\n",
    "val_loader, valset = get_loader_single(FULL_CHV_PATH, chv_dev_path, \n",
    "                                       term_vec_path, snomed_vec_path, \n",
    "                                       batch_size=64, shuffle=False, \n",
    "                                       num_workers=10, gran=\"general\")\n",
    "test_loader, testset = get_loader_single(FULL_CHV_PATH, chv_test_path, \n",
    "                                         term_vec_path, snomed_vec_path, \n",
    "                                         batch_size=64, shuffle=False, \n",
    "                                         num_workers=10, gran=\"general\", \n",
    "                                         load_target=True)"
   ]
  },
  {
   "cell_type": "code",
   "execution_count": 21,
   "metadata": {
    "scrolled": true
   },
   "outputs": [
    {
     "name": "stdout",
     "output_type": "stream",
     "text": [
      "[epoch 0][dev ] Acc@1: 0.000 Acc@10: 0.002 Acc@100: 0.003 AccSum: 0.005\n",
      "[epoch 1][dev ] Acc@1: 0.031 Acc@10: 0.190 Acc@100: 0.499 AccSum: 0.720\n",
      "[epoch 1][test] Acc@1: 0.055 Acc@10: 0.193 Acc@100: 0.465 AccSum: 0.712\n",
      "[best epoch: 1]\n",
      "[epoch 2][dev ] Acc@1: 0.123 Acc@10: 0.393 Acc@100: 0.686 AccSum: 1.202\n",
      "[epoch 2][test] Acc@1: 0.122 Acc@10: 0.378 Acc@100: 0.673 AccSum: 1.173\n",
      "[best epoch: 2]\n",
      "[epoch 3][dev ] Acc@1: 0.141 Acc@10: 0.466 Acc@100: 0.733 AccSum: 1.341\n",
      "[epoch 3][test] Acc@1: 0.147 Acc@10: 0.435 Acc@100: 0.727 AccSum: 1.309\n",
      "[best epoch: 3]\n",
      "[epoch 4][dev ] Acc@1: 0.159 Acc@10: 0.458 Acc@100: 0.758 AccSum: 1.375\n",
      "[epoch 4][test] Acc@1: 0.170 Acc@10: 0.473 Acc@100: 0.743 AccSum: 1.385\n",
      "[best epoch: 4]\n",
      "[epoch 5][dev ] Acc@1: 0.168 Acc@10: 0.481 Acc@100: 0.750 AccSum: 1.399\n",
      "[epoch 5][test] Acc@1: 0.172 Acc@10: 0.493 Acc@100: 0.753 AccSum: 1.418\n",
      "[best epoch: 5]\n",
      "[epoch 6][dev ] Acc@1: 0.173 Acc@10: 0.490 Acc@100: 0.764 AccSum: 1.426\n",
      "[epoch 6][test] Acc@1: 0.189 Acc@10: 0.503 Acc@100: 0.765 AccSum: 1.458\n",
      "[best epoch: 6]\n",
      "[epoch 7][dev ] Acc@1: 0.170 Acc@10: 0.492 Acc@100: 0.773 AccSum: 1.435\n",
      "[epoch 7][test] Acc@1: 0.194 Acc@10: 0.515 Acc@100: 0.775 AccSum: 1.484\n",
      "[best epoch: 7]\n",
      "[epoch 8][dev ] Acc@1: 0.168 Acc@10: 0.501 Acc@100: 0.780 AccSum: 1.448\n",
      "[epoch 8][test] Acc@1: 0.201 Acc@10: 0.525 Acc@100: 0.782 AccSum: 1.507\n",
      "[best epoch: 8]\n",
      "[epoch 9][dev ] Acc@1: 0.181 Acc@10: 0.511 Acc@100: 0.773 AccSum: 1.466\n",
      "[epoch 9][test] Acc@1: 0.211 Acc@10: 0.527 Acc@100: 0.785 AccSum: 1.523\n",
      "[best epoch: 9]\n",
      "[epoch 10][dev ] Acc@1: 0.179 Acc@10: 0.512 Acc@100: 0.775 AccSum: 1.466\n",
      "[epoch 10][test] Acc@1: 0.202 Acc@10: 0.521 Acc@100: 0.782 AccSum: 1.504\n",
      "[best epoch: 10]\n",
      "[epoch 11][dev ] Acc@1: 0.186 Acc@10: 0.508 Acc@100: 0.774 AccSum: 1.468\n",
      "[epoch 11][test] Acc@1: 0.200 Acc@10: 0.526 Acc@100: 0.785 AccSum: 1.511\n",
      "[best epoch: 11]\n",
      "[epoch 12][dev ] Acc@1: 0.190 Acc@10: 0.505 Acc@100: 0.773 AccSum: 1.468\n",
      "[epoch 13][dev ] Acc@1: 0.184 Acc@10: 0.512 Acc@100: 0.774 AccSum: 1.470\n",
      "[epoch 13][test] Acc@1: 0.207 Acc@10: 0.525 Acc@100: 0.786 AccSum: 1.518\n",
      "[best epoch: 13]\n",
      "[epoch 14][dev ] Acc@1: 0.187 Acc@10: 0.518 Acc@100: 0.768 AccSum: 1.473\n",
      "[epoch 14][test] Acc@1: 0.208 Acc@10: 0.523 Acc@100: 0.783 AccSum: 1.514\n",
      "[best epoch: 14]\n",
      "[epoch 15][dev ] Acc@1: 0.189 Acc@10: 0.521 Acc@100: 0.766 AccSum: 1.477\n",
      "[epoch 15][test] Acc@1: 0.213 Acc@10: 0.528 Acc@100: 0.787 AccSum: 1.528\n",
      "[best epoch: 15]\n",
      "[epoch 16][dev ] Acc@1: 0.187 Acc@10: 0.516 Acc@100: 0.778 AccSum: 1.481\n",
      "[epoch 16][test] Acc@1: 0.214 Acc@10: 0.535 Acc@100: 0.793 AccSum: 1.541\n",
      "[best epoch: 16]\n",
      "[epoch 17][dev ] Acc@1: 0.194 Acc@10: 0.518 Acc@100: 0.782 AccSum: 1.494\n",
      "[epoch 17][test] Acc@1: 0.216 Acc@10: 0.538 Acc@100: 0.798 AccSum: 1.551\n",
      "[best epoch: 17]\n",
      "[epoch 18][dev ] Acc@1: 0.200 Acc@10: 0.518 Acc@100: 0.781 AccSum: 1.499\n",
      "[epoch 18][test] Acc@1: 0.214 Acc@10: 0.534 Acc@100: 0.796 AccSum: 1.544\n",
      "[best epoch: 18]\n",
      "[epoch 19][dev ] Acc@1: 0.198 Acc@10: 0.519 Acc@100: 0.780 AccSum: 1.497\n",
      "[epoch 20][dev ] Acc@1: 0.197 Acc@10: 0.515 Acc@100: 0.776 AccSum: 1.488\n",
      "[epoch 21][dev ] Acc@1: 0.189 Acc@10: 0.516 Acc@100: 0.780 AccSum: 1.486\n",
      "[epoch 22][dev ] Acc@1: 0.191 Acc@10: 0.517 Acc@100: 0.782 AccSum: 1.490\n",
      "[epoch 23][dev ] Acc@1: 0.201 Acc@10: 0.512 Acc@100: 0.785 AccSum: 1.498\n",
      "[epoch 24][dev ] Acc@1: 0.201 Acc@10: 0.512 Acc@100: 0.791 AccSum: 1.504\n",
      "[epoch 24][test] Acc@1: 0.221 Acc@10: 0.529 Acc@100: 0.794 AccSum: 1.545\n",
      "[best epoch: 24]\n",
      "[epoch 25][dev ] Acc@1: 0.205 Acc@10: 0.510 Acc@100: 0.797 AccSum: 1.512\n",
      "[epoch 25][test] Acc@1: 0.221 Acc@10: 0.530 Acc@100: 0.796 AccSum: 1.547\n",
      "[best epoch: 25]\n",
      "[epoch 26][dev ] Acc@1: 0.201 Acc@10: 0.514 Acc@100: 0.795 AccSum: 1.510\n",
      "[epoch 27][dev ] Acc@1: 0.198 Acc@10: 0.509 Acc@100: 0.792 AccSum: 1.498\n",
      "[epoch 28][dev ] Acc@1: 0.202 Acc@10: 0.515 Acc@100: 0.789 AccSum: 1.506\n",
      "[epoch 29][dev ] Acc@1: 0.200 Acc@10: 0.516 Acc@100: 0.787 AccSum: 1.504\n",
      "[epoch 30][dev ] Acc@1: 0.203 Acc@10: 0.519 Acc@100: 0.791 AccSum: 1.514\n",
      "[epoch 30][test] Acc@1: 0.219 Acc@10: 0.527 Acc@100: 0.791 AccSum: 1.537\n",
      "[best epoch: 30]\n",
      "[epoch 31][dev ] Acc@1: 0.205 Acc@10: 0.518 Acc@100: 0.791 AccSum: 1.514\n",
      "[epoch 32][dev ] Acc@1: 0.205 Acc@10: 0.515 Acc@100: 0.793 AccSum: 1.513\n",
      "[epoch 33][dev ] Acc@1: 0.206 Acc@10: 0.512 Acc@100: 0.791 AccSum: 1.510\n",
      "[epoch 34][dev ] Acc@1: 0.206 Acc@10: 0.511 Acc@100: 0.790 AccSum: 1.506\n",
      "[epoch 35][dev ] Acc@1: 0.204 Acc@10: 0.506 Acc@100: 0.788 AccSum: 1.498\n",
      "[epoch 36][dev ] Acc@1: 0.198 Acc@10: 0.508 Acc@100: 0.786 AccSum: 1.492\n",
      "[epoch 37][dev ] Acc@1: 0.198 Acc@10: 0.506 Acc@100: 0.786 AccSum: 1.490\n",
      "[epoch 38][dev ] Acc@1: 0.198 Acc@10: 0.508 Acc@100: 0.786 AccSum: 1.492\n",
      "[epoch 39][dev ] Acc@1: 0.197 Acc@10: 0.506 Acc@100: 0.784 AccSum: 1.487\n",
      "[epoch 40][dev ] Acc@1: 0.199 Acc@10: 0.502 Acc@100: 0.788 AccSum: 1.488\n",
      "[epoch 41][dev ] Acc@1: 0.200 Acc@10: 0.502 Acc@100: 0.784 AccSum: 1.487\n",
      "[epoch 42][dev ] Acc@1: 0.196 Acc@10: 0.504 Acc@100: 0.783 AccSum: 1.483\n",
      "[epoch 43][dev ] Acc@1: 0.196 Acc@10: 0.506 Acc@100: 0.782 AccSum: 1.484\n",
      "[epoch 44][dev ] Acc@1: 0.191 Acc@10: 0.511 Acc@100: 0.780 AccSum: 1.482\n",
      "[epoch 45][dev ] Acc@1: 0.194 Acc@10: 0.505 Acc@100: 0.781 AccSum: 1.480\n",
      "[epoch 46][dev ] Acc@1: 0.193 Acc@10: 0.505 Acc@100: 0.782 AccSum: 1.480\n",
      "[epoch 47][dev ] Acc@1: 0.191 Acc@10: 0.507 Acc@100: 0.779 AccSum: 1.477\n",
      "[epoch 48][dev ] Acc@1: 0.191 Acc@10: 0.507 Acc@100: 0.779 AccSum: 1.477\n",
      "[epoch 49][dev ] Acc@1: 0.194 Acc@10: 0.508 Acc@100: 0.781 AccSum: 1.483\n",
      "[epoch 50][dev ] Acc@1: 0.193 Acc@10: 0.508 Acc@100: 0.781 AccSum: 1.481\n"
     ]
    }
   ],
   "source": [
    "model = fc_aligner(input_size=300, target_size=300).cuda(GPU_INDEX)\n",
    "optimizer = torch.optim.AdamW(model.parameters(), lr=1e-4)\n",
    "criterion = TripletLoss(margin=0.2,max_violation=True,device=GPU_INDEX)\n",
    "\n",
    "best_sd = train(model, model.parameters(), optimizer, criterion, \\\n",
    "      train_loader, val_loader, valset, test_loader, \\\n",
    "      testset, num_epoch=50, dor=0.0, GPU_INDEX=GPU_INDEX)"
   ]
  },
  {
   "cell_type": "code",
   "execution_count": 22,
   "metadata": {},
   "outputs": [
    {
     "data": {
      "text/plain": [
       "fc_aligner(\n",
       "  (fc1): Linear(in_features=300, out_features=300, bias=True)\n",
       ")"
      ]
     },
     "execution_count": 22,
     "metadata": {},
     "output_type": "execute_result"
    }
   ],
   "source": [
    "save_path = \"ft_term_to_surface_state_dict.pkl\"\n",
    "torch.save(best_sd, save_path)\n",
    "model = fc_aligner(input_size=300, target_size=300).cuda(GPU_INDEX)\n",
    "model.load_state_dict(torch.load(save_path))\n",
    "model.eval()"
   ]
  },
  {
   "cell_type": "code",
   "execution_count": 23,
   "metadata": {
    "scrolled": true
   },
   "outputs": [
    {
     "data": {
      "application/vnd.jupyter.widget-view+json": {
       "model_id": "0a6fdf8b3484460287ff59eb8a5b639f",
       "version_major": 2,
       "version_minor": 0
      },
      "text/plain": [
       "HBox(children=(HTML(value=''), FloatProgress(value=0.0, max=32.0), HTML(value='')))"
      ]
     },
     "metadata": {},
     "output_type": "display_data"
    },
    {
     "name": "stdout",
     "output_type": "stream",
     "text": [
      "\n",
      "MRR: 0.322\n"
     ]
    }
   ],
   "source": [
    "mrr = evalMRR(test_loader, model, testset.search_space_embeddings, bsz=128, GPU_INDEX=GPU_INDEX)\n",
    "print (\"MRR: %.3f\" % mrr)\n",
    "\n",
    "# gds = evalGD(test_loader, testset, model, topk=10, dor=0.0, bsz=128, GPU_INDEX=GPU_INDEX)\n",
    "# print (\"MGRD: %.3f MGRD@10: %.3f\" % gds)"
   ]
  },
  {
   "cell_type": "markdown",
   "metadata": {},
   "source": [
    "#### term -> graph"
   ]
  },
  {
   "cell_type": "code",
   "execution_count": 6,
   "metadata": {},
   "outputs": [
    {
     "name": "stdout",
     "output_type": "stream",
     "text": [
      "[target embeddings loaded, search space size: 350830]\n"
     ]
    }
   ],
   "source": [
    "chv_train_path = os.path.join(DATA_DIR, 'train.csv')\n",
    "chv_dev_path = os.path.join(DATA_DIR, 'dev.csv')\n",
    "chv_test_path = os.path.join(DATA_DIR, 'test.csv')\n",
    "snomed_vec_path = os.path.join(FEATURE_PATH, \"snomed_node2vec_300d_20wl_embeddings.pkl\")\n",
    "term_vec_path = os.path.join(FEATURE_PATH,\"fasttext_term_embeddings.pkl\")\n",
    "\n",
    "train_loader, _ = get_loader_single(FULL_CHV_PATH, chv_train_path,\n",
    "                                    term_vec_path, snomed_vec_path, \n",
    "                                    batch_size=64, shuffle=True, \n",
    "                                    num_workers=10, gran=\"general\")\n",
    "val_loader, valset = get_loader_single(FULL_CHV_PATH, chv_dev_path, \n",
    "                                       term_vec_path, snomed_vec_path, \n",
    "                                       batch_size=64, shuffle=False, \n",
    "                                       num_workers=10, gran=\"general\")\n",
    "test_loader, testset = get_loader_single(FULL_CHV_PATH, chv_test_path, \n",
    "                                         term_vec_path, snomed_vec_path, \n",
    "                                         batch_size=64, shuffle=False, \n",
    "                                         num_workers=10, gran=\"general\", \n",
    "                                         load_target=True)"
   ]
  },
  {
   "cell_type": "code",
   "execution_count": 7,
   "metadata": {
    "scrolled": true
   },
   "outputs": [
    {
     "name": "stdout",
     "output_type": "stream",
     "text": [
      "[epoch 0][dev ] Acc@1: 0.000 Acc@10: 0.000 Acc@100: 0.000 AccSum: 0.000\n",
      "[epoch 1][dev ] Acc@1: 0.003 Acc@10: 0.026 Acc@100: 0.107 AccSum: 0.136\n",
      "[epoch 1][test] Acc@1: 0.008 Acc@10: 0.030 Acc@100: 0.111 AccSum: 0.149\n",
      "[best epoch: 1]\n",
      "[epoch 2][dev ] Acc@1: 0.002 Acc@10: 0.039 Acc@100: 0.170 AccSum: 0.211\n",
      "[epoch 2][test] Acc@1: 0.011 Acc@10: 0.049 Acc@100: 0.180 AccSum: 0.241\n",
      "[best epoch: 2]\n",
      "[epoch 3][dev ] Acc@1: 0.011 Acc@10: 0.065 Acc@100: 0.209 AccSum: 0.285\n",
      "[epoch 3][test] Acc@1: 0.016 Acc@10: 0.067 Acc@100: 0.210 AccSum: 0.293\n",
      "[best epoch: 3]\n",
      "[epoch 4][dev ] Acc@1: 0.020 Acc@10: 0.058 Acc@100: 0.205 AccSum: 0.283\n",
      "[epoch 5][dev ] Acc@1: 0.018 Acc@10: 0.075 Acc@100: 0.221 AccSum: 0.314\n",
      "[epoch 5][test] Acc@1: 0.014 Acc@10: 0.079 Acc@100: 0.215 AccSum: 0.307\n",
      "[best epoch: 5]\n",
      "[epoch 6][dev ] Acc@1: 0.014 Acc@10: 0.081 Acc@100: 0.249 AccSum: 0.344\n",
      "[epoch 6][test] Acc@1: 0.014 Acc@10: 0.083 Acc@100: 0.227 AccSum: 0.324\n",
      "[best epoch: 6]\n",
      "[epoch 7][dev ] Acc@1: 0.014 Acc@10: 0.082 Acc@100: 0.252 AccSum: 0.348\n",
      "[epoch 7][test] Acc@1: 0.017 Acc@10: 0.075 Acc@100: 0.228 AccSum: 0.320\n",
      "[best epoch: 7]\n",
      "[epoch 8][dev ] Acc@1: 0.014 Acc@10: 0.074 Acc@100: 0.237 AccSum: 0.324\n",
      "[epoch 9][dev ] Acc@1: 0.012 Acc@10: 0.067 Acc@100: 0.234 AccSum: 0.314\n",
      "[epoch 10][dev ] Acc@1: 0.012 Acc@10: 0.075 Acc@100: 0.239 AccSum: 0.326\n",
      "[epoch 11][dev ] Acc@1: 0.017 Acc@10: 0.083 Acc@100: 0.250 AccSum: 0.350\n",
      "[epoch 11][test] Acc@1: 0.014 Acc@10: 0.077 Acc@100: 0.247 AccSum: 0.337\n",
      "[best epoch: 11]\n",
      "[epoch 12][dev ] Acc@1: 0.018 Acc@10: 0.100 Acc@100: 0.257 AccSum: 0.375\n",
      "[epoch 12][test] Acc@1: 0.014 Acc@10: 0.076 Acc@100: 0.253 AccSum: 0.343\n",
      "[best epoch: 12]\n",
      "[epoch 13][dev ] Acc@1: 0.020 Acc@10: 0.087 Acc@100: 0.272 AccSum: 0.379\n",
      "[epoch 13][test] Acc@1: 0.014 Acc@10: 0.081 Acc@100: 0.257 AccSum: 0.351\n",
      "[best epoch: 13]\n",
      "[epoch 14][dev ] Acc@1: 0.019 Acc@10: 0.089 Acc@100: 0.269 AccSum: 0.377\n",
      "[epoch 15][dev ] Acc@1: 0.019 Acc@10: 0.096 Acc@100: 0.272 AccSum: 0.387\n",
      "[epoch 15][test] Acc@1: 0.014 Acc@10: 0.087 Acc@100: 0.269 AccSum: 0.370\n",
      "[best epoch: 15]\n",
      "[epoch 16][dev ] Acc@1: 0.018 Acc@10: 0.090 Acc@100: 0.269 AccSum: 0.377\n",
      "[epoch 17][dev ] Acc@1: 0.023 Acc@10: 0.086 Acc@100: 0.264 AccSum: 0.373\n",
      "[epoch 18][dev ] Acc@1: 0.021 Acc@10: 0.092 Acc@100: 0.270 AccSum: 0.383\n",
      "[epoch 19][dev ] Acc@1: 0.025 Acc@10: 0.103 Acc@100: 0.273 AccSum: 0.400\n",
      "[epoch 19][test] Acc@1: 0.012 Acc@10: 0.088 Acc@100: 0.263 AccSum: 0.363\n",
      "[best epoch: 19]\n",
      "[epoch 20][dev ] Acc@1: 0.025 Acc@10: 0.106 Acc@100: 0.277 AccSum: 0.408\n",
      "[epoch 20][test] Acc@1: 0.012 Acc@10: 0.093 Acc@100: 0.266 AccSum: 0.371\n",
      "[best epoch: 20]\n",
      "[epoch 21][dev ] Acc@1: 0.023 Acc@10: 0.101 Acc@100: 0.266 AccSum: 0.390\n",
      "[epoch 22][dev ] Acc@1: 0.025 Acc@10: 0.097 Acc@100: 0.268 AccSum: 0.389\n",
      "[epoch 23][dev ] Acc@1: 0.030 Acc@10: 0.100 Acc@100: 0.269 AccSum: 0.398\n",
      "[epoch 24][dev ] Acc@1: 0.028 Acc@10: 0.097 Acc@100: 0.274 AccSum: 0.398\n",
      "[epoch 25][dev ] Acc@1: 0.028 Acc@10: 0.100 Acc@100: 0.275 AccSum: 0.403\n",
      "[epoch 26][dev ] Acc@1: 0.028 Acc@10: 0.103 Acc@100: 0.271 AccSum: 0.401\n",
      "[epoch 27][dev ] Acc@1: 0.030 Acc@10: 0.101 Acc@100: 0.271 AccSum: 0.401\n",
      "[epoch 28][dev ] Acc@1: 0.030 Acc@10: 0.100 Acc@100: 0.274 AccSum: 0.403\n",
      "[epoch 29][dev ] Acc@1: 0.030 Acc@10: 0.103 Acc@100: 0.277 AccSum: 0.409\n",
      "[epoch 29][test] Acc@1: 0.011 Acc@10: 0.092 Acc@100: 0.262 AccSum: 0.364\n",
      "[best epoch: 29]\n",
      "[epoch 30][dev ] Acc@1: 0.030 Acc@10: 0.106 Acc@100: 0.279 AccSum: 0.415\n",
      "[epoch 30][test] Acc@1: 0.011 Acc@10: 0.098 Acc@100: 0.268 AccSum: 0.377\n",
      "[best epoch: 30]\n",
      "[epoch 31][dev ] Acc@1: 0.030 Acc@10: 0.109 Acc@100: 0.282 AccSum: 0.420\n",
      "[epoch 31][test] Acc@1: 0.011 Acc@10: 0.100 Acc@100: 0.271 AccSum: 0.382\n",
      "[best epoch: 31]\n",
      "[epoch 32][dev ] Acc@1: 0.027 Acc@10: 0.108 Acc@100: 0.283 AccSum: 0.418\n",
      "[epoch 33][dev ] Acc@1: 0.025 Acc@10: 0.102 Acc@100: 0.277 AccSum: 0.404\n",
      "[epoch 34][dev ] Acc@1: 0.021 Acc@10: 0.100 Acc@100: 0.271 AccSum: 0.393\n",
      "[epoch 35][dev ] Acc@1: 0.020 Acc@10: 0.099 Acc@100: 0.270 AccSum: 0.388\n",
      "[epoch 36][dev ] Acc@1: 0.020 Acc@10: 0.100 Acc@100: 0.267 AccSum: 0.387\n",
      "[epoch 37][dev ] Acc@1: 0.020 Acc@10: 0.109 Acc@100: 0.270 AccSum: 0.399\n",
      "[epoch 38][dev ] Acc@1: 0.023 Acc@10: 0.112 Acc@100: 0.271 AccSum: 0.407\n",
      "[epoch 39][dev ] Acc@1: 0.023 Acc@10: 0.110 Acc@100: 0.270 AccSum: 0.402\n",
      "[epoch 40][dev ] Acc@1: 0.023 Acc@10: 0.108 Acc@100: 0.268 AccSum: 0.399\n",
      "[epoch 41][dev ] Acc@1: 0.023 Acc@10: 0.104 Acc@100: 0.271 AccSum: 0.398\n",
      "[epoch 42][dev ] Acc@1: 0.023 Acc@10: 0.107 Acc@100: 0.271 AccSum: 0.401\n",
      "[epoch 43][dev ] Acc@1: 0.023 Acc@10: 0.108 Acc@100: 0.270 AccSum: 0.400\n",
      "[epoch 44][dev ] Acc@1: 0.023 Acc@10: 0.108 Acc@100: 0.267 AccSum: 0.397\n",
      "[epoch 45][dev ] Acc@1: 0.023 Acc@10: 0.106 Acc@100: 0.264 AccSum: 0.393\n",
      "[epoch 46][dev ] Acc@1: 0.023 Acc@10: 0.106 Acc@100: 0.265 AccSum: 0.394\n",
      "[epoch 47][dev ] Acc@1: 0.023 Acc@10: 0.102 Acc@100: 0.268 AccSum: 0.393\n",
      "[epoch 48][dev ] Acc@1: 0.023 Acc@10: 0.100 Acc@100: 0.273 AccSum: 0.396\n",
      "[epoch 49][dev ] Acc@1: 0.021 Acc@10: 0.099 Acc@100: 0.271 AccSum: 0.391\n",
      "[epoch 50][dev ] Acc@1: 0.020 Acc@10: 0.099 Acc@100: 0.273 AccSum: 0.391\n"
     ]
    }
   ],
   "source": [
    "model = fc_aligner(input_size=300, target_size=300).cuda(GPU_INDEX)\n",
    "optimizer = torch.optim.AdamW(model.parameters(), lr=1e-4)\n",
    "criterion = TripletLoss(margin=0.2, max_violation=True, device=GPU_INDEX)\n",
    "\n",
    "best_sd = train(model, model.parameters(), optimizer, criterion, \\\n",
    "      train_loader, val_loader, valset, test_loader, \\\n",
    "      testset, num_epoch=50, dor=0.0, GPU_INDEX=GPU_INDEX)"
   ]
  },
  {
   "cell_type": "code",
   "execution_count": 8,
   "metadata": {},
   "outputs": [
    {
     "data": {
      "text/plain": [
       "fc_aligner(\n",
       "  (fc1): Linear(in_features=300, out_features=300, bias=True)\n",
       ")"
      ]
     },
     "execution_count": 8,
     "metadata": {},
     "output_type": "execute_result"
    }
   ],
   "source": [
    "save_path = \"term_to_graph_state_dict.pkl\"\n",
    "torch.save(best_sd, save_path)\n",
    "model = fc_aligner(input_size=300, target_size=300).cuda(GPU_INDEX)\n",
    "model.load_state_dict(torch.load(save_path))\n",
    "model.eval()"
   ]
  },
  {
   "cell_type": "code",
   "execution_count": 10,
   "metadata": {},
   "outputs": [
    {
     "data": {
      "application/vnd.jupyter.widget-view+json": {
       "model_id": "58af1c71b8304a259eea76797b041c90",
       "version_major": 2,
       "version_minor": 0
      },
      "text/plain": [
       "HBox(children=(HTML(value=''), FloatProgress(value=0.0, max=16.0), HTML(value='')))"
      ]
     },
     "metadata": {},
     "output_type": "display_data"
    },
    {
     "name": "stdout",
     "output_type": "stream",
     "text": [
      "\n",
      "MRR: 0.042\n"
     ]
    }
   ],
   "source": [
    "mrr = evalMRR(test_loader, model, testset.search_space_embeddings, bsz=256, dumb=True, GPU_INDEX=GPU_INDEX)\n",
    "print (\"MRR: %.3f\" % mrr)\n",
    "\n",
    "# gds = evalGD(test_loader, testset, model, topk=10, dor=0.0, bsz=256, sample=False,\\\n",
    "#             GPU_INDEX=GPU_INDEX)\n",
    "# print (\"MGD: %.3f MGD@10: %.3f\" % gds)"
   ]
  },
  {
   "cell_type": "markdown",
   "metadata": {},
   "source": [
    "#### term -> surface+graph"
   ]
  },
  {
   "cell_type": "code",
   "execution_count": 11,
   "metadata": {
    "scrolled": true
   },
   "outputs": [
    {
     "name": "stdout",
     "output_type": "stream",
     "text": [
      "[target embeddings loaded, search space size: 350830]\n"
     ]
    }
   ],
   "source": [
    "chv_train_path = os.path.join(DATA_DIR, 'train.csv')\n",
    "chv_dev_path = os.path.join(DATA_DIR, 'dev.csv')\n",
    "chv_test_path = os.path.join(DATA_DIR, 'test.csv')\n",
    "snomed_vec_path = os.path.join(FEATURE_PATH, \"snomed_surface_fasttext_embeddings_full+snomed_node2vec_300d_20wl_embeddings.pkl\")\n",
    "term_vec_path = os.path.join(FEATURE_PATH,\"fasttext_term_embeddings.pkl\")\n",
    "\n",
    "train_loader, _ = get_loader_single(FULL_CHV_PATH, chv_train_path,\n",
    "                                    term_vec_path, snomed_vec_path, \n",
    "                                    batch_size=64, shuffle=True, \n",
    "                                    num_workers=10, gran=\"general\")\n",
    "val_loader, valset = get_loader_single(FULL_CHV_PATH, chv_dev_path, \n",
    "                                       term_vec_path, snomed_vec_path, \n",
    "                                       batch_size=64, shuffle=False, \n",
    "                                       num_workers=10, gran=\"general\")\n",
    "test_loader, testset = get_loader_single(FULL_CHV_PATH, chv_test_path, \n",
    "                                         term_vec_path, snomed_vec_path, \n",
    "                                         batch_size=64, shuffle=False, \n",
    "                                         num_workers=10, gran=\"general\", \n",
    "                                         load_target=True)"
   ]
  },
  {
   "cell_type": "code",
   "execution_count": 12,
   "metadata": {
    "scrolled": true
   },
   "outputs": [
    {
     "name": "stdout",
     "output_type": "stream",
     "text": [
      "[epoch 0][dev ] Acc@1: 0.000 Acc@10: 0.000 Acc@100: 0.000 AccSum: 0.000\n",
      "[epoch 1][dev ] Acc@1: 0.044 Acc@10: 0.185 Acc@100: 0.429 AccSum: 0.658\n",
      "[epoch 1][test] Acc@1: 0.041 Acc@10: 0.160 Acc@100: 0.407 AccSum: 0.608\n",
      "[best epoch: 1]\n",
      "[epoch 2][dev ] Acc@1: 0.063 Acc@10: 0.276 Acc@100: 0.555 AccSum: 0.894\n",
      "[epoch 2][test] Acc@1: 0.080 Acc@10: 0.253 Acc@100: 0.528 AccSum: 0.861\n",
      "[best epoch: 2]\n",
      "[epoch 3][dev ] Acc@1: 0.078 Acc@10: 0.316 Acc@100: 0.596 AccSum: 0.990\n",
      "[epoch 3][test] Acc@1: 0.098 Acc@10: 0.289 Acc@100: 0.566 AccSum: 0.953\n",
      "[best epoch: 3]\n",
      "[epoch 4][dev ] Acc@1: 0.094 Acc@10: 0.346 Acc@100: 0.610 AccSum: 1.051\n",
      "[epoch 4][test] Acc@1: 0.099 Acc@10: 0.321 Acc@100: 0.606 AccSum: 1.025\n",
      "[best epoch: 4]\n",
      "[epoch 5][dev ] Acc@1: 0.106 Acc@10: 0.366 Acc@100: 0.628 AccSum: 1.100\n",
      "[epoch 5][test] Acc@1: 0.103 Acc@10: 0.340 Acc@100: 0.636 AccSum: 1.079\n",
      "[best epoch: 5]\n",
      "[epoch 6][dev ] Acc@1: 0.115 Acc@10: 0.382 Acc@100: 0.648 AccSum: 1.145\n",
      "[epoch 6][test] Acc@1: 0.113 Acc@10: 0.356 Acc@100: 0.635 AccSum: 1.104\n",
      "[best epoch: 6]\n",
      "[epoch 7][dev ] Acc@1: 0.117 Acc@10: 0.387 Acc@100: 0.654 AccSum: 1.157\n",
      "[epoch 7][test] Acc@1: 0.110 Acc@10: 0.369 Acc@100: 0.651 AccSum: 1.130\n",
      "[best epoch: 7]\n",
      "[epoch 8][dev ] Acc@1: 0.121 Acc@10: 0.406 Acc@100: 0.643 AccSum: 1.169\n",
      "[epoch 8][test] Acc@1: 0.108 Acc@10: 0.372 Acc@100: 0.649 AccSum: 1.128\n",
      "[best epoch: 8]\n",
      "[epoch 9][dev ] Acc@1: 0.115 Acc@10: 0.403 Acc@100: 0.650 AccSum: 1.168\n",
      "[epoch 10][dev ] Acc@1: 0.129 Acc@10: 0.410 Acc@100: 0.649 AccSum: 1.188\n",
      "[epoch 10][test] Acc@1: 0.107 Acc@10: 0.381 Acc@100: 0.651 AccSum: 1.139\n",
      "[best epoch: 10]\n",
      "[epoch 11][dev ] Acc@1: 0.132 Acc@10: 0.404 Acc@100: 0.650 AccSum: 1.187\n",
      "[epoch 12][dev ] Acc@1: 0.129 Acc@10: 0.399 Acc@100: 0.652 AccSum: 1.180\n",
      "[epoch 13][dev ] Acc@1: 0.126 Acc@10: 0.392 Acc@100: 0.652 AccSum: 1.170\n",
      "[epoch 14][dev ] Acc@1: 0.127 Acc@10: 0.395 Acc@100: 0.641 AccSum: 1.163\n",
      "[epoch 15][dev ] Acc@1: 0.132 Acc@10: 0.396 Acc@100: 0.649 AccSum: 1.177\n",
      "[epoch 16][dev ] Acc@1: 0.135 Acc@10: 0.417 Acc@100: 0.661 AccSum: 1.213\n",
      "[epoch 16][test] Acc@1: 0.113 Acc@10: 0.385 Acc@100: 0.655 AccSum: 1.152\n",
      "[best epoch: 16]\n",
      "[epoch 17][dev ] Acc@1: 0.130 Acc@10: 0.409 Acc@100: 0.668 AccSum: 1.206\n",
      "[epoch 18][dev ] Acc@1: 0.129 Acc@10: 0.401 Acc@100: 0.660 AccSum: 1.191\n",
      "[epoch 19][dev ] Acc@1: 0.124 Acc@10: 0.398 Acc@100: 0.654 AccSum: 1.176\n",
      "[epoch 20][dev ] Acc@1: 0.123 Acc@10: 0.402 Acc@100: 0.654 AccSum: 1.178\n",
      "[epoch 21][dev ] Acc@1: 0.124 Acc@10: 0.408 Acc@100: 0.652 AccSum: 1.184\n",
      "[epoch 22][dev ] Acc@1: 0.126 Acc@10: 0.408 Acc@100: 0.657 AccSum: 1.192\n",
      "[epoch 23][dev ] Acc@1: 0.123 Acc@10: 0.402 Acc@100: 0.654 AccSum: 1.179\n",
      "[epoch 24][dev ] Acc@1: 0.120 Acc@10: 0.400 Acc@100: 0.654 AccSum: 1.174\n",
      "[epoch 25][dev ] Acc@1: 0.126 Acc@10: 0.400 Acc@100: 0.645 AccSum: 1.171\n",
      "[epoch 26][dev ] Acc@1: 0.125 Acc@10: 0.398 Acc@100: 0.645 AccSum: 1.168\n",
      "[epoch 27][dev ] Acc@1: 0.122 Acc@10: 0.390 Acc@100: 0.640 AccSum: 1.152\n",
      "[epoch 28][dev ] Acc@1: 0.126 Acc@10: 0.390 Acc@100: 0.644 AccSum: 1.159\n",
      "[epoch 29][dev ] Acc@1: 0.125 Acc@10: 0.394 Acc@100: 0.644 AccSum: 1.162\n",
      "[epoch 30][dev ] Acc@1: 0.120 Acc@10: 0.391 Acc@100: 0.637 AccSum: 1.149\n",
      "[epoch 31][dev ] Acc@1: 0.126 Acc@10: 0.388 Acc@100: 0.640 AccSum: 1.155\n",
      "[epoch 32][dev ] Acc@1: 0.123 Acc@10: 0.378 Acc@100: 0.638 AccSum: 1.139\n",
      "[epoch 33][dev ] Acc@1: 0.122 Acc@10: 0.379 Acc@100: 0.635 AccSum: 1.136\n",
      "[epoch 34][dev ] Acc@1: 0.125 Acc@10: 0.379 Acc@100: 0.635 AccSum: 1.140\n",
      "[epoch 35][dev ] Acc@1: 0.124 Acc@10: 0.379 Acc@100: 0.640 AccSum: 1.142\n",
      "[epoch 36][dev ] Acc@1: 0.124 Acc@10: 0.376 Acc@100: 0.641 AccSum: 1.141\n",
      "[epoch 37][dev ] Acc@1: 0.130 Acc@10: 0.379 Acc@100: 0.644 AccSum: 1.153\n",
      "[epoch 38][dev ] Acc@1: 0.131 Acc@10: 0.383 Acc@100: 0.647 AccSum: 1.160\n",
      "[epoch 39][dev ] Acc@1: 0.131 Acc@10: 0.379 Acc@100: 0.650 AccSum: 1.160\n",
      "[epoch 40][dev ] Acc@1: 0.127 Acc@10: 0.379 Acc@100: 0.650 AccSum: 1.156\n",
      "[epoch 41][dev ] Acc@1: 0.128 Acc@10: 0.388 Acc@100: 0.645 AccSum: 1.161\n",
      "[epoch 42][dev ] Acc@1: 0.128 Acc@10: 0.385 Acc@100: 0.644 AccSum: 1.157\n",
      "[epoch 43][dev ] Acc@1: 0.125 Acc@10: 0.384 Acc@100: 0.647 AccSum: 1.155\n",
      "[epoch 44][dev ] Acc@1: 0.125 Acc@10: 0.382 Acc@100: 0.644 AccSum: 1.150\n",
      "[epoch 45][dev ] Acc@1: 0.126 Acc@10: 0.381 Acc@100: 0.644 AccSum: 1.150\n",
      "[epoch 46][dev ] Acc@1: 0.124 Acc@10: 0.379 Acc@100: 0.645 AccSum: 1.149\n",
      "[epoch 47][dev ] Acc@1: 0.126 Acc@10: 0.378 Acc@100: 0.651 AccSum: 1.155\n",
      "[epoch 48][dev ] Acc@1: 0.126 Acc@10: 0.381 Acc@100: 0.653 AccSum: 1.160\n",
      "[epoch 49][dev ] Acc@1: 0.122 Acc@10: 0.384 Acc@100: 0.652 AccSum: 1.158\n",
      "[epoch 50][dev ] Acc@1: 0.125 Acc@10: 0.383 Acc@100: 0.649 AccSum: 1.156\n"
     ]
    }
   ],
   "source": [
    "model = fc_aligner(input_size=300, target_size=600).cuda(GPU_INDEX)\n",
    "train_params = model.parameters()\n",
    "optimizer = torch.optim.AdamW(train_params, lr=1e-4)\n",
    "criterion = TripletLoss(margin=0.2, max_violation=True, device=GPU_INDEX)\n",
    "\n",
    "best_sd = train(model, train_params, optimizer, criterion, \\\n",
    "      train_loader, val_loader, valset, test_loader, \\\n",
    "      testset, num_epoch=50, dor=0.0, GPU_INDEX=GPU_INDEX)"
   ]
  },
  {
   "cell_type": "code",
   "execution_count": 13,
   "metadata": {},
   "outputs": [
    {
     "data": {
      "text/plain": [
       "fc_aligner(\n",
       "  (fc1): Linear(in_features=300, out_features=600, bias=True)\n",
       ")"
      ]
     },
     "execution_count": 13,
     "metadata": {},
     "output_type": "execute_result"
    }
   ],
   "source": [
    "save_path = \"ft_term_to_surface+graph_state_dict.pkl\"\n",
    "torch.save(best_sd, save_path)\n",
    "model = fc_aligner(input_size=300, target_size=600).cuda(GPU_INDEX)\n",
    "model.load_state_dict(torch.load(save_path))\n",
    "model.eval()"
   ]
  },
  {
   "cell_type": "code",
   "execution_count": 14,
   "metadata": {},
   "outputs": [
    {
     "data": {
      "application/vnd.jupyter.widget-view+json": {
       "model_id": "4bc7a825debe4c71af8518393f697897",
       "version_major": 2,
       "version_minor": 0
      },
      "text/plain": [
       "HBox(children=(HTML(value=''), FloatProgress(value=0.0, max=32.0), HTML(value='')))"
      ]
     },
     "metadata": {},
     "output_type": "display_data"
    },
    {
     "name": "stdout",
     "output_type": "stream",
     "text": [
      "\n",
      "MRR: 0.203\n"
     ]
    }
   ],
   "source": [
    "mrr = evalMRR(test_loader, model, testset.search_space_embeddings, bsz=128, dumb=True, GPU_INDEX=GPU_INDEX)\n",
    "print (\"MRR: %.3f\" % mrr)\n",
    "\n",
    "# gds = evalGD(test_loader, testset, model, topk=10, dor=0.0, bsz=128, GPU_INDEX=GPU_INDEX)\n",
    "# print (\"MGD: %.3f MGD@10: %.3f\" % gds)"
   ]
  },
  {
   "cell_type": "markdown",
   "metadata": {},
   "source": [
    "### combine BERT with fasttext"
   ]
  },
  {
   "cell_type": "markdown",
   "metadata": {},
   "source": [
    "#### ft_term+bert_term -> ft_surface+bert_surface+graph"
   ]
  },
  {
   "cell_type": "code",
   "execution_count": 12,
   "metadata": {},
   "outputs": [
    {
     "name": "stdout",
     "output_type": "stream",
     "text": [
      "[target embeddings loaded, search space size: 350830]\n"
     ]
    }
   ],
   "source": [
    "chv_train_path = os.path.join(DATA_DIR, 'train.csv')\n",
    "chv_dev_path = os.path.join(DATA_DIR, 'dev.csv')\n",
    "chv_test_path = os.path.join(DATA_DIR, 'test.csv')\n",
    "snomed_vec_path = os.path.join(FEATURE_PATH, \"snomed_surface_fasttext_embeddings_full+snomed_surface_bert_ts100k_embeddings_all_names_mean_full_new+snomed_node2vec_300d_20wl_embeddings.pkl\")\n",
    "term_vec_path = os.path.join(FEATURE_PATH,\"fasttext_term_embeddings+chv_term_embeddings_BERTbr_ts100k.pkl\")\n",
    "\n",
    "train_loader, _ = get_loader_single(FULL_CHV_PATH, chv_train_path,\n",
    "                                    term_vec_path, snomed_vec_path, \n",
    "                                    batch_size=64, shuffle=True, \n",
    "                                    num_workers=10, gran=\"general\")\n",
    "val_loader, valset = get_loader_single(FULL_CHV_PATH, chv_dev_path, \n",
    "                                       term_vec_path, snomed_vec_path, \n",
    "                                       batch_size=64, shuffle=False, \n",
    "                                       num_workers=10, gran=\"general\")\n",
    "test_loader, testset = get_loader_single(FULL_CHV_PATH, chv_test_path, \n",
    "                                         term_vec_path, snomed_vec_path, \n",
    "                                         batch_size=64, shuffle=False, \n",
    "                                         num_workers=10, gran=\"general\", \n",
    "                                         load_target=True)"
   ]
  },
  {
   "cell_type": "code",
   "execution_count": 14,
   "metadata": {
    "scrolled": true
   },
   "outputs": [
    {
     "name": "stdout",
     "output_type": "stream",
     "text": [
      "[epoch 0][dev ] Acc@1: 0.000 Acc@10: 0.002 Acc@100: 0.005 AccSum: 0.007\n",
      "[epoch 1][dev ] Acc@1: 0.169 Acc@10: 0.399 Acc@100: 0.681 AccSum: 1.249\n",
      "[epoch 1][test] Acc@1: 0.167 Acc@10: 0.422 Acc@100: 0.669 AccSum: 1.259\n",
      "[best epoch: 1]\n",
      "[epoch 2][dev ] Acc@1: 0.225 Acc@10: 0.472 Acc@100: 0.738 AccSum: 1.435\n",
      "[epoch 2][test] Acc@1: 0.210 Acc@10: 0.503 Acc@100: 0.734 AccSum: 1.446\n",
      "[best epoch: 2]\n",
      "[epoch 3][dev ] Acc@1: 0.250 Acc@10: 0.504 Acc@100: 0.765 AccSum: 1.519\n",
      "[epoch 3][test] Acc@1: 0.233 Acc@10: 0.544 Acc@100: 0.770 AccSum: 1.547\n",
      "[best epoch: 3]\n",
      "[epoch 4][dev ] Acc@1: 0.256 Acc@10: 0.520 Acc@100: 0.773 AccSum: 1.550\n",
      "[epoch 4][test] Acc@1: 0.245 Acc@10: 0.550 Acc@100: 0.772 AccSum: 1.567\n",
      "[best epoch: 4]\n",
      "[epoch 5][dev ] Acc@1: 0.268 Acc@10: 0.534 Acc@100: 0.781 AccSum: 1.583\n",
      "[epoch 5][test] Acc@1: 0.253 Acc@10: 0.564 Acc@100: 0.789 AccSum: 1.606\n",
      "[best epoch: 5]\n",
      "[epoch 6][dev ] Acc@1: 0.275 Acc@10: 0.557 Acc@100: 0.791 AccSum: 1.623\n",
      "[epoch 6][test] Acc@1: 0.252 Acc@10: 0.569 Acc@100: 0.793 AccSum: 1.614\n",
      "[best epoch: 6]\n",
      "[epoch 7][dev ] Acc@1: 0.279 Acc@10: 0.552 Acc@100: 0.791 AccSum: 1.622\n",
      "[epoch 8][dev ] Acc@1: 0.279 Acc@10: 0.553 Acc@100: 0.790 AccSum: 1.622\n",
      "[epoch 9][dev ] Acc@1: 0.283 Acc@10: 0.555 Acc@100: 0.795 AccSum: 1.633\n",
      "[epoch 9][test] Acc@1: 0.264 Acc@10: 0.588 Acc@100: 0.805 AccSum: 1.657\n",
      "[best epoch: 9]\n",
      "[epoch 10][dev ] Acc@1: 0.285 Acc@10: 0.567 Acc@100: 0.799 AccSum: 1.652\n",
      "[epoch 10][test] Acc@1: 0.255 Acc@10: 0.588 Acc@100: 0.808 AccSum: 1.651\n",
      "[best epoch: 10]\n",
      "[epoch 11][dev ] Acc@1: 0.282 Acc@10: 0.566 Acc@100: 0.798 AccSum: 1.647\n",
      "[epoch 12][dev ] Acc@1: 0.284 Acc@10: 0.562 Acc@100: 0.800 AccSum: 1.647\n",
      "[epoch 13][dev ] Acc@1: 0.283 Acc@10: 0.571 Acc@100: 0.802 AccSum: 1.656\n",
      "[epoch 13][test] Acc@1: 0.262 Acc@10: 0.597 Acc@100: 0.810 AccSum: 1.669\n",
      "[best epoch: 13]\n",
      "[epoch 14][dev ] Acc@1: 0.283 Acc@10: 0.582 Acc@100: 0.803 AccSum: 1.668\n",
      "[epoch 14][test] Acc@1: 0.263 Acc@10: 0.601 Acc@100: 0.813 AccSum: 1.676\n",
      "[best epoch: 14]\n",
      "[epoch 15][dev ] Acc@1: 0.284 Acc@10: 0.577 Acc@100: 0.805 AccSum: 1.666\n",
      "[epoch 16][dev ] Acc@1: 0.283 Acc@10: 0.571 Acc@100: 0.803 AccSum: 1.657\n",
      "[epoch 17][dev ] Acc@1: 0.283 Acc@10: 0.571 Acc@100: 0.802 AccSum: 1.656\n",
      "[epoch 18][dev ] Acc@1: 0.285 Acc@10: 0.573 Acc@100: 0.809 AccSum: 1.667\n",
      "[epoch 19][dev ] Acc@1: 0.283 Acc@10: 0.575 Acc@100: 0.813 AccSum: 1.671\n",
      "[epoch 19][test] Acc@1: 0.265 Acc@10: 0.607 Acc@100: 0.821 AccSum: 1.693\n",
      "[best epoch: 19]\n",
      "[epoch 20][dev ] Acc@1: 0.284 Acc@10: 0.576 Acc@100: 0.812 AccSum: 1.672\n",
      "[epoch 20][test] Acc@1: 0.264 Acc@10: 0.605 Acc@100: 0.820 AccSum: 1.689\n",
      "[best epoch: 20]\n",
      "[epoch 21][dev ] Acc@1: 0.284 Acc@10: 0.572 Acc@100: 0.812 AccSum: 1.668\n",
      "[epoch 22][dev ] Acc@1: 0.282 Acc@10: 0.572 Acc@100: 0.808 AccSum: 1.662\n",
      "[epoch 23][dev ] Acc@1: 0.285 Acc@10: 0.575 Acc@100: 0.804 AccSum: 1.664\n",
      "[epoch 24][dev ] Acc@1: 0.284 Acc@10: 0.578 Acc@100: 0.808 AccSum: 1.671\n",
      "[epoch 25][dev ] Acc@1: 0.284 Acc@10: 0.577 Acc@100: 0.809 AccSum: 1.670\n",
      "[epoch 26][dev ] Acc@1: 0.283 Acc@10: 0.577 Acc@100: 0.813 AccSum: 1.673\n",
      "[epoch 26][test] Acc@1: 0.267 Acc@10: 0.613 Acc@100: 0.826 AccSum: 1.706\n",
      "[best epoch: 26]\n",
      "[epoch 27][dev ] Acc@1: 0.284 Acc@10: 0.579 Acc@100: 0.813 AccSum: 1.676\n",
      "[epoch 27][test] Acc@1: 0.264 Acc@10: 0.613 Acc@100: 0.822 AccSum: 1.698\n",
      "[best epoch: 27]\n",
      "[epoch 28][dev ] Acc@1: 0.284 Acc@10: 0.578 Acc@100: 0.811 AccSum: 1.673\n",
      "[epoch 29][dev ] Acc@1: 0.285 Acc@10: 0.578 Acc@100: 0.810 AccSum: 1.673\n",
      "[epoch 30][dev ] Acc@1: 0.285 Acc@10: 0.575 Acc@100: 0.810 AccSum: 1.670\n",
      "[epoch 31][dev ] Acc@1: 0.284 Acc@10: 0.577 Acc@100: 0.813 AccSum: 1.674\n",
      "[epoch 32][dev ] Acc@1: 0.285 Acc@10: 0.579 Acc@100: 0.814 AccSum: 1.678\n",
      "[epoch 32][test] Acc@1: 0.267 Acc@10: 0.615 Acc@100: 0.823 AccSum: 1.705\n",
      "[best epoch: 32]\n",
      "[epoch 33][dev ] Acc@1: 0.286 Acc@10: 0.578 Acc@100: 0.812 AccSum: 1.676\n",
      "[epoch 34][dev ] Acc@1: 0.285 Acc@10: 0.579 Acc@100: 0.813 AccSum: 1.677\n",
      "[epoch 35][dev ] Acc@1: 0.284 Acc@10: 0.577 Acc@100: 0.812 AccSum: 1.674\n",
      "[epoch 36][dev ] Acc@1: 0.284 Acc@10: 0.577 Acc@100: 0.811 AccSum: 1.672\n",
      "[epoch 37][dev ] Acc@1: 0.284 Acc@10: 0.577 Acc@100: 0.810 AccSum: 1.671\n",
      "[epoch 38][dev ] Acc@1: 0.287 Acc@10: 0.576 Acc@100: 0.813 AccSum: 1.675\n",
      "[epoch 39][dev ] Acc@1: 0.289 Acc@10: 0.576 Acc@100: 0.812 AccSum: 1.676\n",
      "[epoch 40][dev ] Acc@1: 0.285 Acc@10: 0.577 Acc@100: 0.813 AccSum: 1.675\n",
      "[epoch 41][dev ] Acc@1: 0.287 Acc@10: 0.576 Acc@100: 0.812 AccSum: 1.675\n",
      "[epoch 42][dev ] Acc@1: 0.288 Acc@10: 0.581 Acc@100: 0.812 AccSum: 1.681\n",
      "[epoch 42][test] Acc@1: 0.270 Acc@10: 0.616 Acc@100: 0.827 AccSum: 1.712\n",
      "[best epoch: 42]\n",
      "[epoch 43][dev ] Acc@1: 0.289 Acc@10: 0.581 Acc@100: 0.813 AccSum: 1.682\n",
      "[epoch 43][test] Acc@1: 0.269 Acc@10: 0.616 Acc@100: 0.828 AccSum: 1.713\n",
      "[best epoch: 43]\n",
      "[epoch 44][dev ] Acc@1: 0.288 Acc@10: 0.579 Acc@100: 0.811 AccSum: 1.678\n",
      "[epoch 45][dev ] Acc@1: 0.288 Acc@10: 0.578 Acc@100: 0.810 AccSum: 1.676\n",
      "[epoch 46][dev ] Acc@1: 0.289 Acc@10: 0.577 Acc@100: 0.809 AccSum: 1.675\n",
      "[epoch 47][dev ] Acc@1: 0.289 Acc@10: 0.577 Acc@100: 0.809 AccSum: 1.676\n",
      "[epoch 48][dev ] Acc@1: 0.289 Acc@10: 0.577 Acc@100: 0.811 AccSum: 1.676\n",
      "[epoch 49][dev ] Acc@1: 0.290 Acc@10: 0.580 Acc@100: 0.811 AccSum: 1.680\n",
      "[epoch 50][dev ] Acc@1: 0.290 Acc@10: 0.582 Acc@100: 0.812 AccSum: 1.684\n",
      "[epoch 50][test] Acc@1: 0.272 Acc@10: 0.618 Acc@100: 0.828 AccSum: 1.718\n",
      "[best epoch: 50]\n"
     ]
    }
   ],
   "source": [
    "model = fc_aligner(input_size=1068, target_size=1368).cuda(GPU_INDEX)\n",
    "optimizer = torch.optim.AdamW(model.parameters(), lr=1e-4)\n",
    "criterion = TripletLoss(margin=0.2, max_violation=True, device=GPU_INDEX)\n",
    "\n",
    "best_sd = train(model, model.parameters(), optimizer, criterion, \\\n",
    "      train_loader, val_loader, valset, test_loader, \\\n",
    "      testset, num_epoch=50, dor=0.0, GPU_INDEX=GPU_INDEX)"
   ]
  },
  {
   "cell_type": "code",
   "execution_count": 15,
   "metadata": {},
   "outputs": [
    {
     "data": {
      "text/plain": [
       "fc_aligner(\n",
       "  (fc1): Linear(in_features=1068, out_features=1368, bias=True)\n",
       ")"
      ]
     },
     "execution_count": 15,
     "metadata": {},
     "output_type": "execute_result"
    }
   ],
   "source": [
    "save_path = \"ft_bert_context_term_to_ft_bert_surface+graph_state_dict.pkl\"\n",
    "torch.save(best_sd, save_path)\n",
    "model = fc_aligner(input_size=1068, target_size=1368).cuda(GPU_INDEX)\n",
    "model.load_state_dict(torch.load(save_path))\n",
    "model.eval()"
   ]
  },
  {
   "cell_type": "code",
   "execution_count": 16,
   "metadata": {},
   "outputs": [
    {
     "data": {
      "application/vnd.jupyter.widget-view+json": {
       "model_id": "88a29338119a4e67932594a87746a159",
       "version_major": 2,
       "version_minor": 0
      },
      "text/plain": [
       "HBox(children=(HTML(value=''), FloatProgress(value=0.0, max=32.0), HTML(value='')))"
      ]
     },
     "metadata": {},
     "output_type": "display_data"
    },
    {
     "name": "stdout",
     "output_type": "stream",
     "text": [
      "\n",
      "MRR: 0.388\n"
     ]
    }
   ],
   "source": [
    "mrr = evalMRR(test_loader, model, testset.search_space_embeddings, bsz=64, GPU_INDEX=GPU_INDEX)\n",
    "print (\"MRR: %.3f\" % mrr)\n",
    "\n",
    "# gds = evalGD(test_loader, testset, model, topk=10, dor=0.0, bsz=128, GPU_INDEX=GPU_INDEX)\n",
    "# print (\"MGRD: %.3f MGRD@10: %.3f\" % gds)"
   ]
  },
  {
   "cell_type": "markdown",
   "metadata": {},
   "source": [
    "#### ft_term+bert_term -> ft_surface+bert_surface"
   ]
  },
  {
   "cell_type": "code",
   "execution_count": 19,
   "metadata": {},
   "outputs": [
    {
     "name": "stdout",
     "output_type": "stream",
     "text": [
      "[target embeddings loaded, search space size: 350830]\n"
     ]
    }
   ],
   "source": [
    "chv_train_path = os.path.join(DATA_DIR, 'train.csv')\n",
    "chv_dev_path = os.path.join(DATA_DIR, 'dev.csv')\n",
    "chv_test_path = os.path.join(DATA_DIR, 'test.csv')\n",
    "snomed_vec_path = os.path.join(FEATURE_PATH, \"snomed_surface_fasttext_embeddings_full+snomed_surface_bert_ts100k_embeddings_all_names_mean_full_new.pkl\")\n",
    "term_vec_path = os.path.join(FEATURE_PATH,\"fasttext_term_embeddings+chv_term_embeddings_BERTbr_ts100k.pkl\")\n",
    "\n",
    "train_loader, _ = get_loader_single(FULL_CHV_PATH, chv_train_path,\n",
    "                                    term_vec_path, snomed_vec_path, \n",
    "                                    batch_size=64, shuffle=True, \n",
    "                                    num_workers=10, gran=\"general\")\n",
    "val_loader, valset = get_loader_single(FULL_CHV_PATH, chv_dev_path, \n",
    "                                       term_vec_path, snomed_vec_path, \n",
    "                                       batch_size=64, shuffle=False, \n",
    "                                       num_workers=10, gran=\"general\")\n",
    "test_loader, testset = get_loader_single(FULL_CHV_PATH, chv_test_path, \n",
    "                                         term_vec_path, snomed_vec_path, \n",
    "                                         batch_size=64, shuffle=False, \n",
    "                                         num_workers=10, gran=\"general\", \n",
    "                                         load_target=True)"
   ]
  },
  {
   "cell_type": "code",
   "execution_count": 20,
   "metadata": {
    "scrolled": true
   },
   "outputs": [
    {
     "name": "stdout",
     "output_type": "stream",
     "text": [
      "[epoch 0][dev ] Acc@1: 0.000 Acc@10: 0.000 Acc@100: 0.001 AccSum: 0.001\n",
      "[epoch 1][dev ] Acc@1: 0.134 Acc@10: 0.339 Acc@100: 0.589 AccSum: 1.062\n",
      "[epoch 1][test] Acc@1: 0.136 Acc@10: 0.333 Acc@100: 0.575 AccSum: 1.045\n",
      "[best epoch: 1]\n",
      "[epoch 2][dev ] Acc@1: 0.206 Acc@10: 0.461 Acc@100: 0.713 AccSum: 1.380\n",
      "[epoch 2][test] Acc@1: 0.205 Acc@10: 0.466 Acc@100: 0.717 AccSum: 1.387\n",
      "[best epoch: 2]\n",
      "[epoch 3][dev ] Acc@1: 0.239 Acc@10: 0.494 Acc@100: 0.754 AccSum: 1.487\n",
      "[epoch 3][test] Acc@1: 0.240 Acc@10: 0.521 Acc@100: 0.750 AccSum: 1.511\n",
      "[best epoch: 3]\n",
      "[epoch 4][dev ] Acc@1: 0.260 Acc@10: 0.513 Acc@100: 0.768 AccSum: 1.542\n",
      "[epoch 4][test] Acc@1: 0.245 Acc@10: 0.528 Acc@100: 0.754 AccSum: 1.528\n",
      "[best epoch: 4]\n",
      "[epoch 5][dev ] Acc@1: 0.264 Acc@10: 0.521 Acc@100: 0.771 AccSum: 1.556\n",
      "[epoch 5][test] Acc@1: 0.257 Acc@10: 0.540 Acc@100: 0.761 AccSum: 1.558\n",
      "[best epoch: 5]\n",
      "[epoch 6][dev ] Acc@1: 0.274 Acc@10: 0.528 Acc@100: 0.780 AccSum: 1.582\n",
      "[epoch 6][test] Acc@1: 0.266 Acc@10: 0.551 Acc@100: 0.769 AccSum: 1.585\n",
      "[best epoch: 6]\n",
      "[epoch 7][dev ] Acc@1: 0.285 Acc@10: 0.536 Acc@100: 0.785 AccSum: 1.607\n",
      "[epoch 7][test] Acc@1: 0.269 Acc@10: 0.555 Acc@100: 0.778 AccSum: 1.602\n",
      "[best epoch: 7]\n",
      "[epoch 8][dev ] Acc@1: 0.291 Acc@10: 0.538 Acc@100: 0.788 AccSum: 1.616\n",
      "[epoch 8][test] Acc@1: 0.274 Acc@10: 0.564 Acc@100: 0.783 AccSum: 1.622\n",
      "[best epoch: 8]\n",
      "[epoch 9][dev ] Acc@1: 0.290 Acc@10: 0.536 Acc@100: 0.784 AccSum: 1.610\n",
      "[epoch 10][dev ] Acc@1: 0.288 Acc@10: 0.534 Acc@100: 0.789 AccSum: 1.610\n",
      "[epoch 11][dev ] Acc@1: 0.292 Acc@10: 0.544 Acc@100: 0.788 AccSum: 1.624\n",
      "[epoch 11][test] Acc@1: 0.271 Acc@10: 0.562 Acc@100: 0.781 AccSum: 1.614\n",
      "[best epoch: 11]\n",
      "[epoch 12][dev ] Acc@1: 0.296 Acc@10: 0.546 Acc@100: 0.794 AccSum: 1.637\n",
      "[epoch 12][test] Acc@1: 0.272 Acc@10: 0.567 Acc@100: 0.785 AccSum: 1.625\n",
      "[best epoch: 12]\n",
      "[epoch 13][dev ] Acc@1: 0.294 Acc@10: 0.550 Acc@100: 0.792 AccSum: 1.636\n",
      "[epoch 14][dev ] Acc@1: 0.296 Acc@10: 0.544 Acc@100: 0.789 AccSum: 1.629\n",
      "[epoch 15][dev ] Acc@1: 0.298 Acc@10: 0.542 Acc@100: 0.785 AccSum: 1.626\n",
      "[epoch 16][dev ] Acc@1: 0.303 Acc@10: 0.547 Acc@100: 0.792 AccSum: 1.642\n",
      "[epoch 16][test] Acc@1: 0.280 Acc@10: 0.577 Acc@100: 0.790 AccSum: 1.648\n",
      "[best epoch: 16]\n",
      "[epoch 17][dev ] Acc@1: 0.305 Acc@10: 0.552 Acc@100: 0.795 AccSum: 1.652\n",
      "[epoch 17][test] Acc@1: 0.283 Acc@10: 0.578 Acc@100: 0.791 AccSum: 1.652\n",
      "[best epoch: 17]\n",
      "[epoch 18][dev ] Acc@1: 0.305 Acc@10: 0.548 Acc@100: 0.796 AccSum: 1.649\n",
      "[epoch 19][dev ] Acc@1: 0.303 Acc@10: 0.547 Acc@100: 0.798 AccSum: 1.649\n",
      "[epoch 20][dev ] Acc@1: 0.306 Acc@10: 0.553 Acc@100: 0.796 AccSum: 1.654\n",
      "[epoch 20][test] Acc@1: 0.283 Acc@10: 0.584 Acc@100: 0.797 AccSum: 1.664\n",
      "[best epoch: 20]\n",
      "[epoch 21][dev ] Acc@1: 0.308 Acc@10: 0.556 Acc@100: 0.797 AccSum: 1.661\n",
      "[epoch 21][test] Acc@1: 0.285 Acc@10: 0.586 Acc@100: 0.797 AccSum: 1.668\n",
      "[best epoch: 21]\n",
      "[epoch 22][dev ] Acc@1: 0.308 Acc@10: 0.556 Acc@100: 0.798 AccSum: 1.662\n",
      "[epoch 22][test] Acc@1: 0.287 Acc@10: 0.587 Acc@100: 0.797 AccSum: 1.671\n",
      "[best epoch: 22]\n",
      "[epoch 23][dev ] Acc@1: 0.306 Acc@10: 0.556 Acc@100: 0.797 AccSum: 1.659\n",
      "[epoch 24][dev ] Acc@1: 0.306 Acc@10: 0.554 Acc@100: 0.800 AccSum: 1.660\n",
      "[epoch 25][dev ] Acc@1: 0.305 Acc@10: 0.554 Acc@100: 0.800 AccSum: 1.659\n",
      "[epoch 26][dev ] Acc@1: 0.303 Acc@10: 0.554 Acc@100: 0.801 AccSum: 1.658\n",
      "[epoch 27][dev ] Acc@1: 0.304 Acc@10: 0.556 Acc@100: 0.800 AccSum: 1.660\n",
      "[epoch 28][dev ] Acc@1: 0.305 Acc@10: 0.559 Acc@100: 0.802 AccSum: 1.665\n",
      "[epoch 28][test] Acc@1: 0.286 Acc@10: 0.592 Acc@100: 0.797 AccSum: 1.675\n",
      "[best epoch: 28]\n",
      "[epoch 29][dev ] Acc@1: 0.307 Acc@10: 0.562 Acc@100: 0.803 AccSum: 1.673\n",
      "[epoch 29][test] Acc@1: 0.285 Acc@10: 0.593 Acc@100: 0.798 AccSum: 1.676\n",
      "[best epoch: 29]\n",
      "[epoch 30][dev ] Acc@1: 0.311 Acc@10: 0.560 Acc@100: 0.803 AccSum: 1.674\n",
      "[epoch 30][test] Acc@1: 0.285 Acc@10: 0.592 Acc@100: 0.799 AccSum: 1.677\n",
      "[best epoch: 30]\n",
      "[epoch 31][dev ] Acc@1: 0.311 Acc@10: 0.561 Acc@100: 0.802 AccSum: 1.673\n",
      "[epoch 32][dev ] Acc@1: 0.312 Acc@10: 0.562 Acc@100: 0.804 AccSum: 1.677\n",
      "[epoch 32][test] Acc@1: 0.285 Acc@10: 0.591 Acc@100: 0.799 AccSum: 1.676\n",
      "[best epoch: 32]\n",
      "[epoch 33][dev ] Acc@1: 0.310 Acc@10: 0.564 Acc@100: 0.803 AccSum: 1.677\n",
      "[epoch 34][dev ] Acc@1: 0.309 Acc@10: 0.565 Acc@100: 0.803 AccSum: 1.677\n",
      "[epoch 35][dev ] Acc@1: 0.308 Acc@10: 0.564 Acc@100: 0.803 AccSum: 1.675\n",
      "[epoch 36][dev ] Acc@1: 0.308 Acc@10: 0.562 Acc@100: 0.802 AccSum: 1.673\n",
      "[epoch 37][dev ] Acc@1: 0.309 Acc@10: 0.562 Acc@100: 0.801 AccSum: 1.672\n",
      "[epoch 38][dev ] Acc@1: 0.311 Acc@10: 0.562 Acc@100: 0.804 AccSum: 1.677\n",
      "[epoch 39][dev ] Acc@1: 0.313 Acc@10: 0.565 Acc@100: 0.804 AccSum: 1.682\n",
      "[epoch 39][test] Acc@1: 0.289 Acc@10: 0.593 Acc@100: 0.801 AccSum: 1.683\n",
      "[best epoch: 39]\n",
      "[epoch 40][dev ] Acc@1: 0.312 Acc@10: 0.568 Acc@100: 0.804 AccSum: 1.684\n",
      "[epoch 40][test] Acc@1: 0.289 Acc@10: 0.594 Acc@100: 0.801 AccSum: 1.684\n",
      "[best epoch: 40]\n",
      "[epoch 41][dev ] Acc@1: 0.313 Acc@10: 0.567 Acc@100: 0.803 AccSum: 1.683\n",
      "[epoch 42][dev ] Acc@1: 0.313 Acc@10: 0.566 Acc@100: 0.804 AccSum: 1.682\n",
      "[epoch 43][dev ] Acc@1: 0.311 Acc@10: 0.566 Acc@100: 0.804 AccSum: 1.680\n",
      "[epoch 44][dev ] Acc@1: 0.309 Acc@10: 0.567 Acc@100: 0.803 AccSum: 1.679\n",
      "[epoch 45][dev ] Acc@1: 0.310 Acc@10: 0.566 Acc@100: 0.802 AccSum: 1.679\n",
      "[epoch 46][dev ] Acc@1: 0.309 Acc@10: 0.567 Acc@100: 0.802 AccSum: 1.679\n",
      "[epoch 47][dev ] Acc@1: 0.310 Acc@10: 0.568 Acc@100: 0.801 AccSum: 1.680\n",
      "[epoch 48][dev ] Acc@1: 0.309 Acc@10: 0.571 Acc@100: 0.802 AccSum: 1.683\n",
      "[epoch 49][dev ] Acc@1: 0.309 Acc@10: 0.568 Acc@100: 0.802 AccSum: 1.680\n",
      "[epoch 50][dev ] Acc@1: 0.311 Acc@10: 0.569 Acc@100: 0.802 AccSum: 1.683\n"
     ]
    }
   ],
   "source": [
    "model = fc_aligner(input_size=1068, target_size=1068).cuda(GPU_INDEX)\n",
    "train_params = model.parameters()\n",
    "optimizer = torch.optim.AdamW(train_params, lr=1e-4)\n",
    "criterion = TripletLoss(margin=0.2, max_violation=True, device=GPU_INDEX)\n",
    "\n",
    "best_sd = train(model, train_params, optimizer, criterion, \\\n",
    "      train_loader, val_loader, valset, test_loader, \\\n",
    "      testset, num_epoch=50, dor=0.0, GPU_INDEX=GPU_INDEX)"
   ]
  },
  {
   "cell_type": "code",
   "execution_count": 21,
   "metadata": {},
   "outputs": [
    {
     "data": {
      "text/plain": [
       "fc_aligner(\n",
       "  (fc1): Linear(in_features=1068, out_features=1068, bias=True)\n",
       ")"
      ]
     },
     "execution_count": 21,
     "metadata": {},
     "output_type": "execute_result"
    }
   ],
   "source": [
    "save_path = \"ft_bert_context_term_to_ft_bert_surface_state_dict.pkl\"\n",
    "torch.save(best_sd, save_path)\n",
    "model = fc_aligner(input_size=1068, target_size=1068).cuda(GPU_INDEX)\n",
    "model.load_state_dict(torch.load(save_path))\n",
    "model.eval()"
   ]
  },
  {
   "cell_type": "code",
   "execution_count": 22,
   "metadata": {
    "scrolled": true
   },
   "outputs": [
    {
     "data": {
      "application/vnd.jupyter.widget-view+json": {
       "model_id": "b20634177d5149f886be08a7c5bee71f",
       "version_major": 2,
       "version_minor": 0
      },
      "text/plain": [
       "HBox(children=(HTML(value=''), FloatProgress(value=0.0, max=32.0), HTML(value='')))"
      ]
     },
     "metadata": {},
     "output_type": "display_data"
    },
    {
     "name": "stdout",
     "output_type": "stream",
     "text": [
      "\n",
      "MRR: 0.390\n"
     ]
    }
   ],
   "source": [
    "mrr = evalMRR(test_loader, model, testset.search_space_embeddings, bsz=128, dumb=True, GPU_INDEX=GPU_INDEX)\n",
    "print (\"MRR: %.3f\" % mrr)\n",
    "\n",
    "# gds = evalGD(test_loader, testset, model, topk=10, dor=0.0, bsz=256, GPU_INDEX=GPU_INDEX)\n",
    "# print (\"MGRD: %.3f MGRD@10: %.3f\" % gds)"
   ]
  },
  {
   "cell_type": "markdown",
   "metadata": {},
   "source": [
    "####  ft_term+bert_term (multilevel attention) -> ft_surface+bert_surface(+graph)"
   ]
  },
  {
   "cell_type": "code",
   "execution_count": 7,
   "metadata": {},
   "outputs": [
    {
     "name": "stdout",
     "output_type": "stream",
     "text": [
      "[target embeddings loaded, search space size: 350830]\n"
     ]
    }
   ],
   "source": [
    "chv_train_path = os.path.join(DATA_DIR, 'train.csv')\n",
    "chv_dev_path = os.path.join(DATA_DIR, 'dev.csv')\n",
    "chv_test_path = os.path.join(DATA_DIR, 'test.csv')\n",
    "#snomed_vec_path = os.path.join(FEATURE_PATH,\"snomed_surface_fasttext_embeddings_full+snomed_surface_bert_ts100k_embeddings_all_names_mean_full_last_layer_with_ST.pkl\")\n",
    "snomed_vec_path = os.path.join(FEATURE_PATH,\"snomed_surface_fasttext_embeddings_full+snomed_surface_bert_ts100k_embeddings_all_names_mean_full_last_layer_with_ST+snomed_node2vec_300d_20wl_embeddings.pkl\")\n",
    "term_vec_path1 = os.path.join(FEATURE_PATH,\"fasttext_term_embeddings.pkl\")\n",
    "term_vec_path2 = os.path.join(FEATURE_PATH,\"chv_term_embeddings_BERTbr_ts100k_multilevel_all.pkl\")\n",
    "\n",
    "gran=\"general\"\n",
    "\n",
    "train_dict = build_train_dict(chv_train_path, gran=gran)\n",
    "\n",
    "train_loader, _ = get_loader_mla(FULL_CHV_PATH, chv_train_path, \n",
    "                                 term_vec_path1, term_vec_path2, \n",
    "                                 snomed_vec_path, batch_size=64, \n",
    "                                 shuffle=True, num_workers=10, gran=gran)\n",
    "val_loader, valset = get_loader_mla(FULL_CHV_PATH, chv_dev_path, \n",
    "                                    term_vec_path1, term_vec_path2, \n",
    "                                    snomed_vec_path, batch_size=64, \n",
    "                                    shuffle=False, num_workers=10, gran=gran)\n",
    "test_loader, testset = get_loader_mla(FULL_CHV_PATH, chv_test_path, \n",
    "                                      term_vec_path1, term_vec_path2, \n",
    "                                      snomed_vec_path, batch_size=64,\n",
    "                                      shuffle=False,  num_workers=10, \n",
    "                                      gran=gran, load_target=True)"
   ]
  },
  {
   "cell_type": "code",
   "execution_count": 11,
   "metadata": {
    "scrolled": true
   },
   "outputs": [
    {
     "name": "stdout",
     "output_type": "stream",
     "text": [
      "[epoch 0][dev ] Acc@1: 0.000 Acc@10: 0.000 Acc@100: 0.000 AccSum: 0.000\n",
      "[epoch 1][dev ] Acc@1: 0.074 Acc@10: 0.227 Acc@100: 0.426 AccSum: 0.726\n",
      "[epoch 1][test] Acc@1: 0.048 Acc@10: 0.162 Acc@100: 0.365 AccSum: 0.575\n",
      "[best epoch: 1]\n",
      "[epoch 2][dev ] Acc@1: 0.201 Acc@10: 0.445 Acc@100: 0.693 AccSum: 1.338\n",
      "[epoch 2][test] Acc@1: 0.167 Acc@10: 0.435 Acc@100: 0.680 AccSum: 1.282\n",
      "[best epoch: 2]\n",
      "[epoch 3][dev ] Acc@1: 0.249 Acc@10: 0.510 Acc@100: 0.743 AccSum: 1.502\n",
      "[epoch 3][test] Acc@1: 0.235 Acc@10: 0.512 Acc@100: 0.741 AccSum: 1.487\n",
      "[best epoch: 3]\n",
      "[epoch 4][dev ] Acc@1: 0.258 Acc@10: 0.554 Acc@100: 0.775 AccSum: 1.587\n",
      "[epoch 4][test] Acc@1: 0.262 Acc@10: 0.550 Acc@100: 0.763 AccSum: 1.576\n",
      "[best epoch: 4]\n",
      "[epoch 5][dev ] Acc@1: 0.277 Acc@10: 0.565 Acc@100: 0.798 AccSum: 1.640\n",
      "[epoch 5][test] Acc@1: 0.276 Acc@10: 0.573 Acc@100: 0.775 AccSum: 1.625\n",
      "[best epoch: 5]\n",
      "[epoch 6][dev ] Acc@1: 0.299 Acc@10: 0.588 Acc@100: 0.806 AccSum: 1.694\n",
      "[epoch 6][test] Acc@1: 0.281 Acc@10: 0.584 Acc@100: 0.778 AccSum: 1.643\n",
      "[best epoch: 6]\n",
      "[epoch 7][dev ] Acc@1: 0.295 Acc@10: 0.588 Acc@100: 0.809 AccSum: 1.693\n",
      "[epoch 8][dev ] Acc@1: 0.302 Acc@10: 0.590 Acc@100: 0.818 AccSum: 1.710\n",
      "[epoch 8][test] Acc@1: 0.295 Acc@10: 0.608 Acc@100: 0.801 AccSum: 1.704\n",
      "[best epoch: 8]\n",
      "[epoch 9][dev ] Acc@1: 0.309 Acc@10: 0.593 Acc@100: 0.813 AccSum: 1.715\n",
      "[epoch 9][test] Acc@1: 0.298 Acc@10: 0.608 Acc@100: 0.806 AccSum: 1.712\n",
      "[best epoch: 9]\n",
      "[epoch 10][dev ] Acc@1: 0.315 Acc@10: 0.604 Acc@100: 0.825 AccSum: 1.744\n",
      "[epoch 10][test] Acc@1: 0.308 Acc@10: 0.618 Acc@100: 0.819 AccSum: 1.745\n",
      "[best epoch: 10]\n",
      "[epoch 11][dev ] Acc@1: 0.318 Acc@10: 0.610 Acc@100: 0.826 AccSum: 1.754\n",
      "[epoch 11][test] Acc@1: 0.308 Acc@10: 0.619 Acc@100: 0.823 AccSum: 1.750\n",
      "[best epoch: 11]\n",
      "[epoch 12][dev ] Acc@1: 0.319 Acc@10: 0.610 Acc@100: 0.824 AccSum: 1.753\n",
      "[epoch 12][test] Acc@1: 0.308 Acc@10: 0.620 Acc@100: 0.819 AccSum: 1.747\n",
      "[best epoch: 12]\n",
      "[epoch 13][dev ] Acc@1: 0.325 Acc@10: 0.615 Acc@100: 0.831 AccSum: 1.771\n",
      "[epoch 13][test] Acc@1: 0.309 Acc@10: 0.630 Acc@100: 0.826 AccSum: 1.765\n",
      "[best epoch: 13]\n",
      "[epoch 14][dev ] Acc@1: 0.324 Acc@10: 0.614 Acc@100: 0.831 AccSum: 1.769\n",
      "[epoch 15][dev ] Acc@1: 0.322 Acc@10: 0.618 Acc@100: 0.830 AccSum: 1.771\n",
      "[epoch 16][dev ] Acc@1: 0.321 Acc@10: 0.620 Acc@100: 0.832 AccSum: 1.773\n",
      "[epoch 17][dev ] Acc@1: 0.327 Acc@10: 0.623 Acc@100: 0.828 AccSum: 1.778\n",
      "[epoch 17][test] Acc@1: 0.315 Acc@10: 0.636 Acc@100: 0.836 AccSum: 1.786\n",
      "[best epoch: 17]\n",
      "[epoch 18][dev ] Acc@1: 0.327 Acc@10: 0.621 Acc@100: 0.824 AccSum: 1.773\n",
      "[epoch 19][dev ] Acc@1: 0.331 Acc@10: 0.624 Acc@100: 0.830 AccSum: 1.785\n",
      "[epoch 19][test] Acc@1: 0.319 Acc@10: 0.641 Acc@100: 0.842 AccSum: 1.802\n",
      "[best epoch: 19]\n",
      "[epoch 20][dev ] Acc@1: 0.328 Acc@10: 0.627 Acc@100: 0.830 AccSum: 1.784\n",
      "[epoch 21][dev ] Acc@1: 0.324 Acc@10: 0.626 Acc@100: 0.829 AccSum: 1.778\n",
      "[epoch 22][dev ] Acc@1: 0.325 Acc@10: 0.624 Acc@100: 0.830 AccSum: 1.779\n",
      "[epoch 23][dev ] Acc@1: 0.325 Acc@10: 0.626 Acc@100: 0.829 AccSum: 1.780\n",
      "[epoch 24][dev ] Acc@1: 0.330 Acc@10: 0.629 Acc@100: 0.828 AccSum: 1.787\n",
      "[epoch 25][dev ] Acc@1: 0.334 Acc@10: 0.629 Acc@100: 0.829 AccSum: 1.792\n",
      "[epoch 25][test] Acc@1: 0.326 Acc@10: 0.644 Acc@100: 0.851 AccSum: 1.821\n",
      "[best epoch: 25]\n",
      "[epoch 26][dev ] Acc@1: 0.334 Acc@10: 0.628 Acc@100: 0.830 AccSum: 1.792\n",
      "[epoch 26][test] Acc@1: 0.326 Acc@10: 0.644 Acc@100: 0.851 AccSum: 1.821\n",
      "[best epoch: 26]\n",
      "[epoch 27][dev ] Acc@1: 0.331 Acc@10: 0.631 Acc@100: 0.829 AccSum: 1.792\n",
      "[epoch 28][dev ] Acc@1: 0.330 Acc@10: 0.628 Acc@100: 0.829 AccSum: 1.787\n",
      "[epoch 29][dev ] Acc@1: 0.335 Acc@10: 0.628 Acc@100: 0.829 AccSum: 1.792\n",
      "[epoch 29][test] Acc@1: 0.328 Acc@10: 0.642 Acc@100: 0.850 AccSum: 1.820\n",
      "[best epoch: 29]\n",
      "[epoch 30][dev ] Acc@1: 0.344 Acc@10: 0.633 Acc@100: 0.831 AccSum: 1.808\n",
      "[epoch 30][test] Acc@1: 0.327 Acc@10: 0.648 Acc@100: 0.851 AccSum: 1.827\n",
      "[best epoch: 30]\n",
      "[epoch 31][dev ] Acc@1: 0.339 Acc@10: 0.630 Acc@100: 0.831 AccSum: 1.800\n",
      "[epoch 32][dev ] Acc@1: 0.331 Acc@10: 0.629 Acc@100: 0.831 AccSum: 1.792\n",
      "[epoch 33][dev ] Acc@1: 0.328 Acc@10: 0.628 Acc@100: 0.835 AccSum: 1.791\n",
      "[epoch 34][dev ] Acc@1: 0.332 Acc@10: 0.628 Acc@100: 0.835 AccSum: 1.794\n",
      "[epoch 35][dev ] Acc@1: 0.334 Acc@10: 0.627 Acc@100: 0.834 AccSum: 1.794\n",
      "[epoch 36][dev ] Acc@1: 0.334 Acc@10: 0.626 Acc@100: 0.836 AccSum: 1.795\n",
      "[epoch 37][dev ] Acc@1: 0.333 Acc@10: 0.627 Acc@100: 0.838 AccSum: 1.798\n",
      "[epoch 38][dev ] Acc@1: 0.330 Acc@10: 0.628 Acc@100: 0.836 AccSum: 1.794\n",
      "[epoch 39][dev ] Acc@1: 0.333 Acc@10: 0.628 Acc@100: 0.835 AccSum: 1.796\n",
      "[epoch 40][dev ] Acc@1: 0.330 Acc@10: 0.629 Acc@100: 0.835 AccSum: 1.794\n",
      "[epoch 41][dev ] Acc@1: 0.330 Acc@10: 0.631 Acc@100: 0.835 AccSum: 1.796\n",
      "[epoch 42][dev ] Acc@1: 0.330 Acc@10: 0.631 Acc@100: 0.839 AccSum: 1.800\n",
      "[epoch 43][dev ] Acc@1: 0.329 Acc@10: 0.632 Acc@100: 0.838 AccSum: 1.799\n",
      "[epoch 44][dev ] Acc@1: 0.327 Acc@10: 0.629 Acc@100: 0.835 AccSum: 1.791\n",
      "[epoch 45][dev ] Acc@1: 0.329 Acc@10: 0.628 Acc@100: 0.831 AccSum: 1.789\n",
      "[epoch 46][dev ] Acc@1: 0.332 Acc@10: 0.630 Acc@100: 0.835 AccSum: 1.797\n",
      "[epoch 47][dev ] Acc@1: 0.331 Acc@10: 0.632 Acc@100: 0.836 AccSum: 1.799\n",
      "[epoch 48][dev ] Acc@1: 0.331 Acc@10: 0.631 Acc@100: 0.838 AccSum: 1.800\n",
      "[epoch 49][dev ] Acc@1: 0.328 Acc@10: 0.629 Acc@100: 0.838 AccSum: 1.795\n",
      "[epoch 50][dev ] Acc@1: 0.327 Acc@10: 0.628 Acc@100: 0.835 AccSum: 1.790\n"
     ]
    }
   ],
   "source": [
    "model = mla_bert_ft_ensemble(target_len=1368).cuda(GPU_INDEX)\n",
    "\n",
    "# init mla_bert using previous weights\n",
    "#save_path = \"bert_context_term_to_surface_attn_state_dict.pkl\"\n",
    "#model.mla_bert.load_state_dict({\"self_attn.att_weights\":torch.load(save_path)[\"self_attn.att_weights\"]})\n",
    "#model.mla_bert.load_state_dict(torch.load(save_path))\n",
    "\n",
    "optimizer = torch.optim.AdamW(model.parameters(), lr=1e-5)\n",
    "criterion = TripletLoss(margin=0.2, max_violation=True, device=GPU_INDEX)\n",
    "\n",
    "best_sd = train_joint(model, model.parameters(), optimizer, criterion, \\\n",
    "      train_loader, val_loader, valset, test_loader, \\\n",
    "      testset, num_epoch=50, dor=0.0, GPU_INDEX=GPU_INDEX)"
   ]
  },
  {
   "cell_type": "code",
   "execution_count": 8,
   "metadata": {},
   "outputs": [
    {
     "data": {
      "text/plain": [
       "mla_bert_ft_ensemble(\n",
       "  (mla_bert): multilevel_attention(\n",
       "    (self_attn): SelfAttention()\n",
       "  )\n",
       "  (fc): Linear(in_features=1068, out_features=1368, bias=True)\n",
       "  (fc_aligner): fc_aligner(\n",
       "    (fc1): Linear(in_features=300, out_features=300, bias=True)\n",
       "  )\n",
       ")"
      ]
     },
     "execution_count": 8,
     "metadata": {},
     "output_type": "execute_result"
    }
   ],
   "source": [
    "save_path = \"ensemble_w_graph_state_dict.pkl\"\n",
    "torch.save(best_sd, save_path)\n",
    "model = mla_bert_ft_ensemble(target_len=1368).cuda(GPU_INDEX)\n",
    "model.load_state_dict(torch.load(save_path))\n",
    "model.eval()"
   ]
  },
  {
   "cell_type": "code",
   "execution_count": 19,
   "metadata": {},
   "outputs": [
    {
     "data": {
      "application/vnd.jupyter.widget-view+json": {
       "model_id": "b2cb061698c24176a6340188b2893232",
       "version_major": 2,
       "version_minor": 0
      },
      "text/plain": [
       "HBox(children=(HTML(value=''), FloatProgress(value=0.0, max=32.0), HTML(value='')))"
      ]
     },
     "metadata": {},
     "output_type": "display_data"
    },
    {
     "name": "stdout",
     "output_type": "stream",
     "text": [
      "\n",
      "MRR: 0.446\n"
     ]
    }
   ],
   "source": [
    "mrr = evalMRR(test_loader, model, testset.search_space_embeddings, bsz=64, \\\n",
    "              dumb=True, GPU_INDEX=GPU_INDEX, ensemble=True)\n",
    "print (\"MRR: %.3f\" % mrr)\n",
    "\n",
    "# gds = evalGD(test_loader, testset, model, topk=10, dor=0.0, bsz=128, \\\n",
    "#              dumb=False, GPU_INDEX=GPU_INDEX, ensemble=True)\n",
    "# print (\"MGRD: %.3f MGRD@10: %.3f\" % gds)"
   ]
  },
  {
   "cell_type": "code",
   "execution_count": 10,
   "metadata": {},
   "outputs": [
    {
     "name": "stdout",
     "output_type": "stream",
     "text": [
      "ratio attempted by heuristics: 60.8%\n",
      "0.48360450563204005\n",
      "[dict+smatch+model] Acc@1: 0.555 Acc@10: 0.679 Acc@100: 0.775 Acc sum: 2.009\n"
     ]
    }
   ],
   "source": [
    "# # Exact Match + Neural\n",
    "# accs, pred_dict= compute_metrics_backoff(test_loader, testset, model, sf2id=SF2ID, train_dict=None, \\\n",
    "#                            ed_dict=None, topks=(1,10,100), bsz=128, GPU_INDEX=GPU_INDEX, ensemble=True)\n",
    "# print (\"[smatch+model] Acc@1: %.3f Acc@10: %.3f Acc@100: %.3f Acc sum: %.3f\" % \\\n",
    "#        (accs[0], accs[1], accs[2], sum(accs)))\n",
    "\n",
    "# Dict + Stoilos + Neural\n",
    "accs, pred_dict= compute_metrics_backoff(test_loader, testset, model, sf2id=SF2ID, train_dict=None, \\\n",
    "                           ed_dict=ONT_ED_DICT, topks=(1,10,100), bsz=64, GPU_INDEX=GPU_INDEX, ensemble=True)\n",
    "print (\"[dict+smatch+model] Acc@1: %.3f Acc@10: %.3f Acc@100: %.3f Acc sum: %.3f\" % \\\n",
    "       (accs[0], accs[1], accs[2], sum(accs)))"
   ]
  },
  {
   "cell_type": "code",
   "execution_count": null,
   "metadata": {},
   "outputs": [],
   "source": []
  }
 ],
 "metadata": {
  "kernelspec": {
   "display_name": "Python 3",
   "language": "python",
   "name": "python3"
  },
  "language_info": {
   "codemirror_mode": {
    "name": "ipython",
    "version": 3
   },
   "file_extension": ".py",
   "mimetype": "text/x-python",
   "name": "python",
   "nbconvert_exporter": "python",
   "pygments_lexer": "ipython3",
   "version": "3.7.6"
  },
  "latex_envs": {
   "LaTeX_envs_menu_present": true,
   "autoclose": false,
   "autocomplete": true,
   "bibliofile": "biblio.bib",
   "cite_by": "apalike",
   "current_citInitial": 1,
   "eqLabelWithNumbers": true,
   "eqNumInitial": 1,
   "hotkeys": {
    "equation": "Ctrl-E",
    "itemize": "Ctrl-I"
   },
   "labels_anchors": false,
   "latex_user_defs": false,
   "report_style_numbering": false,
   "user_envs_cfg": false
  },
  "toc": {
   "base_numbering": 1,
   "nav_menu": {},
   "number_sections": true,
   "sideBar": true,
   "skip_h1_title": false,
   "title_cell": "Table of Contents",
   "title_sidebar": "Contents",
   "toc_cell": false,
   "toc_position": {
    "height": "calc(100% - 180px)",
    "left": "10px",
    "top": "150px",
    "width": "309.967px"
   },
   "toc_section_display": true,
   "toc_window_display": true
  }
 },
 "nbformat": 4,
 "nbformat_minor": 2
}
