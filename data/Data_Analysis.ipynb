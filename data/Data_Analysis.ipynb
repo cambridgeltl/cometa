{
 "cells": [
  {
   "cell_type": "markdown",
   "metadata": {},
   "source": [
    "# Data Analysis"
   ]
  },
  {
   "cell_type": "markdown",
   "metadata": {},
   "source": [
    "## Import, config and load"
   ]
  },
  {
   "cell_type": "code",
   "execution_count": 1,
   "metadata": {},
   "outputs": [],
   "source": [
    "from Levenshtein import distance as edit_distance\n",
    "from Snomed import Snomed\n",
    "\n",
    "import matplotlib.pyplot as plt\n",
    "import pandas as pd\n",
    "import seaborn as sns"
   ]
  },
  {
   "cell_type": "code",
   "execution_count": 2,
   "metadata": {},
   "outputs": [],
   "source": [
    "INPUT_FILE = './data/chv.csv'\n",
    "SNOMED_PATH = './data/snomed/'\n",
    "FIGSIZE = (12,6)\n",
    "TITLE_ARGS = {'fontsize': 20, 'y': 1.02}\n",
    "sns.set(style=\"whitegrid\")"
   ]
  },
  {
   "cell_type": "code",
   "execution_count": 3,
   "metadata": {},
   "outputs": [],
   "source": [
    "snomed_taxonomy = Snomed(SNOMED_PATH, taxonomy=True)\n",
    "snomed_taxonomy.load_snomed()\n",
    "\n",
    "snomed_all = Snomed(SNOMED_PATH, taxonomy=False)\n",
    "snomed_all.load_snomed()\n",
    "\n",
    "terms = pd.read_csv(INPUT_FILE, sep='\\t', encoding='utf8')"
   ]
  },
  {
   "cell_type": "code",
   "execution_count": 4,
   "metadata": {},
   "outputs": [],
   "source": [
    "terms['Term_Lower'] = terms.Term.str.lower()"
   ]
  },
  {
   "cell_type": "code",
   "execution_count": 5,
   "metadata": {},
   "outputs": [
    {
     "data": {
      "text/html": [
       "<div>\n",
       "<style scoped>\n",
       "    .dataframe tbody tr th:only-of-type {\n",
       "        vertical-align: middle;\n",
       "    }\n",
       "\n",
       "    .dataframe tbody tr th {\n",
       "        vertical-align: top;\n",
       "    }\n",
       "\n",
       "    .dataframe thead th {\n",
       "        text-align: right;\n",
       "    }\n",
       "</style>\n",
       "<table border=\"1\" class=\"dataframe\">\n",
       "  <thead>\n",
       "    <tr style=\"text-align: right;\">\n",
       "      <th></th>\n",
       "      <th>ID</th>\n",
       "      <th>Term</th>\n",
       "      <th>General SNOMED Label</th>\n",
       "      <th>General SNOMED ID</th>\n",
       "      <th>Specific SNOMED Label</th>\n",
       "      <th>Specific SNOMED ID</th>\n",
       "      <th>Example</th>\n",
       "      <th>Example Link</th>\n",
       "      <th>Origin_Sheet</th>\n",
       "      <th>Term_Lower</th>\n",
       "    </tr>\n",
       "  </thead>\n",
       "  <tbody>\n",
       "    <tr>\n",
       "      <th>0</th>\n",
       "      <td>0</td>\n",
       "      <td>5FU</td>\n",
       "      <td>Fluorouracil</td>\n",
       "      <td>387172005</td>\n",
       "      <td>Fluorouracil</td>\n",
       "      <td>387172005</td>\n",
       "      <td>I can ' t do 5FU because it causes cardiotoxic...</td>\n",
       "      <td>https://www.reddit.com/4gs56p</td>\n",
       "      <td>./stage_1/Batch 7-Ready.xlsx</td>\n",
       "      <td>5fu</td>\n",
       "    </tr>\n",
       "    <tr>\n",
       "      <th>1</th>\n",
       "      <td>1</td>\n",
       "      <td>5FU</td>\n",
       "      <td>Fluorouracil</td>\n",
       "      <td>387172005</td>\n",
       "      <td>Fluorouracil</td>\n",
       "      <td>387172005</td>\n",
       "      <td>He is starting 5FU and Leucovorin and Hercepti...</td>\n",
       "      <td>https://www.reddit.com/9tekw3</td>\n",
       "      <td>./stage_1/Batch 7-Ready.xlsx</td>\n",
       "      <td>5fu</td>\n",
       "    </tr>\n",
       "    <tr>\n",
       "      <th>2</th>\n",
       "      <td>2</td>\n",
       "      <td>5FU</td>\n",
       "      <td>Fluorouracil</td>\n",
       "      <td>387172005</td>\n",
       "      <td>Fluorouracil</td>\n",
       "      <td>387172005</td>\n",
       "      <td>Around treatment 9 they realized that I was al...</td>\n",
       "      <td>https://www.reddit.com/916p80</td>\n",
       "      <td>./stage_1/Batch 7-Ready.xlsx</td>\n",
       "      <td>5fu</td>\n",
       "    </tr>\n",
       "    <tr>\n",
       "      <th>3</th>\n",
       "      <td>3</td>\n",
       "      <td>5HTP</td>\n",
       "      <td>Oxitriptan</td>\n",
       "      <td>73916008</td>\n",
       "      <td>Oxitriptan</td>\n",
       "      <td>73916008</td>\n",
       "      <td>Aside from edibles I take Gaba , Taurine , sub...</td>\n",
       "      <td>https://www.reddit.com/8b7cb4</td>\n",
       "      <td>./stage_1/Batch8-Ready.xlsx</td>\n",
       "      <td>5htp</td>\n",
       "    </tr>\n",
       "    <tr>\n",
       "      <th>4</th>\n",
       "      <td>4</td>\n",
       "      <td>5HTP</td>\n",
       "      <td>Oxitriptan</td>\n",
       "      <td>73916008</td>\n",
       "      <td>Oxitriptan</td>\n",
       "      <td>73916008</td>\n",
       "      <td>I was recomended the 5HTP and as I said it ini...</td>\n",
       "      <td>https://www.reddit.com/771elt</td>\n",
       "      <td>./stage_1/Batch8-Ready.xlsx</td>\n",
       "      <td>5htp</td>\n",
       "    </tr>\n",
       "    <tr>\n",
       "      <th>...</th>\n",
       "      <td>...</td>\n",
       "      <td>...</td>\n",
       "      <td>...</td>\n",
       "      <td>...</td>\n",
       "      <td>...</td>\n",
       "      <td>...</td>\n",
       "      <td>...</td>\n",
       "      <td>...</td>\n",
       "      <td>...</td>\n",
       "      <td>...</td>\n",
       "    </tr>\n",
       "    <tr>\n",
       "      <th>20010</th>\n",
       "      <td>20010</td>\n",
       "      <td>zopiclone</td>\n",
       "      <td>Zopiclone</td>\n",
       "      <td>395929002</td>\n",
       "      <td>Zopiclone</td>\n",
       "      <td>395929002</td>\n",
       "      <td>Feel free to use the zopiclone , but try and w...</td>\n",
       "      <td>https://www.reddit.com/5nmwof</td>\n",
       "      <td>./stage_1/batch 4-Ready.xlsx</td>\n",
       "      <td>zopiclone</td>\n",
       "    </tr>\n",
       "    <tr>\n",
       "      <th>20011</th>\n",
       "      <td>20011</td>\n",
       "      <td>zopiclone</td>\n",
       "      <td>Zopiclone</td>\n",
       "      <td>395929002</td>\n",
       "      <td>Zopiclone</td>\n",
       "      <td>395929002</td>\n",
       "      <td>I have had zopiclone in my medicine cabinet fo...</td>\n",
       "      <td>https://www.reddit.com/3t2izz</td>\n",
       "      <td>./stage_1/batch 4-Ready.xlsx</td>\n",
       "      <td>zopiclone</td>\n",
       "    </tr>\n",
       "    <tr>\n",
       "      <th>20012</th>\n",
       "      <td>20012</td>\n",
       "      <td>zzzquil</td>\n",
       "      <td>Diphenhydramine</td>\n",
       "      <td>372682005</td>\n",
       "      <td>Diphenhydramine</td>\n",
       "      <td>372682005</td>\n",
       "      <td>With that in mind we took along caffeine pills...</td>\n",
       "      <td>https://www.reddit.com/2wq5xe</td>\n",
       "      <td>./stage_1/Batch 5-Ready.xlsx</td>\n",
       "      <td>zzzquil</td>\n",
       "    </tr>\n",
       "    <tr>\n",
       "      <th>20013</th>\n",
       "      <td>20013</td>\n",
       "      <td>zzzquil</td>\n",
       "      <td>Diphenhydramine</td>\n",
       "      <td>372682005</td>\n",
       "      <td>Diphenhydramine</td>\n",
       "      <td>372682005</td>\n",
       "      <td>Zzzquil and exercise are the only things I rec...</td>\n",
       "      <td>https://www.reddit.com/5jj84h</td>\n",
       "      <td>./stage_1/Batch 5-Ready.xlsx</td>\n",
       "      <td>zzzquil</td>\n",
       "    </tr>\n",
       "    <tr>\n",
       "      <th>20014</th>\n",
       "      <td>20014</td>\n",
       "      <td>zzzquil</td>\n",
       "      <td>Diphenhydramine</td>\n",
       "      <td>372682005</td>\n",
       "      <td>Diphenhydramine</td>\n",
       "      <td>372682005</td>\n",
       "      <td>I personally take both melatonin ( liquid form...</td>\n",
       "      <td>https://www.reddit.com/8nywit</td>\n",
       "      <td>./stage_1/Batch 5-Ready.xlsx</td>\n",
       "      <td>zzzquil</td>\n",
       "    </tr>\n",
       "  </tbody>\n",
       "</table>\n",
       "<p>20015 rows × 10 columns</p>\n",
       "</div>"
      ],
      "text/plain": [
       "          ID       Term General SNOMED Label  General SNOMED ID  \\\n",
       "0          0        5FU         Fluorouracil          387172005   \n",
       "1          1        5FU         Fluorouracil          387172005   \n",
       "2          2        5FU         Fluorouracil          387172005   \n",
       "3          3       5HTP           Oxitriptan           73916008   \n",
       "4          4       5HTP           Oxitriptan           73916008   \n",
       "...      ...        ...                  ...                ...   \n",
       "20010  20010  zopiclone            Zopiclone          395929002   \n",
       "20011  20011  zopiclone            Zopiclone          395929002   \n",
       "20012  20012    zzzquil      Diphenhydramine          372682005   \n",
       "20013  20013    zzzquil      Diphenhydramine          372682005   \n",
       "20014  20014    zzzquil      Diphenhydramine          372682005   \n",
       "\n",
       "      Specific SNOMED Label  Specific SNOMED ID  \\\n",
       "0              Fluorouracil           387172005   \n",
       "1              Fluorouracil           387172005   \n",
       "2              Fluorouracil           387172005   \n",
       "3                Oxitriptan            73916008   \n",
       "4                Oxitriptan            73916008   \n",
       "...                     ...                 ...   \n",
       "20010             Zopiclone           395929002   \n",
       "20011             Zopiclone           395929002   \n",
       "20012       Diphenhydramine           372682005   \n",
       "20013       Diphenhydramine           372682005   \n",
       "20014       Diphenhydramine           372682005   \n",
       "\n",
       "                                                 Example  \\\n",
       "0      I can ' t do 5FU because it causes cardiotoxic...   \n",
       "1      He is starting 5FU and Leucovorin and Hercepti...   \n",
       "2      Around treatment 9 they realized that I was al...   \n",
       "3      Aside from edibles I take Gaba , Taurine , sub...   \n",
       "4      I was recomended the 5HTP and as I said it ini...   \n",
       "...                                                  ...   \n",
       "20010  Feel free to use the zopiclone , but try and w...   \n",
       "20011  I have had zopiclone in my medicine cabinet fo...   \n",
       "20012  With that in mind we took along caffeine pills...   \n",
       "20013  Zzzquil and exercise are the only things I rec...   \n",
       "20014  I personally take both melatonin ( liquid form...   \n",
       "\n",
       "                        Example Link                  Origin_Sheet Term_Lower  \n",
       "0      https://www.reddit.com/4gs56p  ./stage_1/Batch 7-Ready.xlsx        5fu  \n",
       "1      https://www.reddit.com/9tekw3  ./stage_1/Batch 7-Ready.xlsx        5fu  \n",
       "2      https://www.reddit.com/916p80  ./stage_1/Batch 7-Ready.xlsx        5fu  \n",
       "3      https://www.reddit.com/8b7cb4   ./stage_1/Batch8-Ready.xlsx       5htp  \n",
       "4      https://www.reddit.com/771elt   ./stage_1/Batch8-Ready.xlsx       5htp  \n",
       "...                              ...                           ...        ...  \n",
       "20010  https://www.reddit.com/5nmwof  ./stage_1/batch 4-Ready.xlsx  zopiclone  \n",
       "20011  https://www.reddit.com/3t2izz  ./stage_1/batch 4-Ready.xlsx  zopiclone  \n",
       "20012  https://www.reddit.com/2wq5xe  ./stage_1/Batch 5-Ready.xlsx    zzzquil  \n",
       "20013  https://www.reddit.com/5jj84h  ./stage_1/Batch 5-Ready.xlsx    zzzquil  \n",
       "20014  https://www.reddit.com/8nywit  ./stage_1/Batch 5-Ready.xlsx    zzzquil  \n",
       "\n",
       "[20015 rows x 10 columns]"
      ]
     },
     "execution_count": 5,
     "metadata": {},
     "output_type": "execute_result"
    }
   ],
   "source": [
    "terms"
   ]
  },
  {
   "cell_type": "markdown",
   "metadata": {},
   "source": [
    "### Other visualisations"
   ]
  },
  {
   "cell_type": "code",
   "execution_count": 6,
   "metadata": {},
   "outputs": [
    {
     "data": {
      "text/html": [
       "<div>\n",
       "<style scoped>\n",
       "    .dataframe tbody tr th:only-of-type {\n",
       "        vertical-align: middle;\n",
       "    }\n",
       "\n",
       "    .dataframe tbody tr th {\n",
       "        vertical-align: top;\n",
       "    }\n",
       "\n",
       "    .dataframe thead th {\n",
       "        text-align: right;\n",
       "    }\n",
       "</style>\n",
       "<table border=\"1\" class=\"dataframe\">\n",
       "  <thead>\n",
       "    <tr style=\"text-align: right;\">\n",
       "      <th></th>\n",
       "      <th></th>\n",
       "      <th>ID</th>\n",
       "      <th>Term</th>\n",
       "      <th>General SNOMED ID</th>\n",
       "      <th>Specific SNOMED ID</th>\n",
       "      <th>Example</th>\n",
       "      <th>Term_Lower</th>\n",
       "    </tr>\n",
       "    <tr>\n",
       "      <th>General SNOMED ID</th>\n",
       "      <th>Specific SNOMED ID</th>\n",
       "      <th></th>\n",
       "      <th></th>\n",
       "      <th></th>\n",
       "      <th></th>\n",
       "      <th></th>\n",
       "      <th></th>\n",
       "    </tr>\n",
       "  </thead>\n",
       "  <tbody>\n",
       "    <tr>\n",
       "      <th>111002</th>\n",
       "      <th>111002</th>\n",
       "      <td>3</td>\n",
       "      <td>1</td>\n",
       "      <td>1</td>\n",
       "      <td>1</td>\n",
       "      <td>3</td>\n",
       "      <td>1</td>\n",
       "    </tr>\n",
       "    <tr>\n",
       "      <th>200001</th>\n",
       "      <th>200001</th>\n",
       "      <td>6</td>\n",
       "      <td>2</td>\n",
       "      <td>1</td>\n",
       "      <td>1</td>\n",
       "      <td>6</td>\n",
       "      <td>1</td>\n",
       "    </tr>\n",
       "    <tr>\n",
       "      <th>308006</th>\n",
       "      <th>308006</th>\n",
       "      <td>3</td>\n",
       "      <td>1</td>\n",
       "      <td>1</td>\n",
       "      <td>1</td>\n",
       "      <td>3</td>\n",
       "      <td>1</td>\n",
       "    </tr>\n",
       "    <tr>\n",
       "      <th>313005</th>\n",
       "      <th>313005</th>\n",
       "      <td>3</td>\n",
       "      <td>1</td>\n",
       "      <td>1</td>\n",
       "      <td>1</td>\n",
       "      <td>3</td>\n",
       "      <td>1</td>\n",
       "    </tr>\n",
       "    <tr>\n",
       "      <th>317006</th>\n",
       "      <th>317006</th>\n",
       "      <td>3</td>\n",
       "      <td>1</td>\n",
       "      <td>1</td>\n",
       "      <td>1</td>\n",
       "      <td>3</td>\n",
       "      <td>1</td>\n",
       "    </tr>\n",
       "    <tr>\n",
       "      <th>...</th>\n",
       "      <th>...</th>\n",
       "      <td>...</td>\n",
       "      <td>...</td>\n",
       "      <td>...</td>\n",
       "      <td>...</td>\n",
       "      <td>...</td>\n",
       "      <td>...</td>\n",
       "    </tr>\n",
       "    <tr>\n",
       "      <th>1082661000119103</th>\n",
       "      <th>1082661000119103</th>\n",
       "      <td>3</td>\n",
       "      <td>1</td>\n",
       "      <td>1</td>\n",
       "      <td>1</td>\n",
       "      <td>3</td>\n",
       "      <td>1</td>\n",
       "    </tr>\n",
       "    <tr>\n",
       "      <th>15639721000119105</th>\n",
       "      <th>15639721000119105</th>\n",
       "      <td>3</td>\n",
       "      <td>1</td>\n",
       "      <td>1</td>\n",
       "      <td>1</td>\n",
       "      <td>3</td>\n",
       "      <td>1</td>\n",
       "    </tr>\n",
       "    <tr>\n",
       "      <th>15639921000119107</th>\n",
       "      <th>15639921000119107</th>\n",
       "      <td>3</td>\n",
       "      <td>1</td>\n",
       "      <td>1</td>\n",
       "      <td>1</td>\n",
       "      <td>3</td>\n",
       "      <td>1</td>\n",
       "    </tr>\n",
       "    <tr>\n",
       "      <th>16227811000119102</th>\n",
       "      <th>16227811000119102</th>\n",
       "      <td>3</td>\n",
       "      <td>1</td>\n",
       "      <td>1</td>\n",
       "      <td>1</td>\n",
       "      <td>3</td>\n",
       "      <td>1</td>\n",
       "    </tr>\n",
       "    <tr>\n",
       "      <th>16675251000119106</th>\n",
       "      <th>16675251000119106</th>\n",
       "      <td>3</td>\n",
       "      <td>1</td>\n",
       "      <td>1</td>\n",
       "      <td>1</td>\n",
       "      <td>3</td>\n",
       "      <td>1</td>\n",
       "    </tr>\n",
       "  </tbody>\n",
       "</table>\n",
       "<p>4208 rows × 6 columns</p>\n",
       "</div>"
      ],
      "text/plain": [
       "                                      ID  Term  General SNOMED ID  \\\n",
       "General SNOMED ID Specific SNOMED ID                                \n",
       "111002            111002               3     1                  1   \n",
       "200001            200001               6     2                  1   \n",
       "308006            308006               3     1                  1   \n",
       "313005            313005               3     1                  1   \n",
       "317006            317006               3     1                  1   \n",
       "...                                   ..   ...                ...   \n",
       "1082661000119103  1082661000119103     3     1                  1   \n",
       "15639721000119105 15639721000119105    3     1                  1   \n",
       "15639921000119107 15639921000119107    3     1                  1   \n",
       "16227811000119102 16227811000119102    3     1                  1   \n",
       "16675251000119106 16675251000119106    3     1                  1   \n",
       "\n",
       "                                      Specific SNOMED ID  Example  Term_Lower  \n",
       "General SNOMED ID Specific SNOMED ID                                           \n",
       "111002            111002                               1        3           1  \n",
       "200001            200001                               1        6           1  \n",
       "308006            308006                               1        3           1  \n",
       "313005            313005                               1        3           1  \n",
       "317006            317006                               1        3           1  \n",
       "...                                                  ...      ...         ...  \n",
       "1082661000119103  1082661000119103                     1        3           1  \n",
       "15639721000119105 15639721000119105                    1        3           1  \n",
       "15639921000119107 15639921000119107                    1        3           1  \n",
       "16227811000119102 16227811000119102                    1        3           1  \n",
       "16675251000119106 16675251000119106                    1        3           1  \n",
       "\n",
       "[4208 rows x 6 columns]"
      ]
     },
     "execution_count": 6,
     "metadata": {},
     "output_type": "execute_result"
    }
   ],
   "source": [
    "concept_pairs = terms.groupby(['General SNOMED ID', 'Specific SNOMED ID']).nunique()[[\n",
    "    'ID', 'Term', 'General SNOMED ID', 'Specific SNOMED ID', 'Example', 'Term_Lower']]\n",
    "concept_pairs"
   ]
  },
  {
   "cell_type": "code",
   "execution_count": 7,
   "metadata": {},
   "outputs": [
    {
     "data": {
      "text/html": [
       "<div>\n",
       "<style scoped>\n",
       "    .dataframe tbody tr th:only-of-type {\n",
       "        vertical-align: middle;\n",
       "    }\n",
       "\n",
       "    .dataframe tbody tr th {\n",
       "        vertical-align: top;\n",
       "    }\n",
       "\n",
       "    .dataframe thead th {\n",
       "        text-align: right;\n",
       "    }\n",
       "</style>\n",
       "<table border=\"1\" class=\"dataframe\">\n",
       "  <thead>\n",
       "    <tr style=\"text-align: right;\">\n",
       "      <th></th>\n",
       "      <th>General SNOMED ID</th>\n",
       "      <th>ID</th>\n",
       "      <th>Example</th>\n",
       "      <th>Term</th>\n",
       "      <th>Term_Lower</th>\n",
       "      <th>Specific SNOMED ID</th>\n",
       "    </tr>\n",
       "  </thead>\n",
       "  <tbody>\n",
       "    <tr>\n",
       "      <th>0</th>\n",
       "      <td>5935008</td>\n",
       "      <td>70</td>\n",
       "      <td>70</td>\n",
       "      <td>23</td>\n",
       "      <td>22</td>\n",
       "      <td>2</td>\n",
       "    </tr>\n",
       "    <tr>\n",
       "      <th>1</th>\n",
       "      <td>225013001</td>\n",
       "      <td>57</td>\n",
       "      <td>57</td>\n",
       "      <td>19</td>\n",
       "      <td>19</td>\n",
       "      <td>1</td>\n",
       "    </tr>\n",
       "    <tr>\n",
       "      <th>2</th>\n",
       "      <td>34000006</td>\n",
       "      <td>53</td>\n",
       "      <td>53</td>\n",
       "      <td>17</td>\n",
       "      <td>16</td>\n",
       "      <td>3</td>\n",
       "    </tr>\n",
       "    <tr>\n",
       "      <th>3</th>\n",
       "      <td>373265006</td>\n",
       "      <td>50</td>\n",
       "      <td>50</td>\n",
       "      <td>16</td>\n",
       "      <td>16</td>\n",
       "      <td>3</td>\n",
       "    </tr>\n",
       "    <tr>\n",
       "      <th>4</th>\n",
       "      <td>85828009</td>\n",
       "      <td>46</td>\n",
       "      <td>46</td>\n",
       "      <td>15</td>\n",
       "      <td>15</td>\n",
       "      <td>2</td>\n",
       "    </tr>\n",
       "    <tr>\n",
       "      <th>...</th>\n",
       "      <td>...</td>\n",
       "      <td>...</td>\n",
       "      <td>...</td>\n",
       "      <td>...</td>\n",
       "      <td>...</td>\n",
       "      <td>...</td>\n",
       "    </tr>\n",
       "    <tr>\n",
       "      <th>3640</th>\n",
       "      <td>385532007</td>\n",
       "      <td>1</td>\n",
       "      <td>1</td>\n",
       "      <td>1</td>\n",
       "      <td>1</td>\n",
       "      <td>1</td>\n",
       "    </tr>\n",
       "    <tr>\n",
       "      <th>3641</th>\n",
       "      <td>285651005</td>\n",
       "      <td>1</td>\n",
       "      <td>1</td>\n",
       "      <td>1</td>\n",
       "      <td>1</td>\n",
       "      <td>1</td>\n",
       "    </tr>\n",
       "    <tr>\n",
       "      <th>3642</th>\n",
       "      <td>373188003</td>\n",
       "      <td>1</td>\n",
       "      <td>1</td>\n",
       "      <td>1</td>\n",
       "      <td>1</td>\n",
       "      <td>1</td>\n",
       "    </tr>\n",
       "    <tr>\n",
       "      <th>3643</th>\n",
       "      <td>274152003</td>\n",
       "      <td>1</td>\n",
       "      <td>1</td>\n",
       "      <td>1</td>\n",
       "      <td>1</td>\n",
       "      <td>1</td>\n",
       "    </tr>\n",
       "    <tr>\n",
       "      <th>3644</th>\n",
       "      <td>414786004</td>\n",
       "      <td>1</td>\n",
       "      <td>1</td>\n",
       "      <td>1</td>\n",
       "      <td>1</td>\n",
       "      <td>1</td>\n",
       "    </tr>\n",
       "  </tbody>\n",
       "</table>\n",
       "<p>3645 rows × 6 columns</p>\n",
       "</div>"
      ],
      "text/plain": [
       "      General SNOMED ID  ID  Example  Term  Term_Lower  Specific SNOMED ID\n",
       "0               5935008  70       70    23          22                   2\n",
       "1             225013001  57       57    19          19                   1\n",
       "2              34000006  53       53    17          16                   3\n",
       "3             373265006  50       50    16          16                   3\n",
       "4              85828009  46       46    15          15                   2\n",
       "...                 ...  ..      ...   ...         ...                 ...\n",
       "3640          385532007   1        1     1           1                   1\n",
       "3641          285651005   1        1     1           1                   1\n",
       "3642          373188003   1        1     1           1                   1\n",
       "3643          274152003   1        1     1           1                   1\n",
       "3644          414786004   1        1     1           1                   1\n",
       "\n",
       "[3645 rows x 6 columns]"
      ]
     },
     "execution_count": 7,
     "metadata": {},
     "output_type": "execute_result"
    }
   ],
   "source": [
    "general_ids = terms.groupby(['General SNOMED ID']).nunique().sort_values('ID', ascending=False)[\n",
    "    ['ID','Example', 'Term', 'Term_Lower', 'Specific SNOMED ID']\n",
    "].reset_index()\n",
    "general_ids"
   ]
  },
  {
   "cell_type": "code",
   "execution_count": 8,
   "metadata": {},
   "outputs": [
    {
     "data": {
      "text/html": [
       "<div>\n",
       "<style scoped>\n",
       "    .dataframe tbody tr th:only-of-type {\n",
       "        vertical-align: middle;\n",
       "    }\n",
       "\n",
       "    .dataframe tbody tr th {\n",
       "        vertical-align: top;\n",
       "    }\n",
       "\n",
       "    .dataframe thead th {\n",
       "        text-align: right;\n",
       "    }\n",
       "</style>\n",
       "<table border=\"1\" class=\"dataframe\">\n",
       "  <thead>\n",
       "    <tr style=\"text-align: right;\">\n",
       "      <th></th>\n",
       "      <th>Specific SNOMED ID</th>\n",
       "      <th>ID</th>\n",
       "      <th>Example</th>\n",
       "      <th>Term</th>\n",
       "      <th>Term_Lower</th>\n",
       "      <th>General SNOMED ID</th>\n",
       "    </tr>\n",
       "  </thead>\n",
       "  <tbody>\n",
       "    <tr>\n",
       "      <th>0</th>\n",
       "      <td>5935008</td>\n",
       "      <td>72</td>\n",
       "      <td>72</td>\n",
       "      <td>24</td>\n",
       "      <td>23</td>\n",
       "      <td>2</td>\n",
       "    </tr>\n",
       "    <tr>\n",
       "      <th>1</th>\n",
       "      <td>225013001</td>\n",
       "      <td>57</td>\n",
       "      <td>57</td>\n",
       "      <td>19</td>\n",
       "      <td>19</td>\n",
       "      <td>1</td>\n",
       "    </tr>\n",
       "    <tr>\n",
       "      <th>2</th>\n",
       "      <td>34000006</td>\n",
       "      <td>51</td>\n",
       "      <td>51</td>\n",
       "      <td>17</td>\n",
       "      <td>16</td>\n",
       "      <td>1</td>\n",
       "    </tr>\n",
       "    <tr>\n",
       "      <th>3</th>\n",
       "      <td>69805005</td>\n",
       "      <td>51</td>\n",
       "      <td>51</td>\n",
       "      <td>17</td>\n",
       "      <td>16</td>\n",
       "      <td>2</td>\n",
       "    </tr>\n",
       "    <tr>\n",
       "      <th>4</th>\n",
       "      <td>44054006</td>\n",
       "      <td>49</td>\n",
       "      <td>49</td>\n",
       "      <td>17</td>\n",
       "      <td>17</td>\n",
       "      <td>3</td>\n",
       "    </tr>\n",
       "    <tr>\n",
       "      <th>...</th>\n",
       "      <td>...</td>\n",
       "      <td>...</td>\n",
       "      <td>...</td>\n",
       "      <td>...</td>\n",
       "      <td>...</td>\n",
       "      <td>...</td>\n",
       "    </tr>\n",
       "    <tr>\n",
       "      <th>3998</th>\n",
       "      <td>309464009</td>\n",
       "      <td>1</td>\n",
       "      <td>1</td>\n",
       "      <td>1</td>\n",
       "      <td>1</td>\n",
       "      <td>1</td>\n",
       "    </tr>\n",
       "    <tr>\n",
       "      <th>3999</th>\n",
       "      <td>721033002</td>\n",
       "      <td>1</td>\n",
       "      <td>1</td>\n",
       "      <td>1</td>\n",
       "      <td>1</td>\n",
       "      <td>1</td>\n",
       "    </tr>\n",
       "    <tr>\n",
       "      <th>4000</th>\n",
       "      <td>17986004</td>\n",
       "      <td>1</td>\n",
       "      <td>1</td>\n",
       "      <td>1</td>\n",
       "      <td>1</td>\n",
       "      <td>1</td>\n",
       "    </tr>\n",
       "    <tr>\n",
       "      <th>4001</th>\n",
       "      <td>126633007</td>\n",
       "      <td>1</td>\n",
       "      <td>1</td>\n",
       "      <td>1</td>\n",
       "      <td>1</td>\n",
       "      <td>1</td>\n",
       "    </tr>\n",
       "    <tr>\n",
       "      <th>4002</th>\n",
       "      <td>695751021000132104</td>\n",
       "      <td>1</td>\n",
       "      <td>1</td>\n",
       "      <td>1</td>\n",
       "      <td>1</td>\n",
       "      <td>1</td>\n",
       "    </tr>\n",
       "  </tbody>\n",
       "</table>\n",
       "<p>4003 rows × 6 columns</p>\n",
       "</div>"
      ],
      "text/plain": [
       "      Specific SNOMED ID  ID  Example  Term  Term_Lower  General SNOMED ID\n",
       "0                5935008  72       72    24          23                  2\n",
       "1              225013001  57       57    19          19                  1\n",
       "2               34000006  51       51    17          16                  1\n",
       "3               69805005  51       51    17          16                  2\n",
       "4               44054006  49       49    17          17                  3\n",
       "...                  ...  ..      ...   ...         ...                ...\n",
       "3998           309464009   1        1     1           1                  1\n",
       "3999           721033002   1        1     1           1                  1\n",
       "4000            17986004   1        1     1           1                  1\n",
       "4001           126633007   1        1     1           1                  1\n",
       "4002  695751021000132104   1        1     1           1                  1\n",
       "\n",
       "[4003 rows x 6 columns]"
      ]
     },
     "execution_count": 8,
     "metadata": {},
     "output_type": "execute_result"
    }
   ],
   "source": [
    "specific_ids = terms.groupby(['Specific SNOMED ID']).nunique().sort_values('Example', ascending=False)[\n",
    "    ['ID', 'Example', 'Term', 'Term_Lower', 'General SNOMED ID']\n",
    "].reset_index()\n",
    "specific_ids"
   ]
  },
  {
   "cell_type": "markdown",
   "metadata": {},
   "source": [
    "## General stats"
   ]
  },
  {
   "cell_type": "code",
   "execution_count": 9,
   "metadata": {},
   "outputs": [
    {
     "name": "stdout",
     "output_type": "stream",
     "text": [
      "\n",
      "There are \n",
      "- 20015 terms,\n",
      "- 6404 unique terms, \n",
      "- 4208 concept pairs,\n",
      "- 3645 unique generic SNOMED IDs, \n",
      "- 4003 unique specific SNOMED IDs,\n",
      "- 19911 unique examples\n",
      "\n"
     ]
    }
   ],
   "source": [
    "unique_terms = len(terms.Term.unique())\n",
    "unique_g_labels = len(terms['General SNOMED ID'].unique())\n",
    "unique_s_labels = len(terms['Specific SNOMED ID'].unique())\n",
    "unique_examples = len(terms['Example'].unique())\n",
    "\n",
    "print(f\"\"\"\n",
    "There are \n",
    "- {len(terms)} terms,\n",
    "- {unique_terms} unique terms, \n",
    "- {len(concept_pairs)} concept pairs,\n",
    "- {unique_g_labels} unique generic SNOMED IDs, \n",
    "- {unique_s_labels} unique specific SNOMED IDs,\n",
    "- {unique_examples} unique examples\n",
    "\"\"\")"
   ]
  },
  {
   "cell_type": "code",
   "execution_count": 10,
   "metadata": {},
   "outputs": [
    {
     "name": "stdout",
     "output_type": "stream",
     "text": [
      "\n",
      "There are \n",
      "- 3607 general IDs with more than 2 samples, \n",
      "- 28 general IDs with with 2 samples, \n",
      "- 10 general IDs with just 1 sample, \n",
      "- 3631 specific IDs with more than 2 samples, \n",
      "- 106 specific IDs with 2 samples, \n",
      "- 266 specific IDs with just 1 sample\n",
      "\n"
     ]
    }
   ],
   "source": [
    "print(f\"\"\"\n",
    "There are \n",
    "- {len(general_ids.loc[general_ids.ID > 2])} general IDs with more than 2 samples, \n",
    "- {len(general_ids.loc[general_ids.ID == 2])} general IDs with with 2 samples, \n",
    "- {len(general_ids.loc[general_ids.ID == 1])} general IDs with just 1 sample, \n",
    "- {len(specific_ids.loc[specific_ids.ID > 2])} specific IDs with more than 2 samples, \n",
    "- {len(specific_ids.loc[specific_ids.ID == 2])} specific IDs with 2 samples, \n",
    "- {len(specific_ids.loc[specific_ids.ID == 1])} specific IDs with just 1 sample\n",
    "\"\"\")"
   ]
  },
  {
   "cell_type": "code",
   "execution_count": 11,
   "metadata": {},
   "outputs": [
    {
     "name": "stdout",
     "output_type": "stream",
     "text": [
      "\n",
      "There are \n",
      "- 565 general IDs with more than 2 terms, \n",
      "- 769 general IDs with with 2 terms, \n",
      "- 2311 general IDs with just 1 terms, \n",
      "- 609 specific IDs with more than 2 terms, \n",
      "- 820 specific IDs with 2 terms, \n",
      "- 2574 specific IDs with just 1 terms, \n",
      "\n"
     ]
    }
   ],
   "source": [
    "print(f\"\"\"\n",
    "There are \n",
    "- {len(general_ids.loc[general_ids.Term > 2])} general IDs with more than 2 terms, \n",
    "- {len(general_ids.loc[general_ids.Term == 2])} general IDs with with 2 terms, \n",
    "- {len(general_ids.loc[general_ids.Term == 1])} general IDs with just 1 terms, \n",
    "- {len(specific_ids.loc[specific_ids.Term > 2])} specific IDs with more than 2 terms, \n",
    "- {len(specific_ids.loc[specific_ids.Term == 2])} specific IDs with 2 terms, \n",
    "- {len(specific_ids.loc[specific_ids.Term == 1])} specific IDs with just 1 terms, \n",
    "\"\"\")"
   ]
  },
  {
   "cell_type": "code",
   "execution_count": 12,
   "metadata": {},
   "outputs": [
    {
     "name": "stdout",
     "output_type": "stream",
     "text": [
      "\n",
      "Each General ID has\n",
      "- 1.76 different surface terms on average (std 1.60, min 1.00, max 23.00)\n",
      "- 1.70 different surface terms on average (std 1.54, min 1.00, max 22.00)\n",
      "- 5.49 different samples on average (std 5.02, min 1.00, max 70.00)\n",
      "- 1.15 different Specific SNOMED IDs on average (std 0.52, min 1.00, max 9.00)\n",
      "\n"
     ]
    }
   ],
   "source": [
    "print(f\"\"\"\n",
    "Each General ID has\n",
    "- {general_ids.Term.mean():2.2f} different surface terms on average \\\n",
    "(std {general_ids.Term.std():2.2f},\\\n",
    " min {general_ids.Term.min():2.2f},\\\n",
    " max {general_ids.Term.max():2.2f})\n",
    "- {general_ids.Term_Lower.mean():2.2f} different surface terms on average \\\n",
    "(std {general_ids.Term_Lower.std():2.2f},\\\n",
    " min {general_ids.Term_Lower.min():2.2f},\\\n",
    " max {general_ids.Term_Lower.max():2.2f})\n",
    "- {general_ids.ID.mean():2.2f} different samples on average \\\n",
    "(std {general_ids.ID.std():2.2f},\\\n",
    " min {general_ids.ID.min():2.2f},\\\n",
    " max {general_ids.ID.max():2.2f})\n",
    "- {general_ids['Specific SNOMED ID'].mean():2.2f} different Specific SNOMED IDs on average \\\n",
    "(std {general_ids['Specific SNOMED ID'].std():2.2f},\\\n",
    " min {general_ids['Specific SNOMED ID'].min():2.2f},\\\n",
    " max {general_ids['Specific SNOMED ID'].max():2.2f})\n",
    "\"\"\")"
   ]
  },
  {
   "cell_type": "code",
   "execution_count": 13,
   "metadata": {},
   "outputs": [
    {
     "name": "stdout",
     "output_type": "stream",
     "text": [
      "\n",
      "Each Specific ID has\n",
      "- 1.74 different surface terms on average (std 1.61, min 1.00, max 24.00)\n",
      "- 1.69 different surface terms on average (std 1.54, min 1.00, max 23.00)\n",
      "- 5.00 different samples on average (std 4.83, min 1.00, max 72.00)\n",
      "- 1.05 different General SNOMED IDs on average (std 0.23, min 1.00, max 3.00)\n",
      "\n"
     ]
    }
   ],
   "source": [
    "print(f\"\"\"\n",
    "Each Specific ID has\n",
    "- {specific_ids.Term.mean():2.2f} different surface terms on average \\\n",
    "(std {specific_ids.Term.std():2.2f},\\\n",
    " min {specific_ids.Term.min():2.2f},\\\n",
    " max {specific_ids.Term.max():2.2f})\n",
    "- {specific_ids.Term_Lower.mean():2.2f} different surface terms on average \\\n",
    "(std {specific_ids.Term_Lower.std():2.2f},\\\n",
    " min {specific_ids.Term_Lower.min():2.2f},\\\n",
    " max {specific_ids.Term_Lower.max():2.2f})\n",
    "- {specific_ids.ID.mean():2.2f} different samples on average \\\n",
    "(std {specific_ids.ID.std():2.2f},\\\n",
    " min {specific_ids.ID.min():2.2f},\\\n",
    " max {specific_ids.ID.max():2.2f})\n",
    "- {specific_ids['General SNOMED ID'].mean():2.2f} different General SNOMED IDs on average \\\n",
    "(std {specific_ids['General SNOMED ID'].std():2.2f},\\\n",
    " min {specific_ids['General SNOMED ID'].min():2.2f},\\\n",
    " max {specific_ids['General SNOMED ID'].max():2.2f})\n",
    "\"\"\")"
   ]
  },
  {
   "cell_type": "markdown",
   "metadata": {},
   "source": [
    "## Term distribution"
   ]
  },
  {
   "cell_type": "markdown",
   "metadata": {},
   "source": [
    "### #of samples by unique General/Snomed ID"
   ]
  },
  {
   "cell_type": "code",
   "execution_count": 14,
   "metadata": {},
   "outputs": [
    {
     "data": {
      "image/png": "[encoded data removed]",
      "text/plain": [
       "<Figure size 864x432 with 1 Axes>"
      ]
     },
     "metadata": {},
     "output_type": "display_data"
    }
   ],
   "source": [
    "concept_pairs.sort_values('ID', ascending=False, inplace=True)\n",
    "\n",
    "plt.figure(figsize=FIGSIZE)\n",
    "ax = sns.countplot(x = concept_pairs.ID)\n",
    "ax.set_title('Number of samples per unique General/Specific SNOMED ID',\n",
    "             **TITLE_ARGS)\n",
    "ax.set_yscale(\"log\")\n",
    "plt.show()"
   ]
  },
  {
   "cell_type": "code",
   "execution_count": 15,
   "metadata": {},
   "outputs": [
    {
     "data": {
      "image/png": "[encoded data removed]",
      "text/plain": [
       "<Figure size 864x432 with 1 Axes>"
      ]
     },
     "metadata": {},
     "output_type": "display_data"
    }
   ],
   "source": [
    "plt.figure(figsize=FIGSIZE)\n",
    "ax = sns.countplot(x = concept_pairs.Term)\n",
    "ax.set_title('Number of terms per unique General/Specific SNOMED ID',\n",
    "             **TITLE_ARGS)\n",
    "ax.set_yscale(\"log\")\n",
    "plt.show()"
   ]
  },
  {
   "cell_type": "code",
   "execution_count": 16,
   "metadata": {},
   "outputs": [
    {
     "data": {
      "text/html": [
       "<div>\n",
       "<style scoped>\n",
       "    .dataframe tbody tr th:only-of-type {\n",
       "        vertical-align: middle;\n",
       "    }\n",
       "\n",
       "    .dataframe tbody tr th {\n",
       "        vertical-align: top;\n",
       "    }\n",
       "\n",
       "    .dataframe thead th {\n",
       "        text-align: right;\n",
       "    }\n",
       "</style>\n",
       "<table border=\"1\" class=\"dataframe\">\n",
       "  <thead>\n",
       "    <tr style=\"text-align: right;\">\n",
       "      <th></th>\n",
       "      <th>General SNOMED ID</th>\n",
       "      <th>Specific SNOMED ID</th>\n",
       "      <th>Term</th>\n",
       "      <th>Label</th>\n",
       "    </tr>\n",
       "  </thead>\n",
       "  <tbody>\n",
       "    <tr>\n",
       "      <th>0</th>\n",
       "      <td>5935008</td>\n",
       "      <td>5935008</td>\n",
       "      <td>23</td>\n",
       "      <td>Oral contraception</td>\n",
       "    </tr>\n",
       "    <tr>\n",
       "      <th>1</th>\n",
       "      <td>225013001</td>\n",
       "      <td>225013001</td>\n",
       "      <td>19</td>\n",
       "      <td>Feeling bad</td>\n",
       "    </tr>\n",
       "    <tr>\n",
       "      <th>2</th>\n",
       "      <td>34000006</td>\n",
       "      <td>34000006</td>\n",
       "      <td>17</td>\n",
       "      <td>Crohn's disease</td>\n",
       "    </tr>\n",
       "    <tr>\n",
       "      <th>3</th>\n",
       "      <td>373265006</td>\n",
       "      <td>373265006</td>\n",
       "      <td>16</td>\n",
       "      <td>Analgesic (substance)</td>\n",
       "    </tr>\n",
       "    <tr>\n",
       "      <th>4</th>\n",
       "      <td>69805005</td>\n",
       "      <td>69805005</td>\n",
       "      <td>15</td>\n",
       "      <td>Insulin pump</td>\n",
       "    </tr>\n",
       "    <tr>\n",
       "      <th>5</th>\n",
       "      <td>706130009</td>\n",
       "      <td>706130009</td>\n",
       "      <td>15</td>\n",
       "      <td>Glucose monitoring system</td>\n",
       "    </tr>\n",
       "    <tr>\n",
       "      <th>6</th>\n",
       "      <td>85828009</td>\n",
       "      <td>85828009</td>\n",
       "      <td>15</td>\n",
       "      <td>Autoimmune disease</td>\n",
       "    </tr>\n",
       "    <tr>\n",
       "      <th>7</th>\n",
       "      <td>46635009</td>\n",
       "      <td>46635009</td>\n",
       "      <td>15</td>\n",
       "      <td>Diabetes mellitus type I</td>\n",
       "    </tr>\n",
       "  </tbody>\n",
       "</table>\n",
       "</div>"
      ],
      "text/plain": [
       "   General SNOMED ID  Specific SNOMED ID  Term                      Label\n",
       "0            5935008             5935008    23         Oral contraception\n",
       "1          225013001           225013001    19                Feeling bad\n",
       "2           34000006            34000006    17            Crohn's disease\n",
       "3          373265006           373265006    16      Analgesic (substance)\n",
       "4           69805005            69805005    15               Insulin pump\n",
       "5          706130009           706130009    15  Glucose monitoring system\n",
       "6           85828009            85828009    15         Autoimmune disease\n",
       "7           46635009            46635009    15   Diabetes mellitus type I"
      ]
     },
     "execution_count": 16,
     "metadata": {},
     "output_type": "execute_result"
    }
   ],
   "source": [
    "frequent_concepts = concept_pairs.loc[concept_pairs.Term >= 15].Term.reset_index(\n",
    ")\n",
    "frequent_concepts['Label'] = frequent_concepts.apply(\n",
    "    lambda x: snomed_taxonomy[x['General SNOMED ID']]['desc'], axis=1)\n",
    "frequent_concepts"
   ]
  },
  {
   "cell_type": "code",
   "execution_count": 17,
   "metadata": {},
   "outputs": [
    {
     "data": {
      "image/png": "[encoded data removed]",
      "text/plain": [
       "<Figure size 864x432 with 1 Axes>"
      ]
     },
     "metadata": {},
     "output_type": "display_data"
    }
   ],
   "source": [
    "plt.figure(figsize=FIGSIZE)\n",
    "ax = sns.countplot(x = general_ids.Term)\n",
    "ax.set_title('Number of terms per unique General SNOMED ID',\n",
    "             **TITLE_ARGS)\n",
    "ax.set_yscale(\"log\")\n",
    "plt.show()"
   ]
  },
  {
   "cell_type": "code",
   "execution_count": 18,
   "metadata": {},
   "outputs": [
    {
     "data": {
      "image/png": "[encoded data removed]",
      "text/plain": [
       "<Figure size 864x432 with 1 Axes>"
      ]
     },
     "metadata": {},
     "output_type": "display_data"
    }
   ],
   "source": [
    "plt.figure(figsize=FIGSIZE)\n",
    "ax = sns.countplot(x = general_ids.Term_Lower)\n",
    "ax.set_title('Number of terms per unique General SNOMED ID',\n",
    "             **TITLE_ARGS)\n",
    "ax.set_yscale(\"log\")\n",
    "plt.show()"
   ]
  },
  {
   "cell_type": "code",
   "execution_count": 19,
   "metadata": {},
   "outputs": [
    {
     "data": {
      "image/png": "[encoded data removed]",
      "text/plain": [
       "<Figure size 864x432 with 1 Axes>"
      ]
     },
     "metadata": {},
     "output_type": "display_data"
    }
   ],
   "source": [
    "plt.figure(figsize=FIGSIZE)\n",
    "ax = sns.countplot(x = general_ids.ID)\n",
    "ax.set_title('Number of samples per unique General SNOMED ID',\n",
    "             **TITLE_ARGS)\n",
    "ax.set_yscale(\"log\")\n",
    "plt.show()"
   ]
  },
  {
   "cell_type": "code",
   "execution_count": 20,
   "metadata": {},
   "outputs": [
    {
     "data": {
      "image/png": "[encoded data removed]",
      "text/plain": [
       "<Figure size 864x432 with 1 Axes>"
      ]
     },
     "metadata": {},
     "output_type": "display_data"
    }
   ],
   "source": [
    "plt.figure(figsize=FIGSIZE)\n",
    "ax = sns.countplot(x = specific_ids.Term)\n",
    "ax.set_title('Number of terms per unique Specific SNOMED ID',\n",
    "             **TITLE_ARGS)\n",
    "ax.set_yscale(\"log\")\n",
    "plt.show()"
   ]
  },
  {
   "cell_type": "code",
   "execution_count": 21,
   "metadata": {},
   "outputs": [
    {
     "data": {
      "image/png": "[encoded data removed]",
      "text/plain": [
       "<Figure size 864x432 with 1 Axes>"
      ]
     },
     "metadata": {},
     "output_type": "display_data"
    }
   ],
   "source": [
    "plt.figure(figsize=FIGSIZE)\n",
    "ax = sns.countplot(x = specific_ids.Term_Lower)\n",
    "ax.set_title('Number of terms per unique Specific SNOMED ID',\n",
    "             **TITLE_ARGS)\n",
    "ax.set_yscale(\"log\")\n",
    "plt.show()"
   ]
  },
  {
   "cell_type": "code",
   "execution_count": 22,
   "metadata": {},
   "outputs": [
    {
     "data": {
      "image/png": "[encoded data removed]",
      "text/plain": [
       "<Figure size 864x432 with 1 Axes>"
      ]
     },
     "metadata": {},
     "output_type": "display_data"
    }
   ],
   "source": [
    "plt.figure(figsize=FIGSIZE)\n",
    "ax = sns.countplot(x = specific_ids.ID)\n",
    "ax.set_title('Number of samples per unique Specific SNOMED ID',\n",
    "             **TITLE_ARGS)\n",
    "ax.set_yscale(\"log\")\n",
    "plt.show()"
   ]
  },
  {
   "cell_type": "markdown",
   "metadata": {},
   "source": [
    "## Term distance"
   ]
  },
  {
   "cell_type": "code",
   "execution_count": 23,
   "metadata": {},
   "outputs": [],
   "source": [
    "def get_minimum_distance(snomed, sid, term):\n",
    "    term = term.strip().lower()\n",
    "    labels = set([x.split('(')[0].strip().lower() for x in snomed_taxonomy.index_definition[str(sid)]])\n",
    "    distances = [edit_distance(term, label) for label in labels]\n",
    "    return min(distances)"
   ]
  },
  {
   "cell_type": "markdown",
   "metadata": {},
   "source": [
    "### General"
   ]
  },
  {
   "cell_type": "code",
   "execution_count": 24,
   "metadata": {
    "scrolled": true
   },
   "outputs": [
    {
     "data": {
      "text/html": [
       "<div>\n",
       "<style scoped>\n",
       "    .dataframe tbody tr th:only-of-type {\n",
       "        vertical-align: middle;\n",
       "    }\n",
       "\n",
       "    .dataframe tbody tr th {\n",
       "        vertical-align: top;\n",
       "    }\n",
       "\n",
       "    .dataframe thead th {\n",
       "        text-align: right;\n",
       "    }\n",
       "</style>\n",
       "<table border=\"1\" class=\"dataframe\">\n",
       "  <thead>\n",
       "    <tr style=\"text-align: right;\">\n",
       "      <th></th>\n",
       "      <th>Term</th>\n",
       "      <th>General SNOMED ID</th>\n",
       "    </tr>\n",
       "  </thead>\n",
       "  <tbody>\n",
       "    <tr>\n",
       "      <th>0</th>\n",
       "      <td>5FU</td>\n",
       "      <td>387172005</td>\n",
       "    </tr>\n",
       "    <tr>\n",
       "      <th>1</th>\n",
       "      <td>5HTP</td>\n",
       "      <td>73916008</td>\n",
       "    </tr>\n",
       "    <tr>\n",
       "      <th>2</th>\n",
       "      <td>6MP</td>\n",
       "      <td>386835005</td>\n",
       "    </tr>\n",
       "    <tr>\n",
       "      <th>3</th>\n",
       "      <td>A1C</td>\n",
       "      <td>443911005</td>\n",
       "    </tr>\n",
       "    <tr>\n",
       "      <th>4</th>\n",
       "      <td>A1C tests</td>\n",
       "      <td>43396009</td>\n",
       "    </tr>\n",
       "  </tbody>\n",
       "</table>\n",
       "</div>"
      ],
      "text/plain": [
       "        Term  General SNOMED ID\n",
       "0        5FU          387172005\n",
       "1       5HTP           73916008\n",
       "2        6MP          386835005\n",
       "3        A1C          443911005\n",
       "4  A1C tests           43396009"
      ]
     },
     "execution_count": 24,
     "metadata": {},
     "output_type": "execute_result"
    }
   ],
   "source": [
    "term_gsid_pairs = terms[['Term', 'General SNOMED ID']].drop_duplicates().reset_index(drop=True)\n",
    "term_gsid_pairs.head()"
   ]
  },
  {
   "cell_type": "code",
   "execution_count": 25,
   "metadata": {
    "scrolled": true
   },
   "outputs": [
    {
     "data": {
      "text/html": [
       "<div>\n",
       "<style scoped>\n",
       "    .dataframe tbody tr th:only-of-type {\n",
       "        vertical-align: middle;\n",
       "    }\n",
       "\n",
       "    .dataframe tbody tr th {\n",
       "        vertical-align: top;\n",
       "    }\n",
       "\n",
       "    .dataframe thead th {\n",
       "        text-align: right;\n",
       "    }\n",
       "</style>\n",
       "<table border=\"1\" class=\"dataframe\">\n",
       "  <thead>\n",
       "    <tr style=\"text-align: right;\">\n",
       "      <th></th>\n",
       "      <th>Term</th>\n",
       "      <th>General SNOMED ID</th>\n",
       "      <th>Edit Distance</th>\n",
       "    </tr>\n",
       "  </thead>\n",
       "  <tbody>\n",
       "    <tr>\n",
       "      <th>0</th>\n",
       "      <td>5FU</td>\n",
       "      <td>387172005</td>\n",
       "      <td>1</td>\n",
       "    </tr>\n",
       "    <tr>\n",
       "      <th>1</th>\n",
       "      <td>5HTP</td>\n",
       "      <td>73916008</td>\n",
       "      <td>8</td>\n",
       "    </tr>\n",
       "    <tr>\n",
       "      <th>2</th>\n",
       "      <td>6MP</td>\n",
       "      <td>386835005</td>\n",
       "      <td>1</td>\n",
       "    </tr>\n",
       "    <tr>\n",
       "      <th>3</th>\n",
       "      <td>A1C</td>\n",
       "      <td>443911005</td>\n",
       "      <td>2</td>\n",
       "    </tr>\n",
       "    <tr>\n",
       "      <th>4</th>\n",
       "      <td>A1C tests</td>\n",
       "      <td>43396009</td>\n",
       "      <td>20</td>\n",
       "    </tr>\n",
       "  </tbody>\n",
       "</table>\n",
       "</div>"
      ],
      "text/plain": [
       "        Term  General SNOMED ID  Edit Distance\n",
       "0        5FU          387172005              1\n",
       "1       5HTP           73916008              8\n",
       "2        6MP          386835005              1\n",
       "3        A1C          443911005              2\n",
       "4  A1C tests           43396009             20"
      ]
     },
     "execution_count": 25,
     "metadata": {},
     "output_type": "execute_result"
    }
   ],
   "source": [
    "term_gsid_pairs['Edit Distance'] = term_gsid_pairs.apply(\n",
    "    lambda x: get_minimum_distance(snomed_taxonomy, x['General SNOMED ID'], x.Term),\n",
    "    axis=1)\n",
    "term_gsid_pairs.head()"
   ]
  },
  {
   "cell_type": "code",
   "execution_count": 26,
   "metadata": {
    "scrolled": false
   },
   "outputs": [
    {
     "data": {
      "image/png": "[encoded data removed]",
      "text/plain": [
       "<Figure size 864x432 with 1 Axes>"
      ]
     },
     "metadata": {},
     "output_type": "display_data"
    }
   ],
   "source": [
    "plt.figure(figsize=FIGSIZE)\n",
    "plt.xticks(rotation=90)\n",
    "ax = sns.countplot(x = term_gsid_pairs['Edit Distance'])\n",
    "ax.set_title('Average minimum edit distance per Generic SNOMED ID',\n",
    "             **TITLE_ARGS)\n",
    "ax.set_yscale(\"log\")\n",
    "plt.show()"
   ]
  },
  {
   "cell_type": "code",
   "execution_count": 27,
   "metadata": {},
   "outputs": [
    {
     "name": "stdout",
     "output_type": "stream",
     "text": [
      "Mean minimum generic term distance: 6.29\n",
      "STD  minimum generic term distance: 9.31\n"
     ]
    }
   ],
   "source": [
    "print(f'Mean minimum generic term distance: {term_gsid_pairs[\"Edit Distance\"].mean():.2f}')\n",
    "print(f'STD  minimum generic term distance: {term_gsid_pairs[\"Edit Distance\"].std():.2f}')"
   ]
  },
  {
   "cell_type": "markdown",
   "metadata": {},
   "source": [
    "### Specific"
   ]
  },
  {
   "cell_type": "code",
   "execution_count": 28,
   "metadata": {
    "scrolled": true
   },
   "outputs": [
    {
     "data": {
      "text/html": [
       "<div>\n",
       "<style scoped>\n",
       "    .dataframe tbody tr th:only-of-type {\n",
       "        vertical-align: middle;\n",
       "    }\n",
       "\n",
       "    .dataframe tbody tr th {\n",
       "        vertical-align: top;\n",
       "    }\n",
       "\n",
       "    .dataframe thead th {\n",
       "        text-align: right;\n",
       "    }\n",
       "</style>\n",
       "<table border=\"1\" class=\"dataframe\">\n",
       "  <thead>\n",
       "    <tr style=\"text-align: right;\">\n",
       "      <th></th>\n",
       "      <th>Term</th>\n",
       "      <th>Specific SNOMED ID</th>\n",
       "    </tr>\n",
       "  </thead>\n",
       "  <tbody>\n",
       "    <tr>\n",
       "      <th>0</th>\n",
       "      <td>5FU</td>\n",
       "      <td>387172005</td>\n",
       "    </tr>\n",
       "    <tr>\n",
       "      <th>1</th>\n",
       "      <td>5HTP</td>\n",
       "      <td>73916008</td>\n",
       "    </tr>\n",
       "    <tr>\n",
       "      <th>2</th>\n",
       "      <td>6MP</td>\n",
       "      <td>386835005</td>\n",
       "    </tr>\n",
       "    <tr>\n",
       "      <th>3</th>\n",
       "      <td>A1C</td>\n",
       "      <td>443911005</td>\n",
       "    </tr>\n",
       "    <tr>\n",
       "      <th>4</th>\n",
       "      <td>A1C tests</td>\n",
       "      <td>43396009</td>\n",
       "    </tr>\n",
       "  </tbody>\n",
       "</table>\n",
       "</div>"
      ],
      "text/plain": [
       "        Term  Specific SNOMED ID\n",
       "0        5FU           387172005\n",
       "1       5HTP            73916008\n",
       "2        6MP           386835005\n",
       "3        A1C           443911005\n",
       "4  A1C tests            43396009"
      ]
     },
     "execution_count": 28,
     "metadata": {},
     "output_type": "execute_result"
    }
   ],
   "source": [
    "term_ssid_pairs = terms[['Term', 'Specific SNOMED ID']].drop_duplicates().reset_index(drop=True)\n",
    "term_ssid_pairs.head()"
   ]
  },
  {
   "cell_type": "code",
   "execution_count": 29,
   "metadata": {
    "scrolled": true
   },
   "outputs": [
    {
     "data": {
      "text/html": [
       "<div>\n",
       "<style scoped>\n",
       "    .dataframe tbody tr th:only-of-type {\n",
       "        vertical-align: middle;\n",
       "    }\n",
       "\n",
       "    .dataframe tbody tr th {\n",
       "        vertical-align: top;\n",
       "    }\n",
       "\n",
       "    .dataframe thead th {\n",
       "        text-align: right;\n",
       "    }\n",
       "</style>\n",
       "<table border=\"1\" class=\"dataframe\">\n",
       "  <thead>\n",
       "    <tr style=\"text-align: right;\">\n",
       "      <th></th>\n",
       "      <th>Term</th>\n",
       "      <th>Specific SNOMED ID</th>\n",
       "      <th>Edit Distance</th>\n",
       "    </tr>\n",
       "  </thead>\n",
       "  <tbody>\n",
       "    <tr>\n",
       "      <th>0</th>\n",
       "      <td>5FU</td>\n",
       "      <td>387172005</td>\n",
       "      <td>1</td>\n",
       "    </tr>\n",
       "    <tr>\n",
       "      <th>1</th>\n",
       "      <td>5HTP</td>\n",
       "      <td>73916008</td>\n",
       "      <td>8</td>\n",
       "    </tr>\n",
       "    <tr>\n",
       "      <th>2</th>\n",
       "      <td>6MP</td>\n",
       "      <td>386835005</td>\n",
       "      <td>1</td>\n",
       "    </tr>\n",
       "    <tr>\n",
       "      <th>3</th>\n",
       "      <td>A1C</td>\n",
       "      <td>443911005</td>\n",
       "      <td>2</td>\n",
       "    </tr>\n",
       "    <tr>\n",
       "      <th>4</th>\n",
       "      <td>A1C tests</td>\n",
       "      <td>43396009</td>\n",
       "      <td>20</td>\n",
       "    </tr>\n",
       "  </tbody>\n",
       "</table>\n",
       "</div>"
      ],
      "text/plain": [
       "        Term  Specific SNOMED ID  Edit Distance\n",
       "0        5FU           387172005              1\n",
       "1       5HTP            73916008              8\n",
       "2        6MP           386835005              1\n",
       "3        A1C           443911005              2\n",
       "4  A1C tests            43396009             20"
      ]
     },
     "execution_count": 29,
     "metadata": {},
     "output_type": "execute_result"
    }
   ],
   "source": [
    "term_ssid_pairs['Edit Distance'] = term_ssid_pairs.apply(\n",
    "    lambda x: get_minimum_distance(snomed_taxonomy, x['Specific SNOMED ID'], x.Term),\n",
    "    axis=1)\n",
    "term_ssid_pairs.head()"
   ]
  },
  {
   "cell_type": "code",
   "execution_count": 30,
   "metadata": {
    "scrolled": false
   },
   "outputs": [
    {
     "data": {
      "image/png": "[encoded data removed]",
      "text/plain": [
       "<Figure size 864x432 with 1 Axes>"
      ]
     },
     "metadata": {},
     "output_type": "display_data"
    }
   ],
   "source": [
    "plt.figure(figsize=FIGSIZE)\n",
    "plt.xticks(rotation=90)\n",
    "ax = sns.countplot(x = term_ssid_pairs['Edit Distance'])\n",
    "ax.set_title('Average minimum edit distance per Specific SNOMED ID',\n",
    "             **TITLE_ARGS)\n",
    "ax.set_yscale(\"log\")\n",
    "plt.show()"
   ]
  },
  {
   "cell_type": "code",
   "execution_count": 31,
   "metadata": {},
   "outputs": [
    {
     "name": "stdout",
     "output_type": "stream",
     "text": [
      "Mean minimum specific term distance: 6.73\n",
      "STD  minimum specific term distance: 9.24\n"
     ]
    }
   ],
   "source": [
    "print(f'Mean minimum specific term distance: {term_ssid_pairs[\"Edit Distance\"].mean():.2f}')\n",
    "print(f'STD  minimum specific term distance: {term_ssid_pairs[\"Edit Distance\"].std():.2f}')"
   ]
  },
  {
   "cell_type": "markdown",
   "metadata": {},
   "source": [
    "## Calculate Ancestry"
   ]
  },
  {
   "cell_type": "code",
   "execution_count": 32,
   "metadata": {},
   "outputs": [
    {
     "data": {
      "text/html": [
       "<div>\n",
       "<style scoped>\n",
       "    .dataframe tbody tr th:only-of-type {\n",
       "        vertical-align: middle;\n",
       "    }\n",
       "\n",
       "    .dataframe tbody tr th {\n",
       "        vertical-align: top;\n",
       "    }\n",
       "\n",
       "    .dataframe thead th {\n",
       "        text-align: right;\n",
       "    }\n",
       "</style>\n",
       "<table border=\"1\" class=\"dataframe\">\n",
       "  <thead>\n",
       "    <tr style=\"text-align: right;\">\n",
       "      <th></th>\n",
       "      <th>ID</th>\n",
       "      <th>Term</th>\n",
       "      <th>General SNOMED Label</th>\n",
       "      <th>General SNOMED ID</th>\n",
       "      <th>Specific SNOMED Label</th>\n",
       "      <th>Specific SNOMED ID</th>\n",
       "      <th>Example</th>\n",
       "      <th>Example Link</th>\n",
       "      <th>Origin_Sheet</th>\n",
       "      <th>Term_Lower</th>\n",
       "      <th>Distance_Taxonomic</th>\n",
       "      <th>Distance_Full</th>\n",
       "      <th>Ancestry_Taxonomic</th>\n",
       "      <th>Ancestry_Full</th>\n",
       "    </tr>\n",
       "  </thead>\n",
       "  <tbody>\n",
       "    <tr>\n",
       "      <th>0</th>\n",
       "      <td>0</td>\n",
       "      <td>5FU</td>\n",
       "      <td>Fluorouracil</td>\n",
       "      <td>387172005</td>\n",
       "      <td>Fluorouracil</td>\n",
       "      <td>387172005</td>\n",
       "      <td>I can ' t do 5FU because it causes cardiotoxic...</td>\n",
       "      <td>https://www.reddit.com/4gs56p</td>\n",
       "      <td>./stage_1/Batch 7-Ready.xlsx</td>\n",
       "      <td>5fu</td>\n",
       "      <td>0</td>\n",
       "      <td>0</td>\n",
       "      <td>True</td>\n",
       "      <td>True</td>\n",
       "    </tr>\n",
       "    <tr>\n",
       "      <th>1</th>\n",
       "      <td>1</td>\n",
       "      <td>5FU</td>\n",
       "      <td>Fluorouracil</td>\n",
       "      <td>387172005</td>\n",
       "      <td>Fluorouracil</td>\n",
       "      <td>387172005</td>\n",
       "      <td>He is starting 5FU and Leucovorin and Hercepti...</td>\n",
       "      <td>https://www.reddit.com/9tekw3</td>\n",
       "      <td>./stage_1/Batch 7-Ready.xlsx</td>\n",
       "      <td>5fu</td>\n",
       "      <td>0</td>\n",
       "      <td>0</td>\n",
       "      <td>True</td>\n",
       "      <td>True</td>\n",
       "    </tr>\n",
       "    <tr>\n",
       "      <th>2</th>\n",
       "      <td>2</td>\n",
       "      <td>5FU</td>\n",
       "      <td>Fluorouracil</td>\n",
       "      <td>387172005</td>\n",
       "      <td>Fluorouracil</td>\n",
       "      <td>387172005</td>\n",
       "      <td>Around treatment 9 they realized that I was al...</td>\n",
       "      <td>https://www.reddit.com/916p80</td>\n",
       "      <td>./stage_1/Batch 7-Ready.xlsx</td>\n",
       "      <td>5fu</td>\n",
       "      <td>0</td>\n",
       "      <td>0</td>\n",
       "      <td>True</td>\n",
       "      <td>True</td>\n",
       "    </tr>\n",
       "    <tr>\n",
       "      <th>3</th>\n",
       "      <td>3</td>\n",
       "      <td>5HTP</td>\n",
       "      <td>Oxitriptan</td>\n",
       "      <td>73916008</td>\n",
       "      <td>Oxitriptan</td>\n",
       "      <td>73916008</td>\n",
       "      <td>Aside from edibles I take Gaba , Taurine , sub...</td>\n",
       "      <td>https://www.reddit.com/8b7cb4</td>\n",
       "      <td>./stage_1/Batch8-Ready.xlsx</td>\n",
       "      <td>5htp</td>\n",
       "      <td>0</td>\n",
       "      <td>0</td>\n",
       "      <td>True</td>\n",
       "      <td>True</td>\n",
       "    </tr>\n",
       "    <tr>\n",
       "      <th>4</th>\n",
       "      <td>4</td>\n",
       "      <td>5HTP</td>\n",
       "      <td>Oxitriptan</td>\n",
       "      <td>73916008</td>\n",
       "      <td>Oxitriptan</td>\n",
       "      <td>73916008</td>\n",
       "      <td>I was recomended the 5HTP and as I said it ini...</td>\n",
       "      <td>https://www.reddit.com/771elt</td>\n",
       "      <td>./stage_1/Batch8-Ready.xlsx</td>\n",
       "      <td>5htp</td>\n",
       "      <td>0</td>\n",
       "      <td>0</td>\n",
       "      <td>True</td>\n",
       "      <td>True</td>\n",
       "    </tr>\n",
       "  </tbody>\n",
       "</table>\n",
       "</div>"
      ],
      "text/plain": [
       "   ID  Term General SNOMED Label  General SNOMED ID Specific SNOMED Label  \\\n",
       "0   0   5FU         Fluorouracil          387172005          Fluorouracil   \n",
       "1   1   5FU         Fluorouracil          387172005          Fluorouracil   \n",
       "2   2   5FU         Fluorouracil          387172005          Fluorouracil   \n",
       "3   3  5HTP           Oxitriptan           73916008            Oxitriptan   \n",
       "4   4  5HTP           Oxitriptan           73916008            Oxitriptan   \n",
       "\n",
       "   Specific SNOMED ID                                            Example  \\\n",
       "0           387172005  I can ' t do 5FU because it causes cardiotoxic...   \n",
       "1           387172005  He is starting 5FU and Leucovorin and Hercepti...   \n",
       "2           387172005  Around treatment 9 they realized that I was al...   \n",
       "3            73916008  Aside from edibles I take Gaba , Taurine , sub...   \n",
       "4            73916008  I was recomended the 5HTP and as I said it ini...   \n",
       "\n",
       "                    Example Link                  Origin_Sheet Term_Lower  \\\n",
       "0  https://www.reddit.com/4gs56p  ./stage_1/Batch 7-Ready.xlsx        5fu   \n",
       "1  https://www.reddit.com/9tekw3  ./stage_1/Batch 7-Ready.xlsx        5fu   \n",
       "2  https://www.reddit.com/916p80  ./stage_1/Batch 7-Ready.xlsx        5fu   \n",
       "3  https://www.reddit.com/8b7cb4   ./stage_1/Batch8-Ready.xlsx       5htp   \n",
       "4  https://www.reddit.com/771elt   ./stage_1/Batch8-Ready.xlsx       5htp   \n",
       "\n",
       "   Distance_Taxonomic  Distance_Full  Ancestry_Taxonomic  Ancestry_Full  \n",
       "0                   0              0                True           True  \n",
       "1                   0              0                True           True  \n",
       "2                   0              0                True           True  \n",
       "3                   0              0                True           True  \n",
       "4                   0              0                True           True  "
      ]
     },
     "execution_count": 32,
     "metadata": {},
     "output_type": "execute_result"
    }
   ],
   "source": [
    "terms['Distance_Taxonomic'] = terms.apply(lambda x: snomed_taxonomy.safe_distance(\n",
    "    x['General SNOMED ID'], x['Specific SNOMED ID']),\n",
    "                                axis=1)\n",
    "terms['Distance_Full'] = terms.apply(lambda x: snomed_all.safe_distance(\n",
    "    x['General SNOMED ID'], x['Specific SNOMED ID']),\n",
    "                                axis=1)\n",
    "terms['Ancestry_Taxonomic'] = terms.apply(lambda x: snomed_taxonomy.is_ancestor(\n",
    "    x['General SNOMED ID'], x['Specific SNOMED ID']),\n",
    "                                axis=1)\n",
    "terms['Ancestry_Full'] = terms.apply(lambda x: snomed_all.is_ancestor(\n",
    "    x['General SNOMED ID'], x['Specific SNOMED ID']),\n",
    "                                axis=1)\n",
    "terms.head()"
   ]
  },
  {
   "cell_type": "code",
   "execution_count": 33,
   "metadata": {},
   "outputs": [
    {
     "data": {
      "text/html": [
       "<div>\n",
       "<style scoped>\n",
       "    .dataframe tbody tr th:only-of-type {\n",
       "        vertical-align: middle;\n",
       "    }\n",
       "\n",
       "    .dataframe tbody tr th {\n",
       "        vertical-align: top;\n",
       "    }\n",
       "\n",
       "    .dataframe thead th {\n",
       "        text-align: right;\n",
       "    }\n",
       "</style>\n",
       "<table border=\"1\" class=\"dataframe\">\n",
       "  <thead>\n",
       "    <tr style=\"text-align: right;\">\n",
       "      <th></th>\n",
       "      <th>General SNOMED ID</th>\n",
       "      <th>Specific SNOMED ID</th>\n",
       "      <th>Distance_Taxonomic</th>\n",
       "      <th>Distance_Full</th>\n",
       "      <th>Ancestry_Taxonomic</th>\n",
       "      <th>Ancestry_Full</th>\n",
       "    </tr>\n",
       "  </thead>\n",
       "  <tbody>\n",
       "    <tr>\n",
       "      <th>0</th>\n",
       "      <td>5935008</td>\n",
       "      <td>5935008</td>\n",
       "      <td>0</td>\n",
       "      <td>0</td>\n",
       "      <td>True</td>\n",
       "      <td>True</td>\n",
       "    </tr>\n",
       "    <tr>\n",
       "      <th>1</th>\n",
       "      <td>225013001</td>\n",
       "      <td>225013001</td>\n",
       "      <td>0</td>\n",
       "      <td>0</td>\n",
       "      <td>True</td>\n",
       "      <td>True</td>\n",
       "    </tr>\n",
       "    <tr>\n",
       "      <th>2</th>\n",
       "      <td>34000006</td>\n",
       "      <td>34000006</td>\n",
       "      <td>0</td>\n",
       "      <td>0</td>\n",
       "      <td>True</td>\n",
       "      <td>True</td>\n",
       "    </tr>\n",
       "    <tr>\n",
       "      <th>3</th>\n",
       "      <td>373265006</td>\n",
       "      <td>373265006</td>\n",
       "      <td>0</td>\n",
       "      <td>0</td>\n",
       "      <td>True</td>\n",
       "      <td>True</td>\n",
       "    </tr>\n",
       "    <tr>\n",
       "      <th>4</th>\n",
       "      <td>69805005</td>\n",
       "      <td>69805005</td>\n",
       "      <td>0</td>\n",
       "      <td>0</td>\n",
       "      <td>True</td>\n",
       "      <td>True</td>\n",
       "    </tr>\n",
       "  </tbody>\n",
       "</table>\n",
       "</div>"
      ],
      "text/plain": [
       "   General SNOMED ID  Specific SNOMED ID  Distance_Taxonomic  Distance_Full  \\\n",
       "0            5935008             5935008                   0              0   \n",
       "1          225013001           225013001                   0              0   \n",
       "2           34000006            34000006                   0              0   \n",
       "3          373265006           373265006                   0              0   \n",
       "4           69805005            69805005                   0              0   \n",
       "\n",
       "   Ancestry_Taxonomic  Ancestry_Full  \n",
       "0                True           True  \n",
       "1                True           True  \n",
       "2                True           True  \n",
       "3                True           True  \n",
       "4                True           True  "
      ]
     },
     "execution_count": 33,
     "metadata": {},
     "output_type": "execute_result"
    }
   ],
   "source": [
    "concept_pairs = pd.DataFrame(\n",
    "    [[x, y] for (x, y) in\n",
    "    concept_pairs.index.values], columns=['General SNOMED ID', 'Specific SNOMED ID'])\n",
    "\n",
    "concept_pairs['Distance_Taxonomic'] = concept_pairs.apply(\n",
    "    lambda x: snomed_taxonomy.safe_distance(x['General SNOMED ID'], x[\n",
    "        'Specific SNOMED ID']),\n",
    "    axis=1)\n",
    "concept_pairs['Distance_Full'] = concept_pairs.apply(\n",
    "    lambda x: snomed_all.safe_distance(x['General SNOMED ID'], x[\n",
    "        'Specific SNOMED ID']),\n",
    "    axis=1)\n",
    "concept_pairs['Ancestry_Taxonomic'] = concept_pairs.apply(\n",
    "    lambda x: snomed_taxonomy.is_ancestor(x['General SNOMED ID'], x[\n",
    "        'Specific SNOMED ID']),\n",
    "    axis=1)\n",
    "concept_pairs['Ancestry_Full'] = concept_pairs.apply(\n",
    "    lambda x: snomed_all.is_ancestor(x['General SNOMED ID'], x[\n",
    "        'Specific SNOMED ID']),\n",
    "    axis=1)\n",
    "concept_pairs.head()"
   ]
  },
  {
   "cell_type": "code",
   "execution_count": 34,
   "metadata": {},
   "outputs": [
    {
     "name": "stdout",
     "output_type": "stream",
     "text": [
      "Of        20015 examples,\n",
      "There are   930 examples a with a different Specific SNOMED ID (4.65%)\n",
      "Of these,   411 are descendant of the General ID in the taxonomy(44.19%)\n",
      "      and   520 aren't (55.91%);\n",
      "            579 have a path to the General ID in the full graph(62.26%)\n",
      "      and   358 haven't (38.49%)\n",
      "\n"
     ]
    }
   ],
   "source": [
    "has_specific = len(\n",
    "    terms.loc[terms['General SNOMED ID'] != terms['Specific SNOMED ID']])\n",
    "\n",
    "specific_is_descendant = len(terms.loc[terms.Distance_Taxonomic > 0])\n",
    "specific_is_not_descendant = len(terms.loc[~terms.Ancestry_Taxonomic])\n",
    "specific_has_path = len(terms.loc[terms.Distance_Full > 0])\n",
    "specific_has_not_path = len(terms.loc[~terms.Ancestry_Full])\n",
    "\n",
    "print(\n",
    "    f'Of        {len(terms):5.0f} examples,\\n'\n",
    "    f'There are {has_specific:5.0f} examples a with a different Specific SNOMED ID '\n",
    "    f'({100*has_specific/len(terms):0.2f}%)\\n'\n",
    "    f'Of these, {specific_is_descendant:5.0f} are descendant of the General ID in the taxonomy'\n",
    "    f'({100*specific_is_descendant/has_specific:0.2f}%)\\n'\n",
    "    f'      and {specific_is_not_descendant:5.0f} aren\\'t '\n",
    "    f'({100*specific_is_not_descendant/has_specific:0.2f}%);\\n'\n",
    "    f'          {specific_has_path:5.0f} have a path to the General ID in the full graph'\n",
    "    f'({100*specific_has_path/has_specific:0.2f}%)\\n'\n",
    "    f'      and {specific_has_not_path:5.0f} haven\\'t '\n",
    "    f'({100*specific_has_not_path/has_specific:0.2f}%)\\n')"
   ]
  },
  {
   "cell_type": "code",
   "execution_count": 35,
   "metadata": {},
   "outputs": [
    {
     "name": "stdout",
     "output_type": "stream",
     "text": [
      "Of         4208 concepts,\n",
      "There are   574 concepts with a different Specific SNOMED ID (13.64%)\n",
      "Of these,   261 have a path to the General ID in the taxonomy(45.47%)\n",
      "      and   314 aren't (54.70%);\n",
      "            362 have a path to the General ID in the full graph(63.07%)\n",
      "      and   217 haven't (37.80%)\n",
      "\n"
     ]
    }
   ],
   "source": [
    "has_specific = len(concept_pairs.loc[concept_pairs['General SNOMED ID'] != concept_pairs['Specific SNOMED ID']])\n",
    "\n",
    "specific_is_descendant = len(concept_pairs.loc[concept_pairs.Distance_Taxonomic > 0])\n",
    "specific_is_not_descendant = len(concept_pairs.loc[~concept_pairs.Ancestry_Taxonomic])\n",
    "specific_has_path = len(concept_pairs.loc[concept_pairs.Distance_Full > 0])\n",
    "specific_has_not_path = len(concept_pairs.loc[~concept_pairs.Ancestry_Full])\n",
    "\n",
    "print(\n",
    "    f'Of        {len(concept_pairs):5.0f} concepts,\\n'\n",
    "    f'There are {has_specific:5.0f} concepts with a different Specific SNOMED ID '\n",
    "    f'({100*has_specific/len(concept_pairs):0.2f}%)\\n'\n",
    "    f'Of these, {specific_is_descendant:5.0f} have a path to the General ID in the taxonomy'\n",
    "    f'({100*specific_is_descendant/has_specific:0.2f}%)\\n'\n",
    "    f'      and {specific_is_not_descendant:5.0f} aren\\'t '\n",
    "    f'({100*specific_is_not_descendant/has_specific:0.2f}%);\\n'\n",
    "    f'          {specific_has_path:5.0f} have a path to the General ID in the full graph'\n",
    "    f'({100*specific_has_path/has_specific:0.2f}%)\\n'\n",
    "    f'      and {specific_has_not_path:5.0f} haven\\'t '\n",
    "    f'({100*specific_has_not_path/has_specific:0.2f}%)\\n')\n"
   ]
  },
  {
   "cell_type": "code",
   "execution_count": 36,
   "metadata": {
    "scrolled": false
   },
   "outputs": [
    {
     "data": {
      "image/png": "[encoded data removed]",
      "text/plain": [
       "<Figure size 864x432 with 1 Axes>"
      ]
     },
     "metadata": {},
     "output_type": "display_data"
    }
   ],
   "source": [
    "plt.figure(figsize=FIGSIZE)\n",
    "ax = sns.countplot(x = terms.Distance_Taxonomic)\n",
    "ax.set_title('Distance from Specific to General Snomed ID (taxonomy),\\nby sample',\n",
    "             **TITLE_ARGS)\n",
    "ax.set_xticklabels(['No Path', 'General\\n=\\nSpecific'] + list(range(1,8)))\n",
    "ax.set_yscale(\"log\")\n",
    "plt.show()"
   ]
  },
  {
   "cell_type": "code",
   "execution_count": 37,
   "metadata": {
    "scrolled": false
   },
   "outputs": [
    {
     "data": {
      "image/png": "[encoded data removed]",
      "text/plain": [
       "<Figure size 864x432 with 1 Axes>"
      ]
     },
     "metadata": {},
     "output_type": "display_data"
    }
   ],
   "source": [
    "plt.figure(figsize=FIGSIZE)\n",
    "ax = sns.countplot(x = terms.Distance_Full)\n",
    "ax.set_title('Distance from Specific to General Snomed ID (full SNOMED),\\nby example',\n",
    "             **TITLE_ARGS)\n",
    "ax.set_xticklabels(['No Path', 'General\\n=\\nSpecific'] + list(range(1,8)))\n",
    "ax.set_yscale(\"log\")\n",
    "plt.show()"
   ]
  },
  {
   "cell_type": "code",
   "execution_count": 38,
   "metadata": {
    "scrolled": true
   },
   "outputs": [
    {
     "data": {
      "image/png": "[encoded data removed]",
      "text/plain": [
       "<Figure size 864x432 with 1 Axes>"
      ]
     },
     "metadata": {},
     "output_type": "display_data"
    }
   ],
   "source": [
    "plt.figure(figsize=FIGSIZE)\n",
    "ax = sns.countplot(x = concept_pairs.Distance_Taxonomic)\n",
    "ax.set_title('Distance from Specific to General Snomed ID (taxonomy),\\nby unique concept',\n",
    "             **TITLE_ARGS)\n",
    "ax.set_xticklabels(['No Path', 'General\\n=\\nSpecific'] + list(range(1,8)))\n",
    "ax.set_yscale(\"log\")\n",
    "plt.show()"
   ]
  },
  {
   "cell_type": "code",
   "execution_count": 39,
   "metadata": {
    "scrolled": false
   },
   "outputs": [
    {
     "data": {
      "image/png": "[encoded data removed]",
      "text/plain": [
       "<Figure size 864x432 with 1 Axes>"
      ]
     },
     "metadata": {},
     "output_type": "display_data"
    }
   ],
   "source": [
    "plt.figure(figsize=FIGSIZE)\n",
    "ax = sns.countplot(x = concept_pairs.Distance_Full)\n",
    "ax.set_title('Distance from Specific to General Snomed ID (full SNOMED),\\nby unique concept',\n",
    "             **TITLE_ARGS)\n",
    "ax.set_xticklabels(['No Path', 'General\\n=\\nSpecific'] + list(range(1,8)))\n",
    "ax.set_yscale(\"log\")\n",
    "plt.show()"
   ]
  }
 ],
 "metadata": {
  "kernelspec": {
   "display_name": "Python 3",
   "language": "python",
   "name": "python3"
  },
  "language_info": {
   "codemirror_mode": {
    "name": "ipython",
    "version": 3
   },
   "file_extension": ".py",
   "mimetype": "text/x-python",
   "name": "python",
   "nbconvert_exporter": "python",
   "pygments_lexer": "ipython3",
   "version": "3.7.3"
  },
  "toc": {
   "base_numbering": 1,
   "nav_menu": {},
   "number_sections": true,
   "sideBar": true,
   "skip_h1_title": false,
   "title_cell": "Table of Contents",
   "title_sidebar": "Contents",
   "toc_cell": false,
   "toc_position": {
    "height": "calc(100% - 180px)",
    "left": "10px",
    "top": "150px",
    "width": "307.2px"
   },
   "toc_section_display": true,
   "toc_window_display": false
  },
  "varInspector": {
   "cols": {
    "lenName": 16,
    "lenType": 16,
    "lenVar": 40
   },
   "kernels_config": {
    "python": {
     "delete_cmd_postfix": "",
     "delete_cmd_prefix": "del ",
     "library": "var_list.py",
     "varRefreshCmd": "print(var_dic_list())"
    },
    "r": {
     "delete_cmd_postfix": ") ",
     "delete_cmd_prefix": "rm(",
     "library": "var_list.r",
     "varRefreshCmd": "cat(var_dic_list()) "
    }
   },
   "types_to_exclude": [
    "module",
    "function",
    "builtin_function_or_method",
    "instance",
    "_Feature"
   ],
   "window_display": false
  }
 },
 "nbformat": 4,
 "nbformat_minor": 4
}
